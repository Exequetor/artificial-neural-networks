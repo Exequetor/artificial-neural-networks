{
 "cells": [
  {
   "cell_type": "markdown",
   "metadata": {},
   "source": [
    "# MLP con back propagation utilizando 3 capas\n",
    "### Carlos Hernández Montellano\n",
    "### 1002-A.\n",
    "### Redes neuronales"
   ]
  },
  {
   "cell_type": "code",
   "execution_count": 27,
   "metadata": {},
   "outputs": [],
   "source": [
    "import numpy as np\n",
    "from sklearn import datasets\n",
    "from sklearn.preprocessing import MinMaxScaler\n",
    "from sklearn.metrics import confusion_matrix\n",
    "\n",
    "import matplotlib.pyplot as plt\n",
    "%matplotlib inline\n",
    "\n"
   ]
  },
  {
   "cell_type": "code",
   "execution_count": 3,
   "metadata": {},
   "outputs": [],
   "source": [
    "datos = datasets.load_iris()"
   ]
  },
  {
   "cell_type": "code",
   "execution_count": 4,
   "metadata": {},
   "outputs": [],
   "source": [
    "X = datos.data"
   ]
  },
  {
   "cell_type": "code",
   "execution_count": 5,
   "metadata": {},
   "outputs": [],
   "source": [
    "Y = datos.target"
   ]
  },
  {
   "cell_type": "code",
   "execution_count": 6,
   "metadata": {},
   "outputs": [],
   "source": [
    "def oneHot(y, numElem, numClases):\n",
    "    resp = np.zeros( [numElem, numClases])\n",
    "    for i in np.arange(numClases):               \n",
    "        resp[:,i] = (y==i)*1\n",
    "        \n",
    "    return resp"
   ]
  },
  {
   "cell_type": "code",
   "execution_count": 7,
   "metadata": {},
   "outputs": [],
   "source": [
    "Yoh = oneHot(Y, Y.shape[0], Y.max()+1)"
   ]
  },
  {
   "cell_type": "code",
   "execution_count": 8,
   "metadata": {},
   "outputs": [
    {
     "name": "stdout",
     "output_type": "stream",
     "text": [
      "[[1. 0. 0.]\n",
      " [1. 0. 0.]\n",
      " [0. 1. 0.]\n",
      " [0. 1. 0.]\n",
      " [0. 0. 1.]\n",
      " [0. 0. 1.]]\n"
     ]
    }
   ],
   "source": [
    "# cada 25 elementos, dan en total 2 de cada clase = 6 elementos.\n",
    "print (Yoh[0:150:25])"
   ]
  },
  {
   "cell_type": "code",
   "execution_count": 9,
   "metadata": {},
   "outputs": [
    {
     "data": {
      "text/plain": [
       "(150, 4)"
      ]
     },
     "execution_count": 9,
     "metadata": {},
     "output_type": "execute_result"
    }
   ],
   "source": [
    "X.shape"
   ]
  },
  {
   "cell_type": "code",
   "execution_count": 10,
   "metadata": {},
   "outputs": [],
   "source": [
    "#instancia de MinMaxScaler\n",
    "mms = MinMaxScaler()"
   ]
  },
  {
   "cell_type": "code",
   "execution_count": 11,
   "metadata": {},
   "outputs": [],
   "source": [
    "Xs = mms.fit_transform(X)"
   ]
  },
  {
   "cell_type": "code",
   "execution_count": 12,
   "metadata": {},
   "outputs": [
    {
     "data": {
      "text/plain": [
       "array([[0.22222222, 0.625     , 0.06779661, 0.04166667],\n",
       "       [0.19444444, 0.41666667, 0.10169492, 0.04166667],\n",
       "       [0.75      , 0.5       , 0.62711864, 0.54166667],\n",
       "       [0.63888889, 0.41666667, 0.57627119, 0.54166667],\n",
       "       [0.55555556, 0.54166667, 0.84745763, 1.        ],\n",
       "       [0.80555556, 0.5       , 0.84745763, 0.70833333]])"
      ]
     },
     "execution_count": 12,
     "metadata": {},
     "output_type": "execute_result"
    }
   ],
   "source": [
    "Xs[0:150:25]"
   ]
  },
  {
   "cell_type": "code",
   "execution_count": 13,
   "metadata": {},
   "outputs": [],
   "source": [
    "#features en X \n",
    "numX = 4 \n",
    "# num de neuronas en la capa oculta (H)\n",
    "numH = 3\n",
    "# num de neuronas de salida\n",
    "numS = 3"
   ]
  },
  {
   "cell_type": "code",
   "execution_count": 14,
   "metadata": {},
   "outputs": [],
   "source": [
    "class Capa():\n",
    "    def __init__(self, numEntradas, numSalidas):\n",
    "        self.pesos = np.random.uniform(low=-0.1, high=0.1, size=[numEntradas, numSalidas])"
   ]
  },
  {
   "cell_type": "code",
   "execution_count": 15,
   "metadata": {},
   "outputs": [
    {
     "data": {
      "text/plain": [
       "array([[-1.27629540e-05, -7.37326578e-02,  8.25204864e-02],\n",
       "       [-2.73472959e-02,  6.88091950e-02, -9.88592064e-02],\n",
       "       [ 1.58365129e-02, -1.13368510e-02, -5.72130317e-02],\n",
       "       [-4.15707286e-02, -3.70610014e-02, -4.62144870e-03],\n",
       "       [-1.69624551e-03,  8.59427385e-02, -2.24620821e-02]])"
      ]
     },
     "execution_count": 15,
     "metadata": {},
     "output_type": "execute_result"
    }
   ],
   "source": [
    "#probando la clase\n",
    "t = Capa(5,3)\n",
    "t.pesos"
   ]
  },
  {
   "cell_type": "code",
   "execution_count": 16,
   "metadata": {},
   "outputs": [],
   "source": [
    "class MLP():\n",
    "    def __init__(self, capa1, capa2, capa3, debug):\n",
    "        self.capa1 = capa1\n",
    "        self.capa2 = capa2\n",
    "        self.capa3 = capa3\n",
    "        self.debug = debug #para mostrar o no valores \n",
    "        \n",
    "    def sigmoide(self, x):\n",
    "        return 1/(1+np.exp(-x))\n",
    "        \n",
    "    def derSigmoide(self, x):\n",
    "        return x*(1-x)\n",
    "        \n",
    "    def evaluar(self, entrada):\n",
    "        self.yh1 = self.sigmoide( entrada.dot (self.capa1.pesos) )\n",
    "        self.yh2 = self.sigmoide( self.yh1.dot(self.capa2.pesos) )\n",
    "        self.yh3 = self.sigmoide( self.yh2.dot(self.capa3.pesos) )\n",
    "        #if(self.debug):\n",
    "        #    print(\"y1 = {} \\ny2 = {} \\n\".format(self.yh1, self.yh2))\n",
    "        return self.yh1,self.yh2, self.yh3\n",
    "    \n",
    "    def mostrarPesos(self):\n",
    "        print(\"c1 = \\n{}\\n\".format(self.capa1.pesos))\n",
    "        print(\"c2 = \\n{}\\n\".format(self.capa2.pesos))\n",
    "        print(\"c3 = \\n{}\\n\".format(self.capa3.pesos))\n",
    "        \n",
    "    # X entrada\n",
    "    # Y salida\n",
    "    # numIter = numero de iteraciones\n",
    "    def entrenar(self, numIter, X, Y, n):\n",
    "        \n",
    "        for i in np.arange(numIter):\n",
    "            if(self.debug):\n",
    "                print(\"Iteración {}\\n\".format(i))\n",
    "            \n",
    "            y1, y2, y3 = self.evaluar(X)\n",
    "            \n",
    "            if(i==0 and self.debug):\n",
    "                print(\"X.shape = {} Y.shape = {}\".format(X.shape, Y.shape))\n",
    "                print(\"y1.shape = {} y2.shape = {} y3.shape = {}\".format(y1.shape, y2.shape, y3.shape))\n",
    "            \n",
    "            # error en capa de salida\n",
    "            e3 = Y-y3\n",
    "            \n",
    "            #delta2\n",
    "            d3 = e3 * self.derSigmoide(y3)\n",
    "            \n",
    "            if(i==0 and self.debug):\n",
    "                print(\"e3.shape = {} d3.shape = {}\".format(e3.shape, d3.shape))\n",
    "            \n",
    "            e2 = d3.dot(self.capa3.pesos.T)\n",
    "            d2 = e2 * self.derSigmoide(y2)\n",
    "            \n",
    "            e1 = d2.dot(self.capa2.pesos.T)\n",
    "            d1 = e1 * self.derSigmoide(y1)\n",
    "\n",
    "            if(i==0 and self.debug):\n",
    "                print(\"e1.shape = {} d1.shape = {}\".format(e1.shape, d1.shape))\n",
    "                \n",
    "            ajuste1 = X.T.dot(d1)\n",
    "            ajuste2 = y1.T.dot(d2)\n",
    "            ajuste3 = y2.T.dot(d3)\n",
    "            \n",
    "            if(i==0 and self.debug):\n",
    "                print(\"aj1.shape = {} aj2.shape = {}\".format(ajuste1.shape, ajuste2.shape))\n",
    "            self.capa1.pesos += n*ajuste1\n",
    "            self.capa2.pesos += n*ajuste2\n",
    "            self.capa3.pesos += n*ajuste3\n",
    "            "
   ]
  },
  {
   "cell_type": "code",
   "execution_count": 29,
   "metadata": {},
   "outputs": [
    {
     "name": "stdout",
     "output_type": "stream",
     "text": [
      "0.9333333333333333\n",
      "0.92\n",
      "0.86\n",
      "0.9133333333333333\n",
      "0.92\n",
      "0.9133333333333333\n",
      "0.94\n",
      "0.9066666666666666\n",
      "0.9333333333333333\n",
      "0.8333333333333334\n",
      "0.88\n",
      "0.9333333333333333\n",
      "0.9466666666666667\n",
      "0.88\n",
      "0.9333333333333333\n",
      "0.8933333333333333\n",
      "0.92\n",
      "0.9133333333333333\n",
      "0.9533333333333334\n",
      "0.9266666666666666\n",
      "0.9333333333333333\n",
      "0.9266666666666666\n",
      "0.9533333333333334\n",
      "0.9733333333333334\n",
      "0.8933333333333333\n",
      "0.9666666666666667\n",
      "0.9666666666666667\n",
      "0.96\n",
      "0.96\n",
      "0.9466666666666667\n",
      "0.9133333333333333\n",
      "0.9533333333333334\n",
      "0.9333333333333333\n",
      "0.92\n",
      "0.9666666666666667\n",
      "0.9666666666666667\n",
      "0.96\n",
      "0.9533333333333334\n",
      "0.9533333333333334\n",
      "0.9733333333333334\n",
      "0.9666666666666667\n",
      "0.9666666666666667\n",
      "0.9666666666666667\n",
      "0.9666666666666667\n",
      "0.9666666666666667\n",
      "0.98\n",
      "0.9666666666666667\n",
      "0.94\n",
      "0.9333333333333333\n",
      "\n",
      "Mejor accuracy = 0.980000, mejor n1 = 16, mejor n2 = 13\n"
     ]
    }
   ],
   "source": [
    "bestN1 = 10\n",
    "bestN2 = 10\n",
    "bestAcc = 0.0\n",
    "# Probando diferentes configuraciones de números de neuronas por capa\n",
    "for n1 in range (10, 17):\n",
    "    for n2 in range (10, 17):\n",
    "        # Creando las capas de neuronas\n",
    "        c1 = Capa(4,n1)\n",
    "        c2 = Capa(n1,n2)\n",
    "        c3 = Capa(n2,3)\n",
    "        \n",
    "        # Declaración de la red multicapa\n",
    "        red = MLP(c1,c2,c3, False)\n",
    "        \n",
    "        # Entrenamiento de la red\n",
    "        red.entrenar(500, Xs, Yoh, 0.05)\n",
    "        \n",
    "        # Evaluación del dataset de acuerdo con el entrenamiento\n",
    "        y1, y2, y3 = red.evaluar(Xs)\n",
    "        r = np.array([])\n",
    "        for i in np.arange(150):\n",
    "            r = np.append(r,np.argmax(y3[i]))\n",
    "        \n",
    "        # Accuracy\n",
    "        acc = ((Y==r)*1).sum()/150\n",
    "        print(acc)\n",
    "        if (bestAcc < acc):\n",
    "            bestAcc = acc\n",
    "            bestN1 = n1\n",
    "            bestN2 = n2\n",
    "            bestR = r\n",
    "            \n",
    "print(\"\\nMejor accuracy = %f, mejor n1 = %d, mejor n2 = %d\" % (bestAcc, bestN1, bestN2))\n",
    "        "
   ]
  },
  {
   "cell_type": "code",
   "execution_count": 30,
   "metadata": {},
   "outputs": [
    {
     "data": {
      "text/plain": [
       "140"
      ]
     },
     "execution_count": 30,
     "metadata": {},
     "output_type": "execute_result"
    }
   ],
   "source": [
    "((Y==r)*1).sum()"
   ]
  },
  {
   "cell_type": "code",
   "execution_count": 31,
   "metadata": {},
   "outputs": [
    {
     "data": {
      "text/plain": [
       "array([[50,  0,  0],\n",
       "       [ 0, 50, 10],\n",
       "       [ 0,  0, 40]], dtype=int64)"
      ]
     },
     "execution_count": 31,
     "metadata": {},
     "output_type": "execute_result"
    }
   ],
   "source": [
    "confusion_matrix(r, Y)"
   ]
  },
  {
   "cell_type": "code",
   "execution_count": 32,
   "metadata": {},
   "outputs": [],
   "source": [
    "import mlxtend.data as mlxData\n",
    "X, Y = mlxData.mnist_data()"
   ]
  },
  {
   "cell_type": "code",
   "execution_count": 33,
   "metadata": {},
   "outputs": [
    {
     "data": {
      "image/png": "[encoded data removed]",
      "text/plain": [
       "<Figure size 720x432 with 20 Axes>"
      ]
     },
     "metadata": {
      "needs_background": "light"
     },
     "output_type": "display_data"
    }
   ],
   "source": [
    "plt.rcParams[\"figure.figsize\"] = (10,6)\n",
    "plt.subplots_adjust(wspace = 1.5)\n",
    "\n",
    "for i in np.arange(0,20):\n",
    "    indx = i*250\n",
    "    img = X[indx].reshape(28,28)\n",
    "    plt.subplot(4,5,i+1)\n",
    "    plt.title(\"Etq=\"+ str(Y[indx]))\n",
    "    plt.imshow(img)"
   ]
  },
  {
   "cell_type": "code",
   "execution_count": 34,
   "metadata": {},
   "outputs": [],
   "source": [
    "import sklearn.preprocessing as prep "
   ]
  },
  {
   "cell_type": "code",
   "execution_count": 35,
   "metadata": {},
   "outputs": [],
   "source": [
    "mms = prep.MinMaxScaler()\n",
    "Xs = mms.fit_transform(X)"
   ]
  },
  {
   "cell_type": "code",
   "execution_count": 36,
   "metadata": {},
   "outputs": [],
   "source": [
    "Yoh = oneHot(Y, Y.shape[0], Y.max()+1)"
   ]
  },
  {
   "cell_type": "code",
   "execution_count": 37,
   "metadata": {},
   "outputs": [
    {
     "name": "stdout",
     "output_type": "stream",
     "text": [
      "[[1. 0. 0. 0. 0. 0. 0. 0. 0. 0.]\n",
      " [0. 1. 0. 0. 0. 0. 0. 0. 0. 0.]\n",
      " [0. 0. 1. 0. 0. 0. 0. 0. 0. 0.]\n",
      " [0. 0. 0. 1. 0. 0. 0. 0. 0. 0.]\n",
      " [0. 0. 0. 0. 1. 0. 0. 0. 0. 0.]\n",
      " [0. 0. 0. 0. 0. 1. 0. 0. 0. 0.]\n",
      " [0. 0. 0. 0. 0. 0. 1. 0. 0. 0.]\n",
      " [0. 0. 0. 0. 0. 0. 0. 1. 0. 0.]\n",
      " [0. 0. 0. 0. 0. 0. 0. 0. 1. 0.]\n",
      " [0. 0. 0. 0. 0. 0. 0. 0. 0. 1.]]\n"
     ]
    }
   ],
   "source": [
    "# cada 25 elementos, dan en total 2 de cada clase = 6 elementos.\n",
    "print (Yoh[0:5000:500])"
   ]
  },
  {
   "cell_type": "code",
   "execution_count": 38,
   "metadata": {},
   "outputs": [
    {
     "data": {
      "text/plain": [
       "25.0"
      ]
     },
     "execution_count": 38,
     "metadata": {},
     "output_type": "execute_result"
    }
   ],
   "source": [
    "num_parts = 20\n",
    "inc = 5000/num_parts/10\n",
    "inc"
   ]
  },
  {
   "cell_type": "code",
   "execution_count": 44,
   "metadata": {},
   "outputs": [
    {
     "name": "stdout",
     "output_type": "stream",
     "text": [
      "0.3808\n",
      "0.3046\n",
      "0.4304\n",
      "0.4238\n",
      "0.4842\n",
      "0.46\n",
      "0.4012\n",
      "0.4272\n",
      "0.4488\n",
      "0.408\n",
      "0.5232\n",
      "0.4908\n",
      "0.3892\n",
      "0.5588\n",
      "0.4124\n",
      "0.4818\n",
      "0.522\n",
      "0.4794\n",
      "0.4678\n"
     ]
    },
    {
     "ename": "KeyboardInterrupt",
     "evalue": "",
     "output_type": "error",
     "traceback": [
      "\u001b[1;31m---------------------------------------------------------------------------\u001b[0m",
      "\u001b[1;31mKeyboardInterrupt\u001b[0m                         Traceback (most recent call last)",
      "\u001b[1;32m<ipython-input-44-a87f13b1bb01>\u001b[0m in \u001b[0;36m<module>\u001b[1;34m\u001b[0m\n\u001b[0;32m     23\u001b[0m                 \u001b[1;31m#print(\" {} --> {}\".format(500*ii+ini,500*ii+ ini+inc))\u001b[0m\u001b[1;33m\u001b[0m\u001b[1;33m\u001b[0m\u001b[1;33m\u001b[0m\u001b[0m\n\u001b[0;32m     24\u001b[0m             \u001b[0mindices\u001b[0m \u001b[1;33m=\u001b[0m \u001b[0mindices\u001b[0m\u001b[1;33m.\u001b[0m\u001b[0mastype\u001b[0m\u001b[1;33m(\u001b[0m\u001b[0mnp\u001b[0m\u001b[1;33m.\u001b[0m\u001b[0mint\u001b[0m\u001b[1;33m)\u001b[0m\u001b[1;33m\u001b[0m\u001b[1;33m\u001b[0m\u001b[0m\n\u001b[1;32m---> 25\u001b[1;33m             \u001b[0mred\u001b[0m\u001b[1;33m.\u001b[0m\u001b[0mentrenar\u001b[0m\u001b[1;33m(\u001b[0m\u001b[1;36m5\u001b[0m\u001b[1;33m,\u001b[0m \u001b[0mXs\u001b[0m\u001b[1;33m[\u001b[0m\u001b[0mindices\u001b[0m\u001b[1;33m]\u001b[0m\u001b[1;33m,\u001b[0m \u001b[0mYoh\u001b[0m\u001b[1;33m[\u001b[0m\u001b[0mindices\u001b[0m\u001b[1;33m]\u001b[0m\u001b[1;33m,\u001b[0m \u001b[1;36m0.00005\u001b[0m\u001b[1;33m)\u001b[0m\u001b[1;33m\u001b[0m\u001b[1;33m\u001b[0m\u001b[0m\n\u001b[0m\u001b[0;32m     26\u001b[0m \u001b[1;33m\u001b[0m\u001b[0m\n\u001b[0;32m     27\u001b[0m         \u001b[1;31m# Evaluación del dataset de acuerdo con el entrenamiento\u001b[0m\u001b[1;33m\u001b[0m\u001b[1;33m\u001b[0m\u001b[1;33m\u001b[0m\u001b[0m\n",
      "\u001b[1;32m<ipython-input-16-8393f662134f>\u001b[0m in \u001b[0;36mentrenar\u001b[1;34m(self, numIter, X, Y, n)\u001b[0m\n\u001b[0;32m     58\u001b[0m                 \u001b[0mprint\u001b[0m\u001b[1;33m(\u001b[0m\u001b[1;34m\"e1.shape = {} d1.shape = {}\"\u001b[0m\u001b[1;33m.\u001b[0m\u001b[0mformat\u001b[0m\u001b[1;33m(\u001b[0m\u001b[0me1\u001b[0m\u001b[1;33m.\u001b[0m\u001b[0mshape\u001b[0m\u001b[1;33m,\u001b[0m \u001b[0md1\u001b[0m\u001b[1;33m.\u001b[0m\u001b[0mshape\u001b[0m\u001b[1;33m)\u001b[0m\u001b[1;33m)\u001b[0m\u001b[1;33m\u001b[0m\u001b[1;33m\u001b[0m\u001b[0m\n\u001b[0;32m     59\u001b[0m \u001b[1;33m\u001b[0m\u001b[0m\n\u001b[1;32m---> 60\u001b[1;33m             \u001b[0majuste1\u001b[0m \u001b[1;33m=\u001b[0m \u001b[0mX\u001b[0m\u001b[1;33m.\u001b[0m\u001b[0mT\u001b[0m\u001b[1;33m.\u001b[0m\u001b[0mdot\u001b[0m\u001b[1;33m(\u001b[0m\u001b[0md1\u001b[0m\u001b[1;33m)\u001b[0m\u001b[1;33m\u001b[0m\u001b[1;33m\u001b[0m\u001b[0m\n\u001b[0m\u001b[0;32m     61\u001b[0m             \u001b[0majuste2\u001b[0m \u001b[1;33m=\u001b[0m \u001b[0my1\u001b[0m\u001b[1;33m.\u001b[0m\u001b[0mT\u001b[0m\u001b[1;33m.\u001b[0m\u001b[0mdot\u001b[0m\u001b[1;33m(\u001b[0m\u001b[0md2\u001b[0m\u001b[1;33m)\u001b[0m\u001b[1;33m\u001b[0m\u001b[1;33m\u001b[0m\u001b[0m\n\u001b[0;32m     62\u001b[0m             \u001b[0majuste3\u001b[0m \u001b[1;33m=\u001b[0m \u001b[0my2\u001b[0m\u001b[1;33m.\u001b[0m\u001b[0mT\u001b[0m\u001b[1;33m.\u001b[0m\u001b[0mdot\u001b[0m\u001b[1;33m(\u001b[0m\u001b[0md3\u001b[0m\u001b[1;33m)\u001b[0m\u001b[1;33m\u001b[0m\u001b[1;33m\u001b[0m\u001b[0m\n",
      "\u001b[1;31mKeyboardInterrupt\u001b[0m: "
     ]
    }
   ],
   "source": [
    "numIters = 500\n",
    "\n",
    "bestN1 = 600\n",
    "bestN2 = 600\n",
    "bestAcc = 0.0\n",
    "# Probando diferentes configuraciones de números de neuronas por capa\n",
    "for n1 in range (600, 1101, 100):\n",
    "    for n2 in range (600, 1101, 100):\n",
    "        # Creando las capas de neuronas\n",
    "        c1 = Capa(784,n1)\n",
    "        c2 = Capa(n1,n2)\n",
    "        c3 = Capa(n2,10)\n",
    "        \n",
    "        # Declaración de la red multicapa\n",
    "        red = MLP(c1,c2,c3, False)\n",
    "        \n",
    "        # Entrenamiento de la red\n",
    "        for i in np.arange(numIters):\n",
    "            ini = (i%num_parts)*inc\n",
    "            indices = np.array([])\n",
    "            for ii in np.arange(10):\n",
    "                indices = np.append(indices,  500*ii+np.arange(ini, ini+inc) )\n",
    "                #print(\" {} --> {}\".format(500*ii+ini,500*ii+ ini+inc))\n",
    "            indices = indices.astype(np.int)\n",
    "            red.entrenar(5, Xs[indices], Yoh[indices], 0.00005)\n",
    "        \n",
    "        # Evaluación del dataset de acuerdo con el entrenamiento\n",
    "        y1, y2, y3 = red.evaluar(Xs)\n",
    "        r = np.array([])\n",
    "        for i in np.arange(5000):\n",
    "            r = np.append(r,np.argmax(y3[i]))\n",
    "        \n",
    "        # Accuracy\n",
    "        acc = ((Y==r)*1).sum()/5000\n",
    "        print(acc)\n",
    "        if (bestAcc < acc):\n",
    "            bestAcc = acc\n",
    "            bestN1 = n1\n",
    "            bestN2 = n2\n",
    "            bestR = r\n",
    "            \n",
    "print(\"\\nMejor accuracy = %f, mejor n1 = %d, mejor n2 = %d\" % (bestAcc, bestN1, bestN2))\n",
    "        \n"
   ]
  },
  {
   "cell_type": "code",
   "execution_count": 46,
   "metadata": {
    "scrolled": true
   },
   "outputs": [
    {
     "name": "stdout",
     "output_type": "stream",
     "text": [
      "\n",
      "Mejor accuracy = 0.558800, mejor n1 = 800, mejor n2 = 700\n"
     ]
    }
   ],
   "source": [
    "print(\"\\nMejor accuracy = %f, mejor n1 = %d, mejor n2 = %d\" % (bestAcc, bestN1, bestN2))"
   ]
  },
  {
   "cell_type": "code",
   "execution_count": 45,
   "metadata": {},
   "outputs": [
    {
     "data": {
      "text/plain": [
       "array([[468,   2,  37,  21,   3,  77,  13,   6,  25,  25],\n",
       "       [  3, 497, 125, 108,  71, 196,  65, 103, 272, 144],\n",
       "       [  1,   0, 235,   5,   6,   1,   1,   1,   8,   0],\n",
       "       [  5,   0,  40, 342,   0, 137,   2,   2, 105,   9],\n",
       "       [  0,   1,  16,   5, 366,  42,   4,  23,   8, 136],\n",
       "       [  0,   0,   0,   0,   0,   0,   0,   0,   0,   0],\n",
       "       [ 20,   0,  36,   7,  27,  34, 413,   7,  17,  11],\n",
       "       [  3,   0,  10,   1,  19,   4,   2, 353,   7, 103],\n",
       "       [  0,   0,   0,   0,   0,   3,   0,   0,  48,   0],\n",
       "       [  0,   0,   1,  11,   8,   6,   0,   5,  10,  72]], dtype=int64)"
      ]
     },
     "execution_count": 45,
     "metadata": {},
     "output_type": "execute_result"
    }
   ],
   "source": [
    "confusion_matrix(bestR, Y)"
   ]
  }
 ],
 "metadata": {
  "kernelspec": {
   "display_name": "Python 3",
   "language": "python",
   "name": "python3"
  },
  "language_info": {
   "codemirror_mode": {
    "name": "ipython",
    "version": 3
   },
   "file_extension": ".py",
   "mimetype": "text/x-python",
   "name": "python",
   "nbconvert_exporter": "python",
   "pygments_lexer": "ipython3",
   "version": "3.7.1"
  }
 },
 "nbformat": 4,
 "nbformat_minor": 2
}
