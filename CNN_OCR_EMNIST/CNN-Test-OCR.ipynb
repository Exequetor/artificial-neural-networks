{
 "cells": [
  {
   "cell_type": "markdown",
   "metadata": {},
   "source": [
    "# Prueba de OCR utilizando el modelo entrenado de la red neuronal convolucional.\n",
    "### Universidad Tecnológica de la Mixteca\n",
    "### Carlos Hernández Montellano\n",
    "### Ingeniería en Computación\n",
    "### 1002-A."
   ]
  },
  {
   "cell_type": "markdown",
   "metadata": {},
   "source": [
    "### Se importan las bibliotecas"
   ]
  },
  {
   "cell_type": "code",
   "execution_count": 6,
   "metadata": {},
   "outputs": [],
   "source": [
    "\n",
    "import numpy as np\n",
    "\n",
    "import tensorflow as tf\n",
    "import gc\n",
    "\n",
    "from tensorflow.python.client import device_lib\n",
    "from tensorflow import keras\n",
    "from tensorflow.keras.models import Sequential, model_from_json\n",
    "from tensorflow.keras.layers import Dense, Flatten, Conv2D, Dropout, MaxPooling2D, BatchNormalization\n",
    "from tensorflow.keras import backend\n",
    "\n",
    "from numba import cuda\n",
    "\n",
    "from sklearn.preprocessing import MinMaxScaler\n",
    "\n",
    "import pandas as pd\n",
    "\n",
    "from PIL import Image\n",
    "\n",
    "import matplotlib.pyplot as plt\n",
    "from matplotlib.ticker import MaxNLocator\n",
    "%matplotlib inline"
   ]
  },
  {
   "cell_type": "code",
   "execution_count": 2,
   "metadata": {},
   "outputs": [
    {
     "name": "stdout",
     "output_type": "stream",
     "text": [
      "[name: \"/device:CPU:0\"\n",
      "device_type: \"CPU\"\n",
      "memory_limit: 268435456\n",
      "locality {\n",
      "}\n",
      "incarnation: 6026847922748347658\n",
      ", name: \"/device:GPU:0\"\n",
      "device_type: \"GPU\"\n",
      "memory_limit: 1462163865\n",
      "locality {\n",
      "  bus_id: 1\n",
      "  links {\n",
      "  }\n",
      "}\n",
      "incarnation: 12293263642867963605\n",
      "physical_device_desc: \"device: 0, name: GeForce 930MX, pci bus id: 0000:01:00.0, compute capability: 5.0\"\n",
      "]\n"
     ]
    }
   ],
   "source": [
    "# Tensorflow revisa si existen GPU's para realizar el procesamiento en CUDA\n",
    "# En este caso una GeForce 930MX compatible con 384 CUDA Cores y 2 GB de VRAM dedicada\n",
    "# Si no se encuentran GPU's se usa el CPU\n",
    "print(device_lib.list_local_devices())"
   ]
  },
  {
   "cell_type": "code",
   "execution_count": 3,
   "metadata": {},
   "outputs": [],
   "source": [
    "# Se cargan los datos de test\n",
    "test_pd = pd.read_csv('emnist/emnist-balanced-test.csv')"
   ]
  },
  {
   "cell_type": "code",
   "execution_count": 4,
   "metadata": {},
   "outputs": [],
   "source": [
    "# Partición de los datos de las etiquetas y las imágenes\n",
    "test_data_pd = test_pd.iloc[:, 1:]\n",
    "test_labels_pd = test_pd.iloc[:, 0]"
   ]
  },
  {
   "cell_type": "code",
   "execution_count": 5,
   "metadata": {},
   "outputs": [],
   "source": [
    "# One hot encoder de Pandas\n",
    "test_labels_onehot_pd = pd.get_dummies(test_labels_pd)"
   ]
  },
  {
   "cell_type": "code",
   "execution_count": 6,
   "metadata": {},
   "outputs": [],
   "source": [
    "# Pasamos de pandas a numpy\n",
    "test_data = test_data_pd.values\n",
    "y_test = test_labels_onehot_pd.values"
   ]
  },
  {
   "cell_type": "code",
   "execution_count": 7,
   "metadata": {},
   "outputs": [],
   "source": [
    "# Borramos los datos de pandas para liberar memoria.\n",
    "del test_labels_onehot_pd, test_pd"
   ]
  },
  {
   "cell_type": "code",
   "execution_count": 8,
   "metadata": {},
   "outputs": [
    {
     "name": "stderr",
     "output_type": "stream",
     "text": [
      "C:\\ProgramData\\Anaconda3\\lib\\site-packages\\sklearn\\utils\\validation.py:595: DataConversionWarning: Data with input dtype int64 was converted to float64 by MinMaxScaler.\n",
      "  warnings.warn(msg, DataConversionWarning)\n"
     ]
    }
   ],
   "source": [
    "# Normalizamos datos\n",
    "mms = MinMaxScaler()\n",
    "x_test = mms.fit_transform(test_data)"
   ]
  },
  {
   "cell_type": "code",
   "execution_count": 9,
   "metadata": {},
   "outputs": [],
   "source": [
    "# Aplicamos reshape a los conuntos para que queden como matrices\n",
    "TEST_PATTERN_NUMBER = x_test.shape[0]\n",
    "x_test = x_test.reshape(TEST_PATTERN_NUMBER, 28, 28, 1)"
   ]
  },
  {
   "cell_type": "code",
   "execution_count": 10,
   "metadata": {},
   "outputs": [],
   "source": [
    "# Forma en que está organizados los targets del dataset.\n",
    "NUM_TARGETS = y_test.shape[1]\n",
    "LABELS = '0123456789ABCDEFGHIJKLMNOPQRSTUVWXYZabdefghnqrt'"
   ]
  },
  {
   "cell_type": "code",
   "execution_count": 11,
   "metadata": {},
   "outputs": [
    {
     "data": {
      "text/plain": [
       "((18799, 28, 28, 1), (18799, 47))"
      ]
     },
     "execution_count": 11,
     "metadata": {},
     "output_type": "execute_result"
    }
   ],
   "source": [
    "x_test.shape, y_test.shape"
   ]
  },
  {
   "cell_type": "markdown",
   "metadata": {},
   "source": [
    "### Definición de funciones"
   ]
  },
  {
   "cell_type": "code",
   "execution_count": 12,
   "metadata": {},
   "outputs": [],
   "source": [
    "# Función para evaluar el modelo con el conjunto de test\n",
    "def evaluate_model (model, test_x, test_y):\n",
    "    result = model.evaluate(test_x, test_y)\n",
    "    print(\"El accuracy del modelo es: \", result[1])\n",
    "    return result"
   ]
  },
  {
   "cell_type": "code",
   "execution_count": 8,
   "metadata": {},
   "outputs": [],
   "source": [
    "# Función para abrir las imágenes\n",
    "def open_image(name):\n",
    "    im = Image.open(name).convert('LA')\n",
    "    bg_colour = (255, 255, 255)\n",
    "    \n",
    "    # Procesar sólo si hay transparencia en la imagen\n",
    "    if im.mode in ('RGBA', 'LA') or (im.mode == 'P' and 'transparency' in im.info):\n",
    "\n",
    "        # Se necesita convertir a RGBA debido a un bug en PIL para el modo LA\n",
    "        alpha = im.convert('RGBA').split()[-1]\n",
    "\n",
    "        # Se crea un nuevo BG\n",
    "        # Debe convertirse a RGBA debido a que las dos imágenes deben ser del mismo formato\n",
    "\n",
    "        bg = Image.new(\"RGBA\", im.size, bg_colour + (255,))\n",
    "        bg.paste(im, mask=alpha)\n",
    "        no_trans = bg\n",
    "\n",
    "    else:\n",
    "        no_trans = im\n",
    "    \n",
    "    imagen = no_trans.convert('L')\n",
    "    numpy_array = np.asarray(imagen)\n",
    "    # Se normalizan los valores\n",
    "    img_normalizada = numpy_array/255\n",
    "    return img_normalizada"
   ]
  },
  {
   "cell_type": "code",
   "execution_count": 14,
   "metadata": {},
   "outputs": [],
   "source": [
    "# Función para obtener las letras contenidas en la imágen\n",
    "#Separación de lineas\n",
    "def get_characters(img, char_height, char_width):\n",
    "    text_lines = np.int(img.shape[0]/char_height)\n",
    "    chars_per_line = np.int(img.shape[1]/char_width)\n",
    "    char_array = np.array([]).reshape(-1, char_height, char_width)\n",
    "    for i in range(text_lines):\n",
    "        for j in range(chars_per_line):\n",
    "            char = img[i*char_height:i*char_height + char_height, j*char_width:j*char_width + char_width]\n",
    "            char_array = np.vstack([char_array, [char.T]])\n",
    "    return char_array"
   ]
  },
  {
   "cell_type": "code",
   "execution_count": 38,
   "metadata": {},
   "outputs": [],
   "source": [
    "# Función que genera el texto de salida según la predicción\n",
    "def decode_prediction(predict_array, characters, img, char_height, char_width):\n",
    "    str = ''\n",
    "    text_lines = np.int(img.shape[0]/char_height)\n",
    "    chars_per_line = np.int(img.shape[1]/char_width)\n",
    "    for i in range(text_lines):\n",
    "        for j in range(chars_per_line):\n",
    "            if(characters[i * chars_per_line + j].max() > 0.2):\n",
    "                str += LABELS[predict_array[i * chars_per_line + j]]\n",
    "            else:\n",
    "                str += ' '\n",
    "        str += '\\n'\n",
    "    return str"
   ]
  },
  {
   "cell_type": "code",
   "execution_count": 69,
   "metadata": {},
   "outputs": [],
   "source": [
    "# Función que evalúa el accuracy del clasificador\n",
    "def test_evaluator (predict_array, text, characters, img, char_height, char_width):\n",
    "    prediction_counter = 0\n",
    "    text_index = 0\n",
    "    \n",
    "    # Primero se quitan espacios y saltos de línea\n",
    "    letters = text.replace(\" \", \"\").replace(\"\\n\", \"\")\n",
    "    #Se sustituyen las minúsculas por mayúsculas, en cuyo target sólo\n",
    "    # existe su versión en mayúscula\n",
    "    letters = letters.replace(\"c\", \"C\")\n",
    "    letters = letters.replace(\"i\", \"I\")\n",
    "    letters = letters.replace(\"j\", \"J\")\n",
    "    letters = letters.replace(\"k\", \"K\")\n",
    "    letters = letters.replace(\"l\", \"L\")\n",
    "    letters = letters.replace(\"m\", \"M\")\n",
    "    letters = letters.replace(\"o\", \"O\")\n",
    "    letters = letters.replace(\"p\", \"P\")\n",
    "    letters = letters.replace(\"s\", \"S\")\n",
    "    letters = letters.replace(\"u\", \"U\")\n",
    "    letters = letters.replace(\"v\", \"V\")\n",
    "    letters = letters.replace(\"w\", \"W\")\n",
    "    letters = letters.replace(\"x\", \"X\")\n",
    "    letters = letters.replace(\"y\", \"Y\")\n",
    "    letters = letters.replace(\"z\", \"Z\")\n",
    "    \n",
    "    text_lines = np.int(img.shape[0]/char_height)\n",
    "    chars_per_line = np.int(img.shape[1]/char_width)\n",
    "    for i in range(text_lines):\n",
    "        for j in range(chars_per_line):\n",
    "            if (characters[i * chars_per_line + j].max() > 0.2):\n",
    "                print(LABELS[predict_array[i * chars_per_line + j]] + ' == ' + letters[text_index] + '?')\n",
    "                if (LABELS[predict_array[i * chars_per_line + j]] == letters[text_index]):\n",
    "                    prediction_counter += 1\n",
    "                    print(\" Yes. Prediction counter = \" + str(prediction_counter) + '\\n')\n",
    "                else:\n",
    "                    print(\" No\\n\")\n",
    "                text_index += 1\n",
    "    acc = prediction_counter/len(letters)\n",
    "    return acc"
   ]
  },
  {
   "cell_type": "markdown",
   "metadata": {},
   "source": [
    "### Carga del modelo entrenado de la CNN"
   ]
  },
  {
   "cell_type": "code",
   "execution_count": 16,
   "metadata": {},
   "outputs": [
    {
     "name": "stdout",
     "output_type": "stream",
     "text": [
      "WARNING:tensorflow:From C:\\ProgramData\\Anaconda3\\lib\\site-packages\\tensorflow\\python\\ops\\resource_variable_ops.py:435: colocate_with (from tensorflow.python.framework.ops) is deprecated and will be removed in a future version.\n",
      "Instructions for updating:\n",
      "Colocations handled automatically by placer.\n",
      "WARNING:tensorflow:From C:\\ProgramData\\Anaconda3\\lib\\site-packages\\tensorflow\\python\\keras\\layers\\core.py:143: calling dropout (from tensorflow.python.ops.nn_ops) with keep_prob is deprecated and will be removed in a future version.\n",
      "Instructions for updating:\n",
      "Please use `rate` instead of `keep_prob`. Rate should be set to `rate = 1 - keep_prob`.\n",
      "Se ha cargado el modelo con éxito\n",
      "_________________________________________________________________\n",
      "Layer (type)                 Output Shape              Param #   \n",
      "=================================================================\n",
      "conv2d_7 (Conv2D)            (None, 26, 26, 32)        320       \n",
      "_________________________________________________________________\n",
      "batch_normalization_v1_7 (Ba (None, 26, 26, 32)        128       \n",
      "_________________________________________________________________\n",
      "conv2d_8 (Conv2D)            (None, 24, 24, 32)        9248      \n",
      "_________________________________________________________________\n",
      "batch_normalization_v1_8 (Ba (None, 24, 24, 32)        128       \n",
      "_________________________________________________________________\n",
      "conv2d_9 (Conv2D)            (None, 12, 12, 32)        25632     \n",
      "_________________________________________________________________\n",
      "batch_normalization_v1_9 (Ba (None, 12, 12, 32)        128       \n",
      "_________________________________________________________________\n",
      "dropout_3 (Dropout)          (None, 12, 12, 32)        0         \n",
      "_________________________________________________________________\n",
      "conv2d_10 (Conv2D)           (None, 10, 10, 64)        18496     \n",
      "_________________________________________________________________\n",
      "batch_normalization_v1_10 (B (None, 10, 10, 64)        256       \n",
      "_________________________________________________________________\n",
      "conv2d_11 (Conv2D)           (None, 8, 8, 64)          36928     \n",
      "_________________________________________________________________\n",
      "batch_normalization_v1_11 (B (None, 8, 8, 64)          256       \n",
      "_________________________________________________________________\n",
      "conv2d_12 (Conv2D)           (None, 4, 4, 64)          102464    \n",
      "_________________________________________________________________\n",
      "batch_normalization_v1_12 (B (None, 4, 4, 64)          256       \n",
      "_________________________________________________________________\n",
      "dropout_4 (Dropout)          (None, 4, 4, 64)          0         \n",
      "_________________________________________________________________\n",
      "conv2d_13 (Conv2D)           (None, 1, 1, 128)         131200    \n",
      "_________________________________________________________________\n",
      "batch_normalization_v1_13 (B (None, 1, 1, 128)         512       \n",
      "_________________________________________________________________\n",
      "flatten_1 (Flatten)          (None, 128)               0         \n",
      "_________________________________________________________________\n",
      "dropout_5 (Dropout)          (None, 128)               0         \n",
      "_________________________________________________________________\n",
      "dense_1 (Dense)              (None, 47)                6063      \n",
      "=================================================================\n",
      "Total params: 332,015\n",
      "Trainable params: 331,183\n",
      "Non-trainable params: 832\n",
      "_________________________________________________________________\n"
     ]
    }
   ],
   "source": [
    "# Se carga el modelo del JSON\n",
    "json_file = open('CNN_model_EMNIST_GPU.json', 'r')\n",
    "loaded_model_json = json_file.read()\n",
    "json_file.close()\n",
    "CNN_model = model_from_json(loaded_model_json)\n",
    "# Se cargan los pesos del entrenamiento del HDF5\n",
    "CNN_model.load_weights(\"CNN_model_EMNIST_GPU.h5\")\n",
    "print(\"Se ha cargado el modelo con éxito\")\n",
    "# Se compila el modelo\n",
    "CNN_model.compile(loss=keras.losses.categorical_crossentropy,\n",
    "              optimizer='adam',\n",
    "              metrics=['accuracy'])\n",
    "# Se muestra la arquitectura del modelo\n",
    "CNN_model.summary()"
   ]
  },
  {
   "cell_type": "markdown",
   "metadata": {},
   "source": [
    "## Evaluación del modelo"
   ]
  },
  {
   "cell_type": "code",
   "execution_count": 17,
   "metadata": {},
   "outputs": [
    {
     "name": "stdout",
     "output_type": "stream",
     "text": [
      "18799/18799 [==============================] - 8s 425us/sample - loss: 0.3024 - acc: 0.8902\n",
      "El accuracy del modelo es:  0.8901537\n"
     ]
    },
    {
     "data": {
      "text/plain": [
       "[0.30237727504416, 0.8901537]"
      ]
     },
     "execution_count": 17,
     "metadata": {},
     "output_type": "execute_result"
    }
   ],
   "source": [
    "# Se evalúa el modelo cargado con el conjunto balanceado de test proporcionado por EMNIST\n",
    "evaluate_model (CNN_model, x_test, y_test)"
   ]
  },
  {
   "cell_type": "markdown",
   "metadata": {},
   "source": [
    "### Prueba de OCR"
   ]
  },
  {
   "cell_type": "code",
   "execution_count": 15,
   "metadata": {},
   "outputs": [
    {
     "data": {
      "text/plain": [
       "<matplotlib.image.AxesImage at 0x23b42191588>"
      ]
     },
     "execution_count": 15,
     "metadata": {},
     "output_type": "execute_result"
    },
    {
     "data": {
      "image/png": "[encoded data removed]",
      "text/plain": [
       "<Figure size 2160x288 with 1 Axes>"
      ]
     },
     "metadata": {
      "needs_background": "light"
     },
     "output_type": "display_data"
    }
   ],
   "source": [
    "# Se carga y se muestra la imagen de prueba\n",
    "img1 = open_image('test_images/1.png')\n",
    "plt.figure(figsize=(30, 4))\n",
    "plt.imshow(img1)"
   ]
  },
  {
   "cell_type": "code",
   "execution_count": 3,
   "metadata": {},
   "outputs": [
    {
     "name": "stdout",
     "output_type": "stream",
     "text": [
      "Universidad Tecnologica de la Mixteca\n",
      "OCR Prueba\n",
      "Carlos Montellano\n",
      "David Ruiz\n"
     ]
    }
   ],
   "source": [
    "# Texto de la imagen de prueba\n",
    "text = \"Universidad Tecnologica de la Mixteca\\nOCR Prueba\\nCarlos Montellano\\nDavid Ruiz\"\n",
    "print(text)"
   ]
  },
  {
   "cell_type": "code",
   "execution_count": 25,
   "metadata": {},
   "outputs": [],
   "source": [
    "# Aquí se extraen los caracteres de la imagen y se\n",
    "# les hace reshape para que queden en el formato que\n",
    "# recibe el modelo\n",
    "characters = get_characters(img1, 28, 28)\n",
    "characters = characters.reshape(-1, 28, 28, 1)"
   ]
  },
  {
   "cell_type": "code",
   "execution_count": 26,
   "metadata": {},
   "outputs": [],
   "source": [
    "# Se realiza el predict de las imagenes. El predict arroja en número\n",
    "# decimal la clase a la que pertenece un patrón\n",
    "predict_array = CNN_model.predict_classes(characters)"
   ]
  },
  {
   "cell_type": "code",
   "execution_count": 27,
   "metadata": {},
   "outputs": [
    {
     "data": {
      "text/plain": [
       "array([21, 21, 21, 21, 21, 21, 21, 21, 21, 21, 21, 21, 21, 21, 21, 21, 21,\n",
       "       21, 21, 21, 21, 21, 21, 21, 21, 21, 21, 21, 21, 21, 21, 21, 21, 21,\n",
       "       21, 21, 21, 21, 21, 21, 21, 21, 21, 21, 21, 21, 21, 21, 21, 21, 21,\n",
       "       21, 21, 21, 21, 21, 21, 21, 21, 21, 21, 21, 21, 21, 21, 21, 21, 21,\n",
       "       21, 21, 21, 21, 21, 21, 21, 21, 21, 21, 21, 30, 43, 21, 31, 39, 45,\n",
       "       28, 21, 38, 36, 38, 21, 29, 39, 12, 43, 24, 21, 24, 41, 18, 12, 36,\n",
       "       21, 38, 39, 21, 21, 36, 21, 22, 18, 33, 46, 39, 12, 36, 21, 21, 21,\n",
       "       21, 21, 21, 21, 21, 21, 21, 21, 21, 21, 21, 21, 21, 21, 21, 21, 21,\n",
       "       21, 21, 21, 21, 21, 21, 21, 21, 21, 21, 21, 21, 21, 21, 21, 21, 21,\n",
       "       21, 21, 21, 21, 24, 12, 27, 21, 25, 45, 31, 39, 37, 36, 21, 21, 21,\n",
       "       21, 21, 21, 21, 21, 21, 21, 21, 21, 21, 21, 21, 21, 21, 21, 21, 21,\n",
       "       21, 21, 21, 21, 21, 21, 21, 21, 21, 21, 21, 21, 21, 21, 21, 21, 21,\n",
       "       21, 21, 21, 21, 21, 21, 21, 21, 21, 21, 21, 21, 21, 21, 21, 21, 21,\n",
       "       21, 21, 21, 21, 21, 21, 21, 21, 21, 21, 21, 21, 21, 21, 12, 36, 45,\n",
       "       21, 24, 28, 21, 22,  0, 43, 46, 39, 21, 21, 36, 43, 24, 21, 21, 21,\n",
       "       21, 21, 21, 21, 21, 21, 21, 21, 21, 21, 21, 21, 21, 21, 21, 21, 21,\n",
       "       21, 21, 21, 21, 21, 21, 21, 21, 21, 21, 21, 21, 21, 21, 21, 21, 21,\n",
       "       21, 21, 21, 21, 21, 21, 21, 21, 21, 21, 21, 21, 21, 21, 21, 21, 21,\n",
       "       21, 21, 21, 21, 21, 21, 21, 13, 36, 31, 21, 13, 21, 39, 30, 18, 35,\n",
       "       21, 21, 21, 21, 21, 21, 21, 21, 21, 21, 21, 21, 21, 21, 21, 21, 21,\n",
       "       21, 21, 21, 21, 21, 21, 21, 21, 21, 21, 21, 21, 21, 21, 21, 21, 21,\n",
       "       21, 21, 21, 21, 21, 21, 21, 21, 21, 21, 21, 21, 21, 21, 21, 21, 21,\n",
       "       21, 21, 21, 21, 21, 21, 21, 21, 21, 21, 21, 21, 21, 21, 21, 21],\n",
       "      dtype=int64)"
      ]
     },
     "execution_count": 27,
     "metadata": {},
     "output_type": "execute_result"
    }
   ],
   "source": [
    "# Se muestran los resultados predichos por el modelo entrenado.\n",
    "#\n",
    "# Se puede observar que los números 21 corresponden a los espacios\n",
    "# vacíos de la imágen debido a que no se le enseñó a la red neuronal\n",
    "# a identificar espacios en blanco en su conjunto de entrenamiento.\n",
    "# Por lo tanto, el clasificador lo interpreta como una letra L.\n",
    "predict_array"
   ]
  },
  {
   "cell_type": "code",
   "execution_count": 40,
   "metadata": {},
   "outputs": [
    {
     "name": "stdout",
     "output_type": "stream",
     "text": [
      "                                                                              \n",
      " UnLVerSLdad TeCnOLOgICa de La MIXteCa                                        \n",
      " OCR PrVeba                                                                   \n",
      " CarLOS M0nteLLanO                                                            \n",
      " DaVLD eUIZ                                                                   \n",
      "\n"
     ]
    }
   ],
   "source": [
    "# Se realiza una decodificación del arreglo predicho para convertir\n",
    "# los resultados a texto y poder desplegarlo.\n",
    "# En esta función es donde se valida lo de los espacios en blanco,\n",
    "# y se hace a través de la imagen original.\n",
    "predicted_text = decode_prediction(predict_array, characters, img1, 28, 28)\n",
    "print(predicted_text)"
   ]
  },
  {
   "cell_type": "code",
   "execution_count": 70,
   "metadata": {},
   "outputs": [
    {
     "name": "stdout",
     "output_type": "stream",
     "text": [
      "U == U?\n",
      " Yes. Prediction counter = 1\n",
      "\n",
      "n == n?\n",
      " Yes. Prediction counter = 2\n",
      "\n",
      "L == I?\n",
      " No\n",
      "\n",
      "V == V?\n",
      " Yes. Prediction counter = 3\n",
      "\n",
      "e == e?\n",
      " Yes. Prediction counter = 4\n",
      "\n",
      "r == r?\n",
      " Yes. Prediction counter = 5\n",
      "\n",
      "S == S?\n",
      " Yes. Prediction counter = 6\n",
      "\n",
      "L == I?\n",
      " No\n",
      "\n",
      "d == d?\n",
      " Yes. Prediction counter = 7\n",
      "\n",
      "a == a?\n",
      " Yes. Prediction counter = 8\n",
      "\n",
      "d == d?\n",
      " Yes. Prediction counter = 9\n",
      "\n",
      "T == T?\n",
      " Yes. Prediction counter = 10\n",
      "\n",
      "e == e?\n",
      " Yes. Prediction counter = 11\n",
      "\n",
      "C == C?\n",
      " Yes. Prediction counter = 12\n",
      "\n",
      "n == n?\n",
      " Yes. Prediction counter = 13\n",
      "\n",
      "O == O?\n",
      " Yes. Prediction counter = 14\n",
      "\n",
      "L == L?\n",
      " Yes. Prediction counter = 15\n",
      "\n",
      "O == O?\n",
      " Yes. Prediction counter = 16\n",
      "\n",
      "g == g?\n",
      " Yes. Prediction counter = 17\n",
      "\n",
      "I == I?\n",
      " Yes. Prediction counter = 18\n",
      "\n",
      "C == C?\n",
      " Yes. Prediction counter = 19\n",
      "\n",
      "a == a?\n",
      " Yes. Prediction counter = 20\n",
      "\n",
      "d == d?\n",
      " Yes. Prediction counter = 21\n",
      "\n",
      "e == e?\n",
      " Yes. Prediction counter = 22\n",
      "\n",
      "L == L?\n",
      " Yes. Prediction counter = 23\n",
      "\n",
      "a == a?\n",
      " Yes. Prediction counter = 24\n",
      "\n",
      "M == M?\n",
      " Yes. Prediction counter = 25\n",
      "\n",
      "I == I?\n",
      " Yes. Prediction counter = 26\n",
      "\n",
      "X == X?\n",
      " Yes. Prediction counter = 27\n",
      "\n",
      "t == t?\n",
      " Yes. Prediction counter = 28\n",
      "\n",
      "e == e?\n",
      " Yes. Prediction counter = 29\n",
      "\n",
      "C == C?\n",
      " Yes. Prediction counter = 30\n",
      "\n",
      "a == a?\n",
      " Yes. Prediction counter = 31\n",
      "\n",
      "O == O?\n",
      " Yes. Prediction counter = 32\n",
      "\n",
      "C == C?\n",
      " Yes. Prediction counter = 33\n",
      "\n",
      "R == R?\n",
      " Yes. Prediction counter = 34\n",
      "\n",
      "P == P?\n",
      " Yes. Prediction counter = 35\n",
      "\n",
      "r == r?\n",
      " Yes. Prediction counter = 36\n",
      "\n",
      "V == U?\n",
      " No\n",
      "\n",
      "e == e?\n",
      " Yes. Prediction counter = 37\n",
      "\n",
      "b == b?\n",
      " Yes. Prediction counter = 38\n",
      "\n",
      "a == a?\n",
      " Yes. Prediction counter = 39\n",
      "\n",
      "C == C?\n",
      " Yes. Prediction counter = 40\n",
      "\n",
      "a == a?\n",
      " Yes. Prediction counter = 41\n",
      "\n",
      "r == r?\n",
      " Yes. Prediction counter = 42\n",
      "\n",
      "L == L?\n",
      " Yes. Prediction counter = 43\n",
      "\n",
      "O == O?\n",
      " Yes. Prediction counter = 44\n",
      "\n",
      "S == S?\n",
      " Yes. Prediction counter = 45\n",
      "\n",
      "M == M?\n",
      " Yes. Prediction counter = 46\n",
      "\n",
      "0 == O?\n",
      " No\n",
      "\n",
      "n == n?\n",
      " Yes. Prediction counter = 47\n",
      "\n",
      "t == t?\n",
      " Yes. Prediction counter = 48\n",
      "\n",
      "e == e?\n",
      " Yes. Prediction counter = 49\n",
      "\n",
      "L == L?\n",
      " Yes. Prediction counter = 50\n",
      "\n",
      "L == L?\n",
      " Yes. Prediction counter = 51\n",
      "\n",
      "a == a?\n",
      " Yes. Prediction counter = 52\n",
      "\n",
      "n == n?\n",
      " Yes. Prediction counter = 53\n",
      "\n",
      "O == O?\n",
      " Yes. Prediction counter = 54\n",
      "\n",
      "D == D?\n",
      " Yes. Prediction counter = 55\n",
      "\n",
      "a == a?\n",
      " Yes. Prediction counter = 56\n",
      "\n",
      "V == V?\n",
      " Yes. Prediction counter = 57\n",
      "\n",
      "L == I?\n",
      " No\n",
      "\n",
      "D == d?\n",
      " No\n",
      "\n",
      "e == R?\n",
      " No\n",
      "\n",
      "U == U?\n",
      " Yes. Prediction counter = 58\n",
      "\n",
      "I == I?\n",
      " Yes. Prediction counter = 59\n",
      "\n",
      "Z == Z?\n",
      " Yes. Prediction counter = 60\n",
      "\n"
     ]
    }
   ],
   "source": [
    "# Se revisa el accuracy comparando el texto predicho y el\n",
    "# texto original. Hay que recordar que algunas letras en\n",
    "# mayúscula no tienen su correspondiente en minúscula, por lo\n",
    "# tanto, las que no lo tienen, convierten el texto original\n",
    "# de minúscula a mayúscula.\n",
    "acc = test_evaluator(predict_array, text, characters, img1, 28, 28)"
   ]
  },
  {
   "cell_type": "code",
   "execution_count": 71,
   "metadata": {},
   "outputs": [
    {
     "name": "stdout",
     "output_type": "stream",
     "text": [
      "La exactitud de la prueba es 0.8955223880597015\n"
     ]
    }
   ],
   "source": [
    "print(\"La exactitud de la prueba es \" + str(acc))"
   ]
  },
  {
   "cell_type": "code",
   "execution_count": 5,
   "metadata": {},
   "outputs": [
    {
     "name": "stdout",
     "output_type": "stream",
     "text": [
      "UniversidadTecnologicadelaMixteca\n",
      "OCRPrueba\n",
      "CarlosMontellano\n",
      "DavidRuiz\n"
     ]
    }
   ],
   "source": [
    "letters2 = text.replace(\" \", \"\")\n",
    "print(letters2)"
   ]
  },
  {
   "cell_type": "code",
   "execution_count": 8,
   "metadata": {},
   "outputs": [
    {
     "name": "stdout",
     "output_type": "stream",
     "text": [
      "33\n",
      "\n",
      "9\n",
      "\n",
      "16\n",
      "\n",
      "9\n",
      "\n"
     ]
    }
   ],
   "source": [
    "print(str(len(\"UniversidadTecnologicadelaMixteca\")) + \"\\n\")\n",
    "print(str(len(\"OCRPrueba\")) + \"\\n\")\n",
    "print(str(len(\"CarlosMontellano\")) + \"\\n\")\n",
    "print(str(len(\"DavidRuiz\")) + \"\\n\")"
   ]
  },
  {
   "cell_type": "code",
   "execution_count": null,
   "metadata": {},
   "outputs": [],
   "source": []
  }
 ],
 "metadata": {
  "kernelspec": {
   "display_name": "Python 3",
   "language": "python",
   "name": "python3"
  },
  "language_info": {
   "codemirror_mode": {
    "name": "ipython",
    "version": 3
   },
   "file_extension": ".py",
   "mimetype": "text/x-python",
   "name": "python",
   "nbconvert_exporter": "python",
   "pygments_lexer": "ipython3",
   "version": "3.7.1"
  }
 },
 "nbformat": 4,
 "nbformat_minor": 2
}
