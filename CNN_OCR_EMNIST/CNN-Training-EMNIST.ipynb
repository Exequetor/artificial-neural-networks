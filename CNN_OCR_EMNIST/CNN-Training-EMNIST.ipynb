{
 "cells": [
  {
   "cell_type": "markdown",
   "metadata": {},
   "source": [
    "# Entrenamiento de una red neuronal convolucional para el reconocimiento de imágenes de dígitos y letras escritas a mano del dataset EMNIST\n",
    "### Universidad Tecnológica de la Mixteca\n",
    "### Carlos Hernández Montellano\n",
    "### Ingeniería en Computación\n",
    "### 1002-A."
   ]
  },
  {
   "cell_type": "markdown",
   "metadata": {},
   "source": [
    "## CNN utilizando Keras y TensorFlow-GPU con núcleos CUDA"
   ]
  },
  {
   "cell_type": "code",
   "execution_count": 42,
   "metadata": {},
   "outputs": [],
   "source": [
    "#Se importan las bibliotecas\n",
    "import numpy as np\n",
    "\n",
    "import tensorflow as tf\n",
    "from tensorflow.python.client import device_lib\n",
    "from tensorflow import keras\n",
    "from tensorflow.keras.models import Sequential\n",
    "from tensorflow.keras.layers import Dense, Flatten, Conv2D, Dropout, MaxPooling2D, BatchNormalization\n",
    "\n",
    "from sklearn.preprocessing import MinMaxScaler\n",
    "from sklearn.model_selection import train_test_split\n",
    "\n",
    "import pandas as pd\n",
    "\n",
    "import time\n",
    "\n",
    "\n",
    "import matplotlib.pyplot as plt\n",
    "from matplotlib.ticker import MaxNLocator\n",
    "%matplotlib inline"
   ]
  },
  {
   "cell_type": "code",
   "execution_count": 43,
   "metadata": {},
   "outputs": [
    {
     "name": "stdout",
     "output_type": "stream",
     "text": [
      "[name: \"/device:CPU:0\"\n",
      "device_type: \"CPU\"\n",
      "memory_limit: 268435456\n",
      "locality {\n",
      "}\n",
      "incarnation: 11204165087460837252\n",
      ", name: \"/device:GPU:0\"\n",
      "device_type: \"GPU\"\n",
      "memory_limit: 1462163865\n",
      "locality {\n",
      "  bus_id: 1\n",
      "  links {\n",
      "  }\n",
      "}\n",
      "incarnation: 7814573721406717939\n",
      "physical_device_desc: \"device: 0, name: GeForce 930MX, pci bus id: 0000:01:00.0, compute capability: 5.0\"\n",
      "]\n"
     ]
    }
   ],
   "source": [
    "# Tensorflow revisa si existen GPU's para realizar el procesamiento en CUDA\n",
    "# En este caso una GeForce 930MX compatible con 403 CUDA Cores\n",
    "# Si no se encuentran GPU's se usa el CPU\n",
    "print(device_lib.list_local_devices())"
   ]
  },
  {
   "cell_type": "code",
   "execution_count": 44,
   "metadata": {},
   "outputs": [
    {
     "data": {
      "text/html": [
       "<div>\n",
       "<style scoped>\n",
       "    .dataframe tbody tr th:only-of-type {\n",
       "        vertical-align: middle;\n",
       "    }\n",
       "\n",
       "    .dataframe tbody tr th {\n",
       "        vertical-align: top;\n",
       "    }\n",
       "\n",
       "    .dataframe thead th {\n",
       "        text-align: right;\n",
       "    }\n",
       "</style>\n",
       "<table border=\"1\" class=\"dataframe\">\n",
       "  <thead>\n",
       "    <tr style=\"text-align: right;\">\n",
       "      <th></th>\n",
       "      <th>45</th>\n",
       "      <th>0</th>\n",
       "      <th>0.1</th>\n",
       "      <th>0.2</th>\n",
       "      <th>0.3</th>\n",
       "      <th>0.4</th>\n",
       "      <th>0.5</th>\n",
       "      <th>0.6</th>\n",
       "      <th>0.7</th>\n",
       "      <th>0.8</th>\n",
       "      <th>...</th>\n",
       "      <th>0.524</th>\n",
       "      <th>0.525</th>\n",
       "      <th>0.526</th>\n",
       "      <th>0.527</th>\n",
       "      <th>0.528</th>\n",
       "      <th>0.529</th>\n",
       "      <th>0.530</th>\n",
       "      <th>0.531</th>\n",
       "      <th>0.532</th>\n",
       "      <th>0.533</th>\n",
       "    </tr>\n",
       "  </thead>\n",
       "  <tbody>\n",
       "    <tr>\n",
       "      <th>0</th>\n",
       "      <td>36</td>\n",
       "      <td>0</td>\n",
       "      <td>0</td>\n",
       "      <td>0</td>\n",
       "      <td>0</td>\n",
       "      <td>0</td>\n",
       "      <td>0</td>\n",
       "      <td>0</td>\n",
       "      <td>0</td>\n",
       "      <td>0</td>\n",
       "      <td>...</td>\n",
       "      <td>0</td>\n",
       "      <td>0</td>\n",
       "      <td>0</td>\n",
       "      <td>0</td>\n",
       "      <td>0</td>\n",
       "      <td>0</td>\n",
       "      <td>0</td>\n",
       "      <td>0</td>\n",
       "      <td>0</td>\n",
       "      <td>0</td>\n",
       "    </tr>\n",
       "    <tr>\n",
       "      <th>1</th>\n",
       "      <td>43</td>\n",
       "      <td>0</td>\n",
       "      <td>0</td>\n",
       "      <td>0</td>\n",
       "      <td>0</td>\n",
       "      <td>0</td>\n",
       "      <td>0</td>\n",
       "      <td>0</td>\n",
       "      <td>0</td>\n",
       "      <td>0</td>\n",
       "      <td>...</td>\n",
       "      <td>0</td>\n",
       "      <td>0</td>\n",
       "      <td>0</td>\n",
       "      <td>0</td>\n",
       "      <td>0</td>\n",
       "      <td>0</td>\n",
       "      <td>0</td>\n",
       "      <td>0</td>\n",
       "      <td>0</td>\n",
       "      <td>0</td>\n",
       "    </tr>\n",
       "    <tr>\n",
       "      <th>2</th>\n",
       "      <td>15</td>\n",
       "      <td>0</td>\n",
       "      <td>0</td>\n",
       "      <td>0</td>\n",
       "      <td>0</td>\n",
       "      <td>0</td>\n",
       "      <td>0</td>\n",
       "      <td>0</td>\n",
       "      <td>0</td>\n",
       "      <td>0</td>\n",
       "      <td>...</td>\n",
       "      <td>0</td>\n",
       "      <td>0</td>\n",
       "      <td>0</td>\n",
       "      <td>0</td>\n",
       "      <td>0</td>\n",
       "      <td>0</td>\n",
       "      <td>0</td>\n",
       "      <td>0</td>\n",
       "      <td>0</td>\n",
       "      <td>0</td>\n",
       "    </tr>\n",
       "    <tr>\n",
       "      <th>3</th>\n",
       "      <td>4</td>\n",
       "      <td>0</td>\n",
       "      <td>0</td>\n",
       "      <td>0</td>\n",
       "      <td>0</td>\n",
       "      <td>0</td>\n",
       "      <td>0</td>\n",
       "      <td>0</td>\n",
       "      <td>0</td>\n",
       "      <td>0</td>\n",
       "      <td>...</td>\n",
       "      <td>0</td>\n",
       "      <td>0</td>\n",
       "      <td>0</td>\n",
       "      <td>0</td>\n",
       "      <td>0</td>\n",
       "      <td>0</td>\n",
       "      <td>0</td>\n",
       "      <td>0</td>\n",
       "      <td>0</td>\n",
       "      <td>0</td>\n",
       "    </tr>\n",
       "    <tr>\n",
       "      <th>4</th>\n",
       "      <td>42</td>\n",
       "      <td>0</td>\n",
       "      <td>0</td>\n",
       "      <td>0</td>\n",
       "      <td>0</td>\n",
       "      <td>0</td>\n",
       "      <td>0</td>\n",
       "      <td>0</td>\n",
       "      <td>0</td>\n",
       "      <td>0</td>\n",
       "      <td>...</td>\n",
       "      <td>0</td>\n",
       "      <td>0</td>\n",
       "      <td>0</td>\n",
       "      <td>0</td>\n",
       "      <td>0</td>\n",
       "      <td>0</td>\n",
       "      <td>0</td>\n",
       "      <td>0</td>\n",
       "      <td>0</td>\n",
       "      <td>0</td>\n",
       "    </tr>\n",
       "  </tbody>\n",
       "</table>\n",
       "<p>5 rows × 785 columns</p>\n",
       "</div>"
      ],
      "text/plain": [
       "   45  0  0.1  0.2  0.3  0.4  0.5  0.6  0.7  0.8  ...    0.524  0.525  0.526  \\\n",
       "0  36  0    0    0    0    0    0    0    0    0  ...        0      0      0   \n",
       "1  43  0    0    0    0    0    0    0    0    0  ...        0      0      0   \n",
       "2  15  0    0    0    0    0    0    0    0    0  ...        0      0      0   \n",
       "3   4  0    0    0    0    0    0    0    0    0  ...        0      0      0   \n",
       "4  42  0    0    0    0    0    0    0    0    0  ...        0      0      0   \n",
       "\n",
       "   0.527  0.528  0.529  0.530  0.531  0.532  0.533  \n",
       "0      0      0      0      0      0      0      0  \n",
       "1      0      0      0      0      0      0      0  \n",
       "2      0      0      0      0      0      0      0  \n",
       "3      0      0      0      0      0      0      0  \n",
       "4      0      0      0      0      0      0      0  \n",
       "\n",
       "[5 rows x 785 columns]"
      ]
     },
     "execution_count": 44,
     "metadata": {},
     "output_type": "execute_result"
    }
   ],
   "source": [
    "# Se lee el dataset. Por default ya se tienen las particiones estratificadas\n",
    "train_pd = pd.read_csv('emnist/emnist-balanced-train.csv')\n",
    "test_pd = pd.read_csv('emnist/emnist-balanced-test.csv')\n",
    "train_pd.head()"
   ]
  },
  {
   "cell_type": "code",
   "execution_count": 45,
   "metadata": {},
   "outputs": [],
   "source": [
    "# Partición de los datos de las etiquetas y las imágenes\n",
    "train_data_pd = train_pd.iloc[:, 1:]\n",
    "train_labels_pd = train_pd.iloc[:, 0]\n",
    "test_data_pd = test_pd.iloc[:, 1:]\n",
    "test_labels_pd = test_pd.iloc[:, 0]"
   ]
  },
  {
   "cell_type": "code",
   "execution_count": 46,
   "metadata": {},
   "outputs": [
    {
     "data": {
      "text/html": [
       "<div>\n",
       "<style scoped>\n",
       "    .dataframe tbody tr th:only-of-type {\n",
       "        vertical-align: middle;\n",
       "    }\n",
       "\n",
       "    .dataframe tbody tr th {\n",
       "        vertical-align: top;\n",
       "    }\n",
       "\n",
       "    .dataframe thead th {\n",
       "        text-align: right;\n",
       "    }\n",
       "</style>\n",
       "<table border=\"1\" class=\"dataframe\">\n",
       "  <thead>\n",
       "    <tr style=\"text-align: right;\">\n",
       "      <th></th>\n",
       "      <th>0</th>\n",
       "      <th>1</th>\n",
       "      <th>2</th>\n",
       "      <th>3</th>\n",
       "      <th>4</th>\n",
       "      <th>5</th>\n",
       "      <th>6</th>\n",
       "      <th>7</th>\n",
       "      <th>8</th>\n",
       "      <th>9</th>\n",
       "      <th>...</th>\n",
       "      <th>37</th>\n",
       "      <th>38</th>\n",
       "      <th>39</th>\n",
       "      <th>40</th>\n",
       "      <th>41</th>\n",
       "      <th>42</th>\n",
       "      <th>43</th>\n",
       "      <th>44</th>\n",
       "      <th>45</th>\n",
       "      <th>46</th>\n",
       "    </tr>\n",
       "  </thead>\n",
       "  <tbody>\n",
       "    <tr>\n",
       "      <th>0</th>\n",
       "      <td>0</td>\n",
       "      <td>0</td>\n",
       "      <td>0</td>\n",
       "      <td>0</td>\n",
       "      <td>0</td>\n",
       "      <td>0</td>\n",
       "      <td>0</td>\n",
       "      <td>0</td>\n",
       "      <td>0</td>\n",
       "      <td>0</td>\n",
       "      <td>...</td>\n",
       "      <td>0</td>\n",
       "      <td>0</td>\n",
       "      <td>0</td>\n",
       "      <td>0</td>\n",
       "      <td>0</td>\n",
       "      <td>0</td>\n",
       "      <td>0</td>\n",
       "      <td>0</td>\n",
       "      <td>0</td>\n",
       "      <td>0</td>\n",
       "    </tr>\n",
       "    <tr>\n",
       "      <th>1</th>\n",
       "      <td>0</td>\n",
       "      <td>0</td>\n",
       "      <td>0</td>\n",
       "      <td>0</td>\n",
       "      <td>0</td>\n",
       "      <td>0</td>\n",
       "      <td>0</td>\n",
       "      <td>0</td>\n",
       "      <td>0</td>\n",
       "      <td>0</td>\n",
       "      <td>...</td>\n",
       "      <td>0</td>\n",
       "      <td>0</td>\n",
       "      <td>0</td>\n",
       "      <td>0</td>\n",
       "      <td>0</td>\n",
       "      <td>0</td>\n",
       "      <td>1</td>\n",
       "      <td>0</td>\n",
       "      <td>0</td>\n",
       "      <td>0</td>\n",
       "    </tr>\n",
       "    <tr>\n",
       "      <th>2</th>\n",
       "      <td>0</td>\n",
       "      <td>0</td>\n",
       "      <td>0</td>\n",
       "      <td>0</td>\n",
       "      <td>0</td>\n",
       "      <td>0</td>\n",
       "      <td>0</td>\n",
       "      <td>0</td>\n",
       "      <td>0</td>\n",
       "      <td>0</td>\n",
       "      <td>...</td>\n",
       "      <td>0</td>\n",
       "      <td>0</td>\n",
       "      <td>0</td>\n",
       "      <td>0</td>\n",
       "      <td>0</td>\n",
       "      <td>0</td>\n",
       "      <td>0</td>\n",
       "      <td>0</td>\n",
       "      <td>0</td>\n",
       "      <td>0</td>\n",
       "    </tr>\n",
       "    <tr>\n",
       "      <th>3</th>\n",
       "      <td>0</td>\n",
       "      <td>0</td>\n",
       "      <td>0</td>\n",
       "      <td>0</td>\n",
       "      <td>1</td>\n",
       "      <td>0</td>\n",
       "      <td>0</td>\n",
       "      <td>0</td>\n",
       "      <td>0</td>\n",
       "      <td>0</td>\n",
       "      <td>...</td>\n",
       "      <td>0</td>\n",
       "      <td>0</td>\n",
       "      <td>0</td>\n",
       "      <td>0</td>\n",
       "      <td>0</td>\n",
       "      <td>0</td>\n",
       "      <td>0</td>\n",
       "      <td>0</td>\n",
       "      <td>0</td>\n",
       "      <td>0</td>\n",
       "    </tr>\n",
       "    <tr>\n",
       "      <th>4</th>\n",
       "      <td>0</td>\n",
       "      <td>0</td>\n",
       "      <td>0</td>\n",
       "      <td>0</td>\n",
       "      <td>0</td>\n",
       "      <td>0</td>\n",
       "      <td>0</td>\n",
       "      <td>0</td>\n",
       "      <td>0</td>\n",
       "      <td>0</td>\n",
       "      <td>...</td>\n",
       "      <td>0</td>\n",
       "      <td>0</td>\n",
       "      <td>0</td>\n",
       "      <td>0</td>\n",
       "      <td>0</td>\n",
       "      <td>1</td>\n",
       "      <td>0</td>\n",
       "      <td>0</td>\n",
       "      <td>0</td>\n",
       "      <td>0</td>\n",
       "    </tr>\n",
       "  </tbody>\n",
       "</table>\n",
       "<p>5 rows × 47 columns</p>\n",
       "</div>"
      ],
      "text/plain": [
       "   0   1   2   3   4   5   6   7   8   9  ...  37  38  39  40  41  42  43  44  \\\n",
       "0   0   0   0   0   0   0   0   0   0   0 ...   0   0   0   0   0   0   0   0   \n",
       "1   0   0   0   0   0   0   0   0   0   0 ...   0   0   0   0   0   0   1   0   \n",
       "2   0   0   0   0   0   0   0   0   0   0 ...   0   0   0   0   0   0   0   0   \n",
       "3   0   0   0   0   1   0   0   0   0   0 ...   0   0   0   0   0   0   0   0   \n",
       "4   0   0   0   0   0   0   0   0   0   0 ...   0   0   0   0   0   1   0   0   \n",
       "\n",
       "   45  46  \n",
       "0   0   0  \n",
       "1   0   0  \n",
       "2   0   0  \n",
       "3   0   0  \n",
       "4   0   0  \n",
       "\n",
       "[5 rows x 47 columns]"
      ]
     },
     "execution_count": 46,
     "metadata": {},
     "output_type": "execute_result"
    }
   ],
   "source": [
    "# One hot encoder de Pandas\n",
    "train_labels_onehot_pd = pd.get_dummies(train_labels_pd)\n",
    "test_labels_onehot_pd = pd.get_dummies(test_labels_pd)\n",
    "train_labels_onehot_pd.head()"
   ]
  },
  {
   "cell_type": "code",
   "execution_count": 47,
   "metadata": {},
   "outputs": [],
   "source": [
    "# Pasamos de pandas a numpy\n",
    "train_data = train_data_pd.values\n",
    "y_train = train_labels_onehot_pd.values\n",
    "y_train_nohot = train_labels_pd.values\n",
    "test_data = test_data_pd.values\n",
    "y_test = test_labels_onehot_pd.values\n",
    "y_test_nohot = train_labels_pd.values"
   ]
  },
  {
   "cell_type": "code",
   "execution_count": 48,
   "metadata": {},
   "outputs": [],
   "source": [
    "# Borramos los datos de pandas para liberar memoria.\n",
    "# Dejo solo train_labels_pd y test_labels_pd\n",
    "del train_labels_onehot_pd,  test_labels_onehot_pd, train_data_pd, test_data_pd, train_pd, test_pd"
   ]
  },
  {
   "cell_type": "code",
   "execution_count": 49,
   "metadata": {},
   "outputs": [
    {
     "name": "stderr",
     "output_type": "stream",
     "text": [
      "C:\\ProgramData\\Anaconda3\\lib\\site-packages\\sklearn\\utils\\validation.py:595: DataConversionWarning: Data with input dtype int64 was converted to float64 by MinMaxScaler.\n",
      "  warnings.warn(msg, DataConversionWarning)\n",
      "C:\\ProgramData\\Anaconda3\\lib\\site-packages\\sklearn\\utils\\validation.py:595: DataConversionWarning: Data with input dtype int64 was converted to float64 by MinMaxScaler.\n",
      "  warnings.warn(msg, DataConversionWarning)\n"
     ]
    }
   ],
   "source": [
    "# Normalizamos datos\n",
    "mms = MinMaxScaler()\n",
    "x_train = mms.fit_transform(train_data)\n",
    "x_test = mms.fit_transform(test_data)"
   ]
  },
  {
   "cell_type": "code",
   "execution_count": 52,
   "metadata": {},
   "outputs": [],
   "source": [
    "# Aplicamos reshape a los conuntos para que queden como matrices\n",
    "TRAIN_PATTERN_NUMBER = x_train.shape[0]\n",
    "TEST_PATTERN_NUMBER = x_test.shape[0]\n",
    "x_train = x_train.reshape(TRAIN_PATTERN_NUMBER, 28, 28, 1)\n",
    "x_test = x_test.reshape(TEST_PATTERN_NUMBER, 28, 28, 1)"
   ]
  },
  {
   "cell_type": "code",
   "execution_count": 53,
   "metadata": {},
   "outputs": [
    {
     "name": "stdout",
     "output_type": "stream",
     "text": [
      "(112799, 28, 28, 1)\n",
      "(18799, 28, 28, 1)\n"
     ]
    }
   ],
   "source": [
    "print(x_train.shape)\n",
    "print(x_test.shape)"
   ]
  },
  {
   "cell_type": "code",
   "execution_count": 85,
   "metadata": {},
   "outputs": [],
   "source": [
    "# Forma en que está organizados los targets del dataset.\n",
    "NUM_TARGETS = y_test.shape[1]\n",
    "LABELS = '0123456789ABCDEFGHIJKLMNOPQRSTUVWXYZabdefghnqrt'"
   ]
  },
  {
   "cell_type": "markdown",
   "metadata": {},
   "source": [
    "### Definición de funciones"
   ]
  },
  {
   "cell_type": "code",
   "execution_count": 55,
   "metadata": {},
   "outputs": [],
   "source": [
    "# Función que a partir de los datos del one hot encoder, se retorna\n",
    "# el indice del valor real de la etiqueta\n",
    "def one_hot_decoder (binary_encoded_label):\n",
    "    return np.argmax(binary_encoded_label)"
   ]
  },
  {
   "cell_type": "code",
   "execution_count": 56,
   "metadata": {},
   "outputs": [],
   "source": [
    "# Función para hacer plot a cualquier imágen con su correspondiente clase\n",
    "def show_img(img,label):\n",
    "    img_t = img.reshape(28, 28).T\n",
    "    plt.title('Etiqueta: ' + str(LABELS[one_hot_decoder(label)]))\n",
    "    plt.imshow(img_t)"
   ]
  },
  {
   "cell_type": "code",
   "execution_count": 57,
   "metadata": {},
   "outputs": [],
   "source": [
    "# Función para evaluar el modelo con el conjunto de test\n",
    "def evaluate_model (model, test_x, test_y):\n",
    "    result = model.evaluate(test_x, test_y)\n",
    "    print(\"El accuracy del modelo es: \", result[1])\n",
    "    return result"
   ]
  },
  {
   "cell_type": "code",
   "execution_count": 58,
   "metadata": {},
   "outputs": [],
   "source": [
    "# Función que despliega una gráfica del accuracy y el error a través de los epoch\n",
    "def plot_graph(history):\n",
    "    # accuracy\n",
    "    plt.plot(history.history['acc'])\n",
    "    plt.plot(history.history['val_acc'])\n",
    "    plt.title('Exactitud del modelo de la CNN')\n",
    "    plt.ylabel('exactitud')\n",
    "    plt.xlabel('época')\n",
    "    plt.legend(['Entrenamiento', 'Validación'], loc='lower right')\n",
    "    plt.show()\n",
    "\n",
    "    # error\n",
    "    plt.plot(history.history['loss'])\n",
    "    plt.plot(history.history['val_loss'])\n",
    "    plt.title('Error del modelo de la CNN')\n",
    "    plt.ylabel('error')\n",
    "    plt.xlabel('época')\n",
    "    plt.legend(['Entrenamiento', 'Validación'], loc='upper right')\n",
    "    plt.show()"
   ]
  },
  {
   "cell_type": "code",
   "execution_count": 69,
   "metadata": {},
   "outputs": [
    {
     "data": {
      "image/png": "[encoded data removed]",
      "text/plain": [
       "<Figure size 1224x324 with 30 Axes>"
      ]
     },
     "metadata": {
      "needs_background": "light"
     },
     "output_type": "display_data"
    }
   ],
   "source": [
    "# Algunas muestras del dato de entrenamiento\n",
    "fig = plt.figure(figsize=(17, 4.5))\n",
    "for idx in range(30):\n",
    "    fig.add_subplot(3, 10, idx + 1)\n",
    "    plt.axis('off')\n",
    "    show_img(x_train[idx], y_train[idx])\n",
    "plt.subplots_adjust(wspace=0.3, hspace=0.3)"
   ]
  },
  {
   "cell_type": "code",
   "execution_count": 70,
   "metadata": {},
   "outputs": [
    {
     "data": {
      "image/png": "[encoded data removed]",
      "text/plain": [
       "<Figure size 1224x324 with 30 Axes>"
      ]
     },
     "metadata": {
      "needs_background": "light"
     },
     "output_type": "display_data"
    }
   ],
   "source": [
    "# Algunas muestras del dato de test\n",
    "fig = plt.figure(figsize=(17, 4.5))\n",
    "i = 1\n",
    "for idx in range(0, x_test.shape[0], 500):\n",
    "    fig.add_subplot(3, 10, i)\n",
    "    plt.axis('off')\n",
    "    show_img(x_test[idx], y_test[idx])\n",
    "    i += 1\n",
    "    if (i == 31):\n",
    "        break\n",
    "plt.subplots_adjust(wspace=0.3, hspace=0.3)"
   ]
  },
  {
   "cell_type": "markdown",
   "metadata": {},
   "source": [
    "### Arquitectura de la CNN"
   ]
  },
  {
   "cell_type": "code",
   "execution_count": 71,
   "metadata": {},
   "outputs": [],
   "source": [
    "# Se define la arquitectura de la CNN\n",
    "\n",
    "# La arquitectura se puede definir por batches de una forma\n",
    "# muy sencilla gracias a Keras\n",
    "\n",
    "# El BatchNormalizacion se usa para que las capas de activación de\n",
    "# las capas anteriores de cada batch se normalice, es decir\n",
    "# se aplica una transformación que mantiene la media de la\n",
    "# activación cerca de 0 y la desviación estandar cercano a 1.\n",
    "\n",
    "# En el caso de esta arquitectura se usan varias capas de convolución\n",
    "def model_CNN (input_size, output_size):\n",
    "    model = Sequential()\n",
    "    \n",
    "    # Capa 1 de convolución y pooling. 32 filtros de 3x3 con 28x28 entradas y pooling a 24x24\n",
    "    model.add(Conv2D(32, kernel_size = 3, activation='relu', input_shape = (input_size[0], input_size[1], input_size[2])))\n",
    "    model.add(BatchNormalization())\n",
    "    # Capa 2 de convolución y pooling. 32 filtros de 3x3 con 24x24 entradas y pooling a 12x12\n",
    "    model.add(Conv2D(32, kernel_size = 3, activation='relu'))\n",
    "    model.add(BatchNormalization())\n",
    "    # Capa 3 de convolución y pooling. 32 filtros de 5x5 con 12x12 entradas y pooling a 10x10\n",
    "    model.add(Conv2D(32, kernel_size = 5, strides=2, padding='same', activation='relu'))\n",
    "    model.add(BatchNormalization())\n",
    "    model.add(Dropout(0.4))\n",
    "    \n",
    "    # Capa 4 de convolución y pooling. 64 filtros de 3x3 con 10x10 entradas y pooling a 8x8\n",
    "    model.add(Conv2D(64, kernel_size = 3, activation='relu'))\n",
    "    model.add(BatchNormalization())\n",
    "    # Capa 5 de convolución y pooling. 64 filtros de 3x3 con 8x8 entradas y pooling a 4x4\n",
    "    model.add(Conv2D(64, kernel_size = 3, activation='relu'))\n",
    "    model.add(BatchNormalization())\n",
    "    # Capa 6 de convolución y pooling. 64 filtros de 5x5 con 4x4 entradas y MaxPooling a 1x1\n",
    "    model.add(Conv2D(64, kernel_size = 5, strides=2, padding='same', activation='relu'))\n",
    "    model.add(BatchNormalization())\n",
    "    model.add(Dropout(0.4))\n",
    "\n",
    "    # adapten al tamaño de las entradas.\n",
    "    # Capa 7 de convolución y pooling. 128 filtros de 4x4 con 1x1 entradas\n",
    "    model.add(Conv2D(128, kernel_size = 4, activation='relu'))\n",
    "    model.add(BatchNormalization())\n",
    "    # El flatten conecta las salidas del preprocesamiento al clasificador, es decir, conecta\n",
    "    # las salidas del pooling de la última capa de convolución a las entradas de la capa\n",
    "    # completamente conectada.\n",
    "    model.add(Flatten())\n",
    "    model.add(Dropout(0.4))\n",
    "    \n",
    "    # Full Connected Layer\n",
    "    model.add(Dense(output_size, activation='softmax'))\n",
    "\n",
    "    model.compile(loss=keras.losses.categorical_crossentropy,\n",
    "              optimizer='adam',\n",
    "              metrics=['accuracy'])\n",
    "    \n",
    "    return model"
   ]
  },
  {
   "cell_type": "code",
   "execution_count": 72,
   "metadata": {},
   "outputs": [
    {
     "name": "stdout",
     "output_type": "stream",
     "text": [
      "_________________________________________________________________\n",
      "Layer (type)                 Output Shape              Param #   \n",
      "=================================================================\n",
      "conv2d_7 (Conv2D)            (None, 26, 26, 32)        320       \n",
      "_________________________________________________________________\n",
      "batch_normalization_v1_7 (Ba (None, 26, 26, 32)        128       \n",
      "_________________________________________________________________\n",
      "conv2d_8 (Conv2D)            (None, 24, 24, 32)        9248      \n",
      "_________________________________________________________________\n",
      "batch_normalization_v1_8 (Ba (None, 24, 24, 32)        128       \n",
      "_________________________________________________________________\n",
      "conv2d_9 (Conv2D)            (None, 12, 12, 32)        25632     \n",
      "_________________________________________________________________\n",
      "batch_normalization_v1_9 (Ba (None, 12, 12, 32)        128       \n",
      "_________________________________________________________________\n",
      "dropout_3 (Dropout)          (None, 12, 12, 32)        0         \n",
      "_________________________________________________________________\n",
      "conv2d_10 (Conv2D)           (None, 10, 10, 64)        18496     \n",
      "_________________________________________________________________\n",
      "batch_normalization_v1_10 (B (None, 10, 10, 64)        256       \n",
      "_________________________________________________________________\n",
      "conv2d_11 (Conv2D)           (None, 8, 8, 64)          36928     \n",
      "_________________________________________________________________\n",
      "batch_normalization_v1_11 (B (None, 8, 8, 64)          256       \n",
      "_________________________________________________________________\n",
      "conv2d_12 (Conv2D)           (None, 4, 4, 64)          102464    \n",
      "_________________________________________________________________\n",
      "batch_normalization_v1_12 (B (None, 4, 4, 64)          256       \n",
      "_________________________________________________________________\n",
      "dropout_4 (Dropout)          (None, 4, 4, 64)          0         \n",
      "_________________________________________________________________\n",
      "conv2d_13 (Conv2D)           (None, 1, 1, 128)         131200    \n",
      "_________________________________________________________________\n",
      "batch_normalization_v1_13 (B (None, 1, 1, 128)         512       \n",
      "_________________________________________________________________\n",
      "flatten_1 (Flatten)          (None, 128)               0         \n",
      "_________________________________________________________________\n",
      "dropout_5 (Dropout)          (None, 128)               0         \n",
      "_________________________________________________________________\n",
      "dense_1 (Dense)              (None, 47)                6063      \n",
      "=================================================================\n",
      "Total params: 332,015\n",
      "Trainable params: 331,183\n",
      "Non-trainable params: 832\n",
      "_________________________________________________________________\n"
     ]
    }
   ],
   "source": [
    "# Se instancia el modelo y se muestra la arquitectura de la CNN\n",
    "model_instance = model_CNN([28, 28, 1], y_train.shape[1])\n",
    "model_instance.summary()"
   ]
  },
  {
   "cell_type": "markdown",
   "metadata": {},
   "source": [
    "### Entrenamiento de la CNN"
   ]
  },
  {
   "cell_type": "code",
   "execution_count": 73,
   "metadata": {
    "scrolled": true
   },
   "outputs": [
    {
     "name": "stdout",
     "output_type": "stream",
     "text": [
      "Train on 101519 samples, validate on 11280 samples\n",
      "Epoch 1/15\n",
      "101519/101519 [==============================] - 124s 1ms/sample - loss: 0.8957 - acc: 0.7307 - val_loss: 0.4258 - val_acc: 0.8474\n",
      "Epoch 2/15\n",
      "101519/101519 [==============================] - 119s 1ms/sample - loss: 0.4775 - acc: 0.8359 - val_loss: 0.3641 - val_acc: 0.8669\n",
      "Epoch 3/15\n",
      "101519/101519 [==============================] - 120s 1ms/sample - loss: 0.4254 - acc: 0.8520 - val_loss: 0.3437 - val_acc: 0.8711\n",
      "Epoch 4/15\n",
      "101519/101519 [==============================] - 119s 1ms/sample - loss: 0.3921 - acc: 0.8620 - val_loss: 0.3276 - val_acc: 0.8752\n",
      "Epoch 5/15\n",
      "101519/101519 [==============================] - 119s 1ms/sample - loss: 0.3714 - acc: 0.8686 - val_loss: 0.3185 - val_acc: 0.8812\n",
      "Epoch 6/15\n",
      "101519/101519 [==============================] - 119s 1ms/sample - loss: 0.3542 - acc: 0.8725 - val_loss: 0.3132 - val_acc: 0.8832\n",
      "Epoch 7/15\n",
      "101519/101519 [==============================] - 119s 1ms/sample - loss: 0.3424 - acc: 0.8763 - val_loss: 0.3058 - val_acc: 0.8859\n",
      "Epoch 8/15\n",
      "101519/101519 [==============================] - 121s 1ms/sample - loss: 0.3300 - acc: 0.8799 - val_loss: 0.3017 - val_acc: 0.8885\n",
      "Epoch 9/15\n",
      "101519/101519 [==============================] - 121s 1ms/sample - loss: 0.3219 - acc: 0.8826 - val_loss: 0.2902 - val_acc: 0.8895\n",
      "Epoch 10/15\n",
      "101519/101519 [==============================] - 118s 1ms/sample - loss: 0.3147 - acc: 0.8843 - val_loss: 0.3041 - val_acc: 0.8905\n",
      "Epoch 11/15\n",
      "101519/101519 [==============================] - 122s 1ms/sample - loss: 0.3084 - acc: 0.8871 - val_loss: 0.2950 - val_acc: 0.8889\n",
      "Epoch 12/15\n",
      "101519/101519 [==============================] - 120s 1ms/sample - loss: 0.3000 - acc: 0.8890 - val_loss: 0.3051 - val_acc: 0.8840\n",
      "Epoch 13/15\n",
      "101519/101519 [==============================] - 120s 1ms/sample - loss: 0.2944 - acc: 0.8901 - val_loss: 0.2906 - val_acc: 0.8923\n",
      "Epoch 14/15\n",
      "101519/101519 [==============================] - 121s 1ms/sample - loss: 0.2889 - acc: 0.8934 - val_loss: 0.2946 - val_acc: 0.8925\n",
      "Epoch 15/15\n",
      "101519/101519 [==============================] - 120s 1ms/sample - loss: 0.2863 - acc: 0.8941 - val_loss: 0.2895 - val_acc: 0.8905- acc: 0.89 - ETA: 1s - loss: 0.286 - ETA: 0s - loss: 0.2863 - acc: 0.89\n"
     ]
    }
   ],
   "source": [
    "BATCH_SIZE = 64\n",
    "\n",
    "history = model_instance.fit(x_train, y_train,\n",
    "          batch_size = BATCH_SIZE,\n",
    "          epochs = 15,\n",
    "          validation_split = 0.1)"
   ]
  },
  {
   "cell_type": "markdown",
   "metadata": {},
   "source": [
    "### Evaluación de la CNN entrenada"
   ]
  },
  {
   "cell_type": "code",
   "execution_count": 89,
   "metadata": {},
   "outputs": [
    {
     "name": "stdout",
     "output_type": "stream",
     "text": [
      "18799/18799 [==============================] - 20s 1ms/sample - loss: 0.3024 - acc: 0.8902\n",
      "El accuracy del modelo es:  0.8901537\n"
     ]
    },
    {
     "data": {
      "text/plain": [
       "[0.30237727504416, 0.8901537]"
      ]
     },
     "execution_count": 89,
     "metadata": {},
     "output_type": "execute_result"
    }
   ],
   "source": [
    "evaluate_model (model_instance, x_test, y_test)"
   ]
  },
  {
   "cell_type": "code",
   "execution_count": 75,
   "metadata": {
    "scrolled": true
   },
   "outputs": [
    {
     "data": {
      "image/png": "[encoded data removed]",
      "text/plain": [
       "<Figure size 432x288 with 1 Axes>"
      ]
     },
     "metadata": {
      "needs_background": "light"
     },
     "output_type": "display_data"
    },
    {
     "data": {
      "image/png": "[encoded data removed]",
      "text/plain": [
       "<Figure size 432x288 with 1 Axes>"
      ]
     },
     "metadata": {
      "needs_background": "light"
     },
     "output_type": "display_data"
    }
   ],
   "source": [
    "plot_graph(history)"
   ]
  },
  {
   "cell_type": "markdown",
   "metadata": {},
   "source": [
    "## Guardar el modelo"
   ]
  },
  {
   "cell_type": "code",
   "execution_count": 82,
   "metadata": {},
   "outputs": [
    {
     "name": "stdout",
     "output_type": "stream",
     "text": [
      "Se guardó el modelo con éxito\n"
     ]
    }
   ],
   "source": [
    "# El modelo se guarda en JSON y los pesos que resultaron del entrenamiento\n",
    "# se guardan en HDF5\n",
    "# Se seraliza el modelo a JSON\n",
    "model_json = model_instance.to_json()\n",
    "with open(\"CNN_model_EMNIST_GPU.json\", \"w\") as json_file:\n",
    "    json_file.write(model_json)\n",
    "# Se serializan los pesos a HDF5\n",
    "model_instance.save_weights(\"CNN_model_EMNIST_GPU.h5\")\n",
    "print(\"Se guardó el modelo con éxito\")"
   ]
  }
 ],
 "metadata": {
  "kernelspec": {
   "display_name": "Python 3",
   "language": "python",
   "name": "python3"
  },
  "language_info": {
   "codemirror_mode": {
    "name": "ipython",
    "version": 3
   },
   "file_extension": ".py",
   "mimetype": "text/x-python",
   "name": "python",
   "nbconvert_exporter": "python",
   "pygments_lexer": "ipython3",
   "version": "3.7.1"
  }
 },
 "nbformat": 4,
 "nbformat_minor": 2
}
