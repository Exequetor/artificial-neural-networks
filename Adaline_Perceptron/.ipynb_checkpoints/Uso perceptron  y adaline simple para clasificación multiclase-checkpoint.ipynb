{
 "cells": [
  {
   "cell_type": "markdown",
   "metadata": {},
   "source": [
    "# Usando el perceptrón simple para clasificación multiclase"
   ]
  },
  {
   "cell_type": "markdown",
   "metadata": {},
   "source": [
    "## Introducción\n",
    "\n",
    "Una red neuronal arficial son modelos basados en las redes neuronales biológicas. Esta red consiste la conexión de neuronas artificiales las cuales están ordenadas por capas. Cada neurona recibe una serie de valores y genera un valor de acuerdo a una función matemática. La salida final del proceso de clasificación es una etiqueta que representa una clase a la que la muestras pertenece.\n",
    "\n",
    "Las redes neuronales se pueden entrenar para que reconozcan patrones en una serie de datos y éstas clasifiquen las muestras con una etiqueta de acuerdo a un entrenamiento previo.\n",
    "\n",
    "<img src=\"red_neuronal2.png\">"
   ]
  },
  {
   "cell_type": "markdown",
   "metadata": {},
   "source": [
    "### Perceptrón \n",
    "\n",
    "El perceptrón consta sólo de la capa de entrada. Si se tienen n entradas, entonces se tendrán n neuronas en la capa de entrada. Su función de activación es una función escalónn. Este tipo de red neuronal discrimina clases de forma lineal y sólo puede clasificar dos clases.\n",
    "\n",
    "<img src=\"perceptron.png\" width=\"400\" height=\"600\">\n",
    "\n",
    "Para calcular la salida de la red antes de la función de activación, se realiza un producto punto entre el vector de datos de entrada y el vector de pesos.\n",
    "\n",
    "$$ z = w_1 x_1 + w_2 x_2 +, ..., + w_m x_m + b = \\sum_{i=1}^{m} w_i x_i + b $$\n",
    "\n",
    "Una vez calculado el valor de $ z $, se utiliza una función escalón como función de activación $g({z})$ para para el proceso de clasificación, teniendo una respuesta en el intervalo $ [-1, 1] $.\n",
    "\n",
    "$$ g(z) = \\left \\{ \\begin{matrix} 1 & \\mbox{si }\\mbox{ z $\\geq$ 0}\n",
    "\\\\ -1& \\mbox{ en otro caso}\\end{matrix}\\right. $$\n",
    "\n",
    "#### Algoritmo de entrenamiento\n",
    "\n",
    "El perceptrón es entrenado en iteraciónes. En cada iteración se actualizan los pesos y el bias. El error es calculado con la respuesta del perceptrón después de aplicar la función de activación. Las fórmulas para las actualizaciones son las siguientes:\n",
    "\n",
    "$$ W = W + n ( Y - d ) \\cdot X $$\n",
    "$$ b = b + n ( Y - d ) $$\n",
    "\n",
    "Donde:<br>\n",
    "$ W $: Vector de pesos<br>\n",
    "$ b $: Bias<br>\n",
    "$ n $: Factor de aprendizaje<br>\n",
    "$ Y $: Vector de clases objetivo<br>\n",
    "$ d $: Respuesta de la red neuronal después de la función de activación.<br>\n",
    "$ X $: Vector de datos de entrada<br>\n",
    "\n",
    "<img src=\"perceptron_entr.png\">"
   ]
  },
  {
   "cell_type": "markdown",
   "metadata": {},
   "source": [
    "### Adaline \n",
    "\n",
    "* Arquitectura (elementos y funcionamiento).\n",
    "* Ilustrar gráficamente la arquitectura.\n",
    "\n",
    "#### Algoritmo de entrenamiento"
   ]
  },
  {
   "cell_type": "markdown",
   "metadata": {},
   "source": [
    "## Aplicación del Perceptrón para clasificación Multiclase"
   ]
  },
  {
   "cell_type": "markdown",
   "metadata": {},
   "source": [
    "### Cargando bibliotecas"
   ]
  },
  {
   "cell_type": "code",
   "execution_count": 2,
   "metadata": {},
   "outputs": [],
   "source": [
    "#Biblioteca de funciones matemáticas (álgebra lineal, números aleatorios, etc).\n",
    "import numpy as np\n",
    "\n",
    "#Se cargan los clasificadores\n",
    "from mlxtend.plotting import plot_decision_regions\n",
    "from mlxtend.classifier import Adaline\n",
    "from mlxtend.classifier import Perceptron\n",
    "\n",
    "#MinMaxScaler\n",
    "import sklearn.preprocessing as prep\n",
    "\n",
    "#Matriz de confusión\n",
    "from sklearn.metrics import confusion_matrix\n",
    "\n",
    "#Biblioteca para graficar\n",
    "import matplotlib.pyplot as plt\n",
    "%matplotlib inline\n",
    "from matplotlib.colors import ListedColormap # Lista de colores"
   ]
  },
  {
   "cell_type": "markdown",
   "metadata": {},
   "source": [
    "**Cargar en X,Y, los datos del conjunto MNIST**\n",
    "\n",
    "Cada vector de la matriz Xi tiene la información que representa un dígito numérico. Cuando se realiza un reshape a un vector para que este se transforme a una matriz de 28x28, entonces se puede describir una imagen que contiene uno de los 10 dígitos. Las clases están divididas cada 500 renglones de X, es decir, en los primeros 500 renglones se tienen representaciones de 0's, en los siguientes 500 se tienen representaciones de 1's, y así sucesivamente hasta el dígito 9. El vector Y contiene las clases a las que pertenece cada renglon de la matriz X."
   ]
  },
  {
   "cell_type": "code",
   "execution_count": 3,
   "metadata": {},
   "outputs": [
    {
     "data": {
      "text/plain": [
       "[5000, 784]"
      ]
     },
     "execution_count": 3,
     "metadata": {},
     "output_type": "execute_result"
    }
   ],
   "source": [
    "\n",
    "from mlxtend.data import mnist_data #Subconjunto del conjunto original\n",
    "[X, Y] = mnist_data()\n",
    "#Se obtiene la cantidad de renglones y de columnas de la matriz de datos\n",
    "[renX, colX] = X.shape\n",
    "[renX, colX]"
   ]
  },
  {
   "cell_type": "markdown",
   "metadata": {},
   "source": [
    "### Mostrando algunos ejemplos"
   ]
  },
  {
   "cell_type": "code",
   "execution_count": 18,
   "metadata": {},
   "outputs": [],
   "source": [
    "#Función para realizar el plot de los dígitos\n",
    "def plotDigits (plotData, labelData, ren, col, otherLabel=[]):\n",
    "    #Se crea la instancia del plot\n",
    "    fig, axs = plt.subplots(ren, col)\n",
    "    fig.suptitle('Digitos')\n",
    "    img = []\n",
    "    #Se agregan los subplots a la figura final\n",
    "    for i in range(ren):\n",
    "        for j in range(col):\n",
    "            img.append(axs[i, j].imshow(plotData[i * col + j],))\n",
    "            if (otherLabel==[]):\n",
    "                axs[i, j].set_title('Etq=' + str(labelData[i * col + j]))\n",
    "            else:\n",
    "                axs[i, j].set_title('Etq=' + str(labelData[i * col + j]) + ' Resp=' + str(otherLabel[i * col + j]))\n",
    "    #tamaño\n",
    "    plt.rcParams[\"figure.figsize\"] = (10,6)\n",
    "    #espacio entre gráficas\n",
    "    plt.subplots_adjust(wspace = 1.5)"
   ]
  },
  {
   "cell_type": "code",
   "execution_count": 19,
   "metadata": {},
   "outputs": [
    {
     "name": "stdout",
     "output_type": "stream",
     "text": [
      "(4, 5)\n"
     ]
    },
    {
     "data": {
      "image/png": "[encoded data removed]",
      "text/plain": [
       "<Figure size 720x504 with 20 Axes>"
      ]
     },
     "metadata": {
      "needs_background": "light"
     },
     "output_type": "display_data"
    }
   ],
   "source": [
    "pltData = np.zeros((20, 28, 28)) #Datos de los primeros 2 digitos cada 500 renglones\n",
    "etqData = np.zeros(20, dtype=int) #Datos del target de los primeros 2 digitos cada 500 renglones\n",
    "#Se obtienen los primeros 2 digitos cada 500 renglones del dataset\n",
    "for i in range(10):\n",
    "    index1 = i*500\n",
    "    index2 = i*500 + 1\n",
    "    pltData[i*2]     = X[index1].reshape(28, 28)\n",
    "    pltData[i*2 + 1] = X[index2].reshape(28, 28)\n",
    "    etqData[i*2]     = Y[index1] \n",
    "    etqData[i*2 + 1] = Y[index2]\n",
    "\n",
    "plotDigits(pltData, etqData, 4, 5)"
   ]
  },
  {
   "cell_type": "markdown",
   "metadata": {},
   "source": [
    "### Normalización de los datos"
   ]
  },
  {
   "cell_type": "code",
   "execution_count": 6,
   "metadata": {},
   "outputs": [],
   "source": [
    "#Se crea un objeto del preprocessing de la biblioteca sklearn\n",
    "#En este caso se utilizará un MinMaxScaler\n",
    "minMax = prep.MinMaxScaler(feature_range=(0, 1), copy=True)"
   ]
  },
  {
   "cell_type": "markdown",
   "metadata": {},
   "source": [
    "**Guardar los valores transformados en Xs** (Xs =X scaled)"
   ]
  },
  {
   "cell_type": "code",
   "execution_count": 7,
   "metadata": {},
   "outputs": [],
   "source": [
    "Xs = minMax.fit_transform(X)"
   ]
  },
  {
   "cell_type": "markdown",
   "metadata": {},
   "source": [
    "### Preparación de los targets para cada dígito"
   ]
  },
  {
   "cell_type": "code",
   "execution_count": 8,
   "metadata": {},
   "outputs": [
    {
     "name": "stdout",
     "output_type": "stream",
     "text": [
      "(10, 5000)\n",
      "[1 1 1 1 1 1 1 1 1 1 0 0 0 0 0 0 0 0 0 0]\n",
      "[0 0 0 0 0 0 0 0 0 0 1 1 1 1 1 1 1 1 1 1]\n"
     ]
    }
   ],
   "source": [
    "Y_m = np.zeros((10, X.shape[0]), dtype=int)\n",
    "Y_m[0] = np.where(Y == 0, 1, 0)\n",
    "Y_m[1] = np.where(Y == 1, 1, 0)\n",
    "Y_m[2] = np.where(Y == 2, 1, 0)\n",
    "Y_m[3] = np.where(Y == 3, 1, 0)\n",
    "Y_m[4] = np.where(Y == 4, 1, 0)\n",
    "Y_m[5] = np.where(Y == 5, 1, 0)\n",
    "Y_m[6] = np.where(Y == 6, 1, 0)\n",
    "Y_m[7] = np.where(Y == 7, 1, 0)\n",
    "Y_m[8] = np.where(Y == 8, 1, 0)\n",
    "Y_m[9] = np.where(Y == 9, 1, 0)\n",
    "\n",
    "print(Y_m.shape)\n",
    "print(Y_m[0, 490:510])\n",
    "print(Y_m[1, 490:510])"
   ]
  },
  {
   "cell_type": "markdown",
   "metadata": {},
   "source": [
    "### Uso de la biblioteca perceptron para clasificar el conjunto de datos"
   ]
  },
  {
   "cell_type": "code",
   "execution_count": 9,
   "metadata": {},
   "outputs": [
    {
     "name": "stdout",
     "output_type": "stream",
     "text": [
      "Entrenamiento del dígito  0\n"
     ]
    },
    {
     "name": "stderr",
     "output_type": "stream",
     "text": [
      "Iteration: 1/10 | Cost 122.00 | Elapsed: 00:00:00 | ETA: 00:00:00"
     ]
    },
    {
     "name": "stdout",
     "output_type": "stream",
     "text": [
      "Score =  0.9884 \n",
      "\n",
      "Entrenamiento del dígito  1\n"
     ]
    },
    {
     "name": "stderr",
     "output_type": "stream",
     "text": [
      "Iteration: 1/10 | Cost 289.00 | Elapsed: 00:00:00 | ETA: 00:00:00"
     ]
    },
    {
     "name": "stdout",
     "output_type": "stream",
     "text": [
      "Score =  0.9948 \n",
      "\n",
      "Entrenamiento del dígito  2\n"
     ]
    },
    {
     "name": "stderr",
     "output_type": "stream",
     "text": [
      "Iteration: 1/10 | Cost 316.00 | Elapsed: 00:00:00 | ETA: 00:00:00"
     ]
    },
    {
     "name": "stdout",
     "output_type": "stream",
     "text": [
      "Score =  0.9784 \n",
      "\n",
      "Entrenamiento del dígito  3\n"
     ]
    },
    {
     "name": "stderr",
     "output_type": "stream",
     "text": [
      "Iteration: 1/10 | Cost 255.00 | Elapsed: 00:00:00 | ETA: 00:00:00"
     ]
    },
    {
     "name": "stdout",
     "output_type": "stream",
     "text": [
      "Score =  0.975 \n",
      "\n",
      "Entrenamiento del dígito  4\n"
     ]
    },
    {
     "name": "stderr",
     "output_type": "stream",
     "text": [
      "Iteration: 1/10 | Cost 360.00 | Elapsed: 00:00:00 | ETA: 00:00:00"
     ]
    },
    {
     "name": "stdout",
     "output_type": "stream",
     "text": [
      "Score =  0.9862 \n",
      "\n",
      "Entrenamiento del dígito  5\n"
     ]
    },
    {
     "name": "stderr",
     "output_type": "stream",
     "text": [
      "Iteration: 1/10 | Cost 164.00 | Elapsed: 00:00:00 | ETA: 00:00:00"
     ]
    },
    {
     "name": "stdout",
     "output_type": "stream",
     "text": [
      "Score =  0.9764 \n",
      "\n",
      "Entrenamiento del dígito  6\n"
     ]
    },
    {
     "name": "stderr",
     "output_type": "stream",
     "text": [
      "Iteration: 1/10 | Cost 192.00 | Elapsed: 00:00:00 | ETA: 00:00:00"
     ]
    },
    {
     "name": "stdout",
     "output_type": "stream",
     "text": [
      "Score =  0.9926 \n",
      "\n",
      "Entrenamiento del dígito  7\n"
     ]
    },
    {
     "name": "stderr",
     "output_type": "stream",
     "text": [
      "Iteration: 1/10 | Cost 466.00 | Elapsed: 00:00:00 | ETA: 00:00:00"
     ]
    },
    {
     "name": "stdout",
     "output_type": "stream",
     "text": [
      "Score =  0.974 \n",
      "\n",
      "Entrenamiento del dígito  8\n"
     ]
    },
    {
     "name": "stderr",
     "output_type": "stream",
     "text": [
      "Iteration: 1/10 | Cost 380.00 | Elapsed: 00:00:00 | ETA: 00:00:00"
     ]
    },
    {
     "name": "stdout",
     "output_type": "stream",
     "text": [
      "Score =  0.9578 \n",
      "\n",
      "Entrenamiento del dígito  9\n"
     ]
    },
    {
     "name": "stderr",
     "output_type": "stream",
     "text": [
      "Iteration: 10/10 | Cost 218.00 | Elapsed: 0:00:01 | ETA: 0:00:000"
     ]
    },
    {
     "name": "stdout",
     "output_type": "stream",
     "text": [
      "Score =  0.9654 \n",
      "\n"
     ]
    }
   ],
   "source": [
    "for i in range(0,10):\n",
    "    per = Perceptron(eta=0.1, epochs=10, random_seed=1, print_progress=3)\n",
    "    print(\"Entrenamiento del dígito \", i)\n",
    "    per.fit(Xs, Y_m[i])\n",
    "    print(\"Score = \",per.score(Xs, Y_m[i]), \"\\n\")\n",
    "\n"
   ]
  },
  {
   "cell_type": "markdown",
   "metadata": {},
   "source": [
    "## implementación propia del perceptrón"
   ]
  },
  {
   "cell_type": "markdown",
   "metadata": {
    "collapsed": true
   },
   "source": [
    "### Arreglo de pesos para los perceptrones"
   ]
  },
  {
   "cell_type": "code",
   "execution_count": 64,
   "metadata": {},
   "outputs": [
    {
     "data": {
      "text/plain": [
       "array([-0.45733954, -0.01778917, -0.45980375,  0.47446441, -0.13229488,\n",
       "        0.06141827,  0.22124234,  0.11935986,  0.08094986, -0.12673176])"
      ]
     },
     "execution_count": 64,
     "metadata": {},
     "output_type": "execute_result"
    }
   ],
   "source": [
    "W_m = np.random.uniform(low=-0.5, high=0.5, size=[10, Xs.shape[1]])\n",
    "W_m[0, :10]"
   ]
  },
  {
   "cell_type": "markdown",
   "metadata": {},
   "source": [
    "### Función signo"
   ]
  },
  {
   "cell_type": "code",
   "execution_count": 11,
   "metadata": {},
   "outputs": [],
   "source": [
    "def signo(x):\n",
    "    if (x >= 0):\n",
    "        return 1.\n",
    "    else:\n",
    "        return -1."
   ]
  },
  {
   "cell_type": "markdown",
   "metadata": {},
   "source": [
    "### Definición del objeto perceptrón"
   ]
  },
  {
   "cell_type": "code",
   "execution_count": 37,
   "metadata": {},
   "outputs": [],
   "source": [
    "class PerceptronImpl:\n",
    "    def __init__(self, aprendizaje=0.1, it=50):\n",
    "        self.aprendizaje = aprendizaje\n",
    "        self.it = it\n",
    "    #Para cambiar los pesos W en cada iteración se utiliza la siguiente fórmula\n",
    "    #W = W + n * (Y[indice] - respuestaActual)*vector características\n",
    "    #W = W + deltaW\n",
    "    \n",
    "    def respuestaRed(self, X, W):\n",
    "        return signo(self.respuestaZ(X, W))\n",
    "    \n",
    "    def respuestaZ(self, X, W):\n",
    "        return np.dot(X, W) + self.bias\n",
    "    \n",
    "    def entrenamiento(self, X, Y, W):\n",
    "        #Inicialización y copias locales. W se recibe como referencia, así que\n",
    "        #se va a modificar la matriz de pesos externa en el proceso de entrenamiento\n",
    "        self.target = np.where(Y == 1, 1., -1.)\n",
    "        self.bias = 0.0\n",
    "        [rowX, colX] = X.shape\n",
    "        self.error = np.zeros(self.it)\n",
    "        for i in range(0, self.it):\n",
    "            #Calcular la respuesta del clasificador con los pesos actuales.\n",
    "            for index in range(0, rowX):\n",
    "                #Calcular la respuesta de la red con los pesos actuales.\n",
    "                resp = self.respuestaRed(X[index], W)\n",
    "                #Calcular el error a utilizar para cada peso.\n",
    "                deltaW = self.aprendizaje * (self.target[index] - resp)\n",
    "                #Actualizar pesos\n",
    "                W += deltaW * X[index]\n",
    "                #Actualizar bias [b = deltaW]\n",
    "                self.bias += deltaW\n",
    "            #Se acumula la cantidad de muestras mal clasificadas después de la iteración.\n",
    "            for index in range(0, rowX):\n",
    "                self.error[i] += int(self.respuestaRed(X[index], W) != self.target[index])\n",
    "    \n",
    "    def accuracy(self, X, Y, W):\n",
    "        acc = 0\n",
    "        for index in range(0, X.shape[0]):\n",
    "            acc += int(self.respuestaRed(X[index], W) == self.target[index])\n",
    "        return acc/X.shape[0]\n",
    "    \n",
    "    def predict(self, X, W):\n",
    "        pred = np.zeros(X.shape[0])\n",
    "        for index in range(0, X.shape[0]):\n",
    "            #Se pasa el número de etiquetado de [-1, 1] a [0, 1]\n",
    "            if (self.respuestaRed(X[index], W) == 1):\n",
    "                pred[index] = 1\n",
    "            else:\n",
    "                pred[index] = 0\n",
    "        return pred\n",
    "            "
   ]
  },
  {
   "cell_type": "markdown",
   "metadata": {},
   "source": [
    "### Entrenamiento"
   ]
  },
  {
   "cell_type": "code",
   "execution_count": 13,
   "metadata": {},
   "outputs": [
    {
     "data": {
      "text/plain": [
       "(5000, 784)"
      ]
     },
     "execution_count": 13,
     "metadata": {},
     "output_type": "execute_result"
    }
   ],
   "source": [
    "#forma del conjunto para entrenamiento\n",
    "Xs.shape"
   ]
  },
  {
   "cell_type": "code",
   "execution_count": 65,
   "metadata": {},
   "outputs": [
    {
     "name": "stdout",
     "output_type": "stream",
     "text": [
      "Entrenamiento de dígito 0 con 50 iteraciones\n",
      "Índice de error por iteracion:\n",
      " [558. 481. 412. 360. 320. 283. 261. 236. 223. 203. 189. 182. 180. 178.\n",
      " 174. 167. 163. 160. 151. 146. 144. 139. 131. 128. 124. 121. 122. 121.\n",
      " 119. 115. 116. 113. 110. 110. 109. 108. 107. 104. 101. 101. 101.  98.\n",
      "  97.  96.  95.  92.  92.  91.  90.  86.]\n",
      "Accuracy= 0.9828 \n",
      "\n",
      "Entrenamiento de dígito 1 con 50 iteraciones\n",
      "Índice de error por iteracion:\n",
      " [554. 475. 393. 337. 305. 276. 258. 237. 222. 210. 199. 192. 183. 180.\n",
      " 178. 168. 162. 159. 155. 151. 148. 147. 145. 140. 139. 136. 134. 131.\n",
      " 128. 127. 125. 123. 122. 122. 119. 118. 116. 113. 110. 110. 108. 108.\n",
      " 107. 103. 101.  99.  98. 100. 100. 100.]\n",
      "Accuracy= 0.98 \n",
      "\n",
      "Entrenamiento de dígito 2 con 50 iteraciones\n",
      "Índice de error por iteracion:\n",
      " [634. 617. 593. 552. 510. 476. 449. 428. 402. 381. 358. 346. 334. 319.\n",
      " 317. 304. 298. 295. 290. 286. 281. 274. 268. 262. 254. 252. 248. 242.\n",
      " 235. 232. 231. 231. 227. 223. 222. 221. 218. 212. 212. 209. 208. 202.\n",
      " 201. 201. 200. 201. 201. 199. 200. 199.]\n",
      "Accuracy= 0.9602 \n",
      "\n",
      "Entrenamiento de dígito 3 con 50 iteraciones\n",
      "Índice de error por iteracion:\n",
      " [698. 677. 652. 607. 564. 531. 504. 475. 457. 431. 410. 396. 383. 367.\n",
      " 358. 350. 341. 330. 320. 312. 309. 308. 297. 291. 291. 286. 284. 282.\n",
      " 280. 274. 268. 268. 267. 266. 263. 260. 257. 256. 256. 257. 253. 252.\n",
      " 251. 252. 252. 249. 247. 246. 243. 241.]\n",
      "Accuracy= 0.9518 \n",
      "\n",
      "Entrenamiento de dígito 4 con 50 iteraciones\n",
      "Índice de error por iteracion:\n",
      " [673. 561. 502. 457. 432. 406. 382. 366. 355. 339. 326. 319. 305. 294.\n",
      " 286. 282. 272. 270. 264. 258. 251. 247. 245. 240. 239. 234. 230. 223.\n",
      " 219. 215. 215. 211. 207. 207. 205. 202. 202. 202. 199. 197. 194. 194.\n",
      " 193. 188. 186. 186. 185. 183. 183. 182.]\n",
      "Accuracy= 0.9636 \n",
      "\n",
      "Entrenamiento de dígito 5 con 50 iteraciones\n",
      "Índice de error por iteracion:\n",
      " [717. 670. 655. 638. 613. 596. 570. 547. 524. 505. 485. 476. 466. 445.\n",
      " 427. 420. 409. 399. 394. 388. 381. 375. 370. 364. 358. 356. 351. 348.\n",
      " 343. 342. 338. 331. 330. 326. 324. 319. 314. 311. 307. 307. 305. 301.\n",
      " 302. 294. 294. 286. 284. 282. 281. 278.]\n",
      "Accuracy= 0.9444 \n",
      "\n",
      "Entrenamiento de dígito 6 con 50 iteraciones\n",
      "Índice de error por iteracion:\n",
      " [785. 721. 581. 485. 410. 363. 346. 313. 299. 279. 270. 255. 243. 239.\n",
      " 221. 213. 208. 205. 201. 195. 186. 186. 179. 172. 171. 169. 168. 162.\n",
      " 156. 152. 151. 149. 148. 147. 149. 147. 147. 146. 145. 144. 144. 144.\n",
      " 144. 142. 140. 142. 141. 139. 138. 138.]\n",
      "Accuracy= 0.9724 \n",
      "\n",
      "Entrenamiento de dígito 7 con 50 iteraciones\n",
      "Índice de error por iteracion:\n",
      " [763. 634. 531. 464. 412. 371. 351. 331. 311. 300. 285. 272. 261. 246.\n",
      " 242. 238. 235. 230. 226. 217. 219. 213. 208. 204. 203. 200. 196. 195.\n",
      " 194. 193. 188. 188. 188. 186. 186. 183. 181. 181. 178. 178. 177. 177.\n",
      " 175. 175. 171. 171. 171. 167. 166. 163.]\n",
      "Accuracy= 0.9674 \n",
      "\n",
      "Entrenamiento de dígito 8 con 50 iteraciones\n",
      "Índice de error por iteracion:\n",
      " [1407. 1283. 1204. 1109. 1042.  989.  954.  931.  905.  869.  837.  836.\n",
      "  821.  794.  794.  781.  766.  752.  733.  732.  715.  711.  699.  683.\n",
      "  668.  659.  645.  640.  640.  632.  637.  627.  619.  618.  616.  621.\n",
      "  619.  614.  616.  609.  606.  605.  596.  594.  591.  595.  591.  595.\n",
      "  600.  599.]\n",
      "Accuracy= 0.8802 \n",
      "\n",
      "Entrenamiento de dígito 9 con 50 iteraciones\n",
      "Índice de error por iteracion:\n",
      " [2131. 1938. 1683. 1411. 1234. 1129. 1073. 1029.  953.  914.  890.  851.\n",
      "  841.  812.  795.  770.  759.  742.  720.  702.  684.  662.  646.  624.\n",
      "  611.  603.  590.  587.  571.  564.  563.  557.  556.  546.  539.  534.\n",
      "  527.  512.  511.  499.  494.  489.  492.  482.  481.  473.  473.  473.\n",
      "  463.  466.]\n",
      "Accuracy= 0.9068 \n",
      "\n"
     ]
    }
   ],
   "source": [
    "# se muestra cómo se va entrenando cada dígito\n",
    "iteraciones = 50\n",
    "per = PerceptronImpl(aprendizaje=0.0001, it=iteraciones)\n",
    "predict = np.zeros((10, 5000))\n",
    "error_vect = np.zeros((10,iteraciones))\n",
    "\n",
    "# Durante el entrenamiento, mostrar la mejora en rendimiento de clasificación (accuracy)\n",
    "for i in range(0, 10):\n",
    "    print(\"Entrenamiento de dígito\", i, \"con\", iteraciones, \"iteraciones\")\n",
    "    per.entrenamiento(Xs, Y_m[i], W_m[i])\n",
    "    #Convertir las etiquetas de clasificación al rango [0, 9]\n",
    "    pred = per.predict(Xs, W_m[i])\n",
    "    for index in range(0, Xs.shape[0]):\n",
    "        predict[i][index] = per.respuestaZ(Xs[index], W_m[i])\n",
    "    error_vect[i] = per.error\n",
    "    print(\"Índice de error por iteracion:\\n\", per.error[:50])\n",
    "    print(\"Accuracy=\", per.accuracy(Xs, Y_m[i], W_m[i]), \"\\n\")"
   ]
  },
  {
   "cell_type": "code",
   "execution_count": 36,
   "metadata": {},
   "outputs": [
    {
     "name": "stdout",
     "output_type": "stream",
     "text": [
      "[0. 0. 0. 0. 0. 0. 0. 1. 0. 0. 0. 1. 0. 1. 0. 1. 1. 1. 0. 0. 0. 1. 0. 0.\n",
      " 0. 0. 1. 0. 0. 0. 0. 0. 0. 0. 0. 0. 0. 1. 0. 0. 0. 0. 0. 0. 0. 0. 1. 0.\n",
      " 0. 0. 0. 1. 1. 1. 0. 0. 1. 0. 0. 0. 1. 0. 0. 0. 1. 1. 0. 1. 1. 1. 1. 0.\n",
      " 1. 1. 0. 1. 1. 0. 0. 1. 1. 0. 0. 1. 0. 0. 1. 1. 1. 1. 1. 0. 0. 0. 0. 0.\n",
      " 1. 1. 0. 1.]\n"
     ]
    }
   ],
   "source": [
    "print(per.predict(Xs, W_m[0])[450:550])"
   ]
  },
  {
   "cell_type": "markdown",
   "metadata": {},
   "source": [
    "### Gráfica de mejora durante las iteraciones"
   ]
  },
  {
   "cell_type": "code",
   "execution_count": 68,
   "metadata": {},
   "outputs": [
    {
     "data": {
      "image/png": "[encoded data removed]",
      "text/plain": [
       "<Figure size 720x432 with 10 Axes>"
      ]
     },
     "metadata": {
      "needs_background": "light"
     },
     "output_type": "display_data"
    }
   ],
   "source": [
    "def plotGraph(it, error):\n",
    "    ren = 5\n",
    "    col = 2\n",
    "    \n",
    "    fig, axs = plt.subplots(ren, col)\n",
    "    fig.suptitle('Gráfica de mejora')\n",
    "    \n",
    "    #Se agregan los subplots a la figura final\n",
    "    for i in range(ren):\n",
    "        for j in range(col):\n",
    "            axs[i, j].plot(np.arange(0,it), error[i * 2 + j], '-')\n",
    "            axs[i, j].set_xlabel('Iteraciones')\n",
    "            axs[i, j].set_ylabel('Errores')\n",
    "      #espacio entre gráficas\n",
    "    plt.subplots_adjust(hspace = 0.4)\n",
    "  \n",
    "    plt.show()\n",
    "    \n",
    "plotGraph(iteraciones, error_vect)"
   ]
  },
  {
   "cell_type": "markdown",
   "metadata": {},
   "source": [
    "### Pruebas de rendimiento de clasificación (predict)"
   ]
  },
  {
   "cell_type": "markdown",
   "metadata": {},
   "source": [
    "## Resultados"
   ]
  },
  {
   "cell_type": "markdown",
   "metadata": {},
   "source": [
    "### Matriz de confusion\n",
    "\n",
    "Qué significa y uso"
   ]
  },
  {
   "cell_type": "code",
   "execution_count": 67,
   "metadata": {},
   "outputs": [
    {
     "data": {
      "text/plain": [
       "array([[468,   0,   2,   1,   0,   8,   6,   1,  11,   3],\n",
       "       [  0, 438,   4,   4,   0,   4,   5,   3,  36,   6],\n",
       "       [  9,   5, 384,  16,   9,   3,  21,   8,  38,   7],\n",
       "       [  2,   4,  11, 379,   0,  34,   0,   9,  45,  16],\n",
       "       [  0,   1,   9,   0, 388,   2,  12,   8,  35,  45],\n",
       "       [  6,   1,   4,  18,   8, 360,  11,   3,  64,  25],\n",
       "       [  4,   2,   3,   1,   5,   6, 452,   2,  20,   5],\n",
       "       [  3,   3,   8,   9,  15,   2,   0, 390,   3,  67],\n",
       "       [  1,   5,   7,   8,   1,  14,   5,   2, 439,  18],\n",
       "       [  4,   1,   0,   7,   4,   8,   1,  21,  15, 439]], dtype=int64)"
      ]
     },
     "execution_count": 67,
     "metadata": {},
     "output_type": "execute_result"
    }
   ],
   "source": [
    "predict_vect = np.zeros(5000)\n",
    "for i in range(0,5000):\n",
    "    result = np.where(predict.T[i] == np.amax(predict.T[i]))\n",
    "    predict_vect[i] = result[0][0] \n",
    "predict_vect\n",
    "\n",
    "confusion_matrix(Y, predict_vect)"
   ]
  },
  {
   "cell_type": "markdown",
   "metadata": {},
   "source": [
    "### Precisión (Accuracy score)\n",
    "\n",
    "Qué significa y uso"
   ]
  },
  {
   "cell_type": "code",
   "execution_count": null,
   "metadata": {},
   "outputs": [],
   "source": []
  },
  {
   "cell_type": "markdown",
   "metadata": {},
   "source": [
    "## Adaline"
   ]
  },
  {
   "cell_type": "code",
   "execution_count": null,
   "metadata": {},
   "outputs": [],
   "source": []
  },
  {
   "cell_type": "code",
   "execution_count": 53,
   "metadata": {},
   "outputs": [
    {
     "name": "stdout",
     "output_type": "stream",
     "text": [
      "Entrenamiento del dígito  0\n"
     ]
    },
    {
     "name": "stderr",
     "output_type": "stream",
     "text": [
      "Iteration: 3/10 | Cost 622.54 | Elapsed: 00:00:00 | ETA: 00:00:00"
     ]
    },
    {
     "name": "stdout",
     "output_type": "stream",
     "text": [
      "<mlxtend.classifier.adaline.Adaline object at 0x0000017ACB5578D0>\n",
      "Score =  0.9738 \n",
      "\n",
      "Entrenamiento del dígito  1\n"
     ]
    },
    {
     "name": "stderr",
     "output_type": "stream",
     "text": [
      "Iteration: 3/10 | Cost 827.53 | Elapsed: 00:00:00 | ETA: 00:00:00"
     ]
    },
    {
     "name": "stdout",
     "output_type": "stream",
     "text": [
      "<mlxtend.classifier.adaline.Adaline object at 0x0000017AC6CC3630>\n",
      "Score =  0.9608 \n",
      "\n",
      "Entrenamiento del dígito  2\n"
     ]
    },
    {
     "name": "stderr",
     "output_type": "stream",
     "text": [
      "Iteration: 3/10 | Cost 820.05 | Elapsed: 00:00:00 | ETA: 00:00:00"
     ]
    },
    {
     "name": "stdout",
     "output_type": "stream",
     "text": [
      "<mlxtend.classifier.adaline.Adaline object at 0x0000017ACB557A20>\n",
      "Score =  0.9198 \n",
      "\n",
      "Entrenamiento del dígito  3\n"
     ]
    },
    {
     "name": "stderr",
     "output_type": "stream",
     "text": [
      "Iteration: 3/10 | Cost 741.61 | Elapsed: 00:00:00 | ETA: 00:00:00"
     ]
    },
    {
     "name": "stdout",
     "output_type": "stream",
     "text": [
      "<mlxtend.classifier.adaline.Adaline object at 0x0000017ACB5578D0>\n",
      "Score =  0.9216 \n",
      "\n",
      "Entrenamiento del dígito  4\n"
     ]
    },
    {
     "name": "stderr",
     "output_type": "stream",
     "text": [
      "Iteration: 3/10 | Cost 847.18 | Elapsed: 00:00:00 | ETA: 00:00:00"
     ]
    },
    {
     "name": "stdout",
     "output_type": "stream",
     "text": [
      "<mlxtend.classifier.adaline.Adaline object at 0x0000017AC6CC3630>\n",
      "Score =  0.9202 \n",
      "\n",
      "Entrenamiento del dígito  5\n"
     ]
    },
    {
     "name": "stderr",
     "output_type": "stream",
     "text": [
      "Iteration: 3/10 | Cost 762.33 | Elapsed: 00:00:00 | ETA: 00:00:00"
     ]
    },
    {
     "name": "stdout",
     "output_type": "stream",
     "text": [
      "<mlxtend.classifier.adaline.Adaline object at 0x0000017AD2D41EB8>\n",
      "Score =  0.9002 \n",
      "\n",
      "Entrenamiento del dígito  6\n"
     ]
    },
    {
     "name": "stderr",
     "output_type": "stream",
     "text": [
      "Iteration: 3/10 | Cost 725.36 | Elapsed: 00:00:00 | ETA: 00:00:00"
     ]
    },
    {
     "name": "stdout",
     "output_type": "stream",
     "text": [
      "<mlxtend.classifier.adaline.Adaline object at 0x0000017ACB5578D0>\n",
      "Score =  0.944 \n",
      "\n",
      "Entrenamiento del dígito  7\n"
     ]
    },
    {
     "name": "stderr",
     "output_type": "stream",
     "text": [
      "Iteration: 3/10 | Cost 1020.68 | Elapsed: 00:00:00 | ETA: 00:00:00"
     ]
    },
    {
     "name": "stdout",
     "output_type": "stream",
     "text": [
      "<mlxtend.classifier.adaline.Adaline object at 0x0000017AD2E0A8D0>\n",
      "Score =  0.9416 \n",
      "\n",
      "Entrenamiento del dígito  8\n"
     ]
    },
    {
     "name": "stderr",
     "output_type": "stream",
     "text": [
      "Iteration: 3/10 | Cost 887.54 | Elapsed: 00:00:00 | ETA: 00:00:00"
     ]
    },
    {
     "name": "stdout",
     "output_type": "stream",
     "text": [
      "<mlxtend.classifier.adaline.Adaline object at 0x0000017AC77A6240>\n",
      "Score =  0.9 \n",
      "\n",
      "Entrenamiento del dígito  9\n"
     ]
    },
    {
     "name": "stderr",
     "output_type": "stream",
     "text": [
      "Iteration: 10/10 | Cost 766.66 | Elapsed: 0:00:00 | ETA: 0:00:000"
     ]
    },
    {
     "name": "stdout",
     "output_type": "stream",
     "text": [
      "<mlxtend.classifier.adaline.Adaline object at 0x0000017AD2E0A8D0>\n",
      "Score =  0.9 \n",
      "\n"
     ]
    }
   ],
   "source": [
    "for i in range(0, 10):\n",
    "    ada = Adaline(eta=0.00001, epochs=10, minibatches = 10, random_seed=1, print_progress=3)\n",
    "    print(\"Entrenamiento del dígito \", i)\n",
    "    print(ada.fit(Xs, Y_m[i]))\n",
    "    print(\"Score = \",ada.score(Xs, Y_m[i]), \"\\n\")"
   ]
  },
  {
   "cell_type": "markdown",
   "metadata": {},
   "source": [
    "### Generacion de pesos aleatorios \n"
   ]
  },
  {
   "cell_type": "code",
   "execution_count": 59,
   "metadata": {},
   "outputs": [],
   "source": [
    "W_m = np.random.uniform(low= -0.2, high=0.2, size=[10,colX])"
   ]
  },
  {
   "cell_type": "markdown",
   "metadata": {},
   "source": [
    "### Definición de la clase AdalineImpl"
   ]
  },
  {
   "cell_type": "code",
   "execution_count": 55,
   "metadata": {},
   "outputs": [],
   "source": [
    "class AdalineImpl:\n",
    "    def __init__(self, aprendizaje=0.1, it=50):\n",
    "        self.aprendizaje = aprendizaje\n",
    "        self.it = it\n",
    "    #Para cambiar los pesos W en cada iteración se utiliza la siguiente fórmula\n",
    "    #W = (X.trans . X)^−1 . X.trans . target \n",
    "    \n",
    "    def respuestaZ(self, X, W):\n",
    "        return np.dot(X, W) + self.bias\n",
    "    \n",
    "    def respuestaRed(self, X, W):\n",
    "        return signo(self.respuestaZ(X, W))\n",
    "    \n",
    "    def entrenamiento(self, X, Y, W):\n",
    "        #Inicialización y copias locales. W se recibe como referencia, así que\n",
    "        #se va a modificar la matriz de pesos externa en el proceso de entrenamiento\n",
    "        # W = W + aprendizaje * (target - respuesta)\n",
    "        self.target = np.where(Y == 1, 1., -1.)\n",
    "        self.bias = 0.0\n",
    "        [rowX, colX] = X.shape\n",
    "        self.XX = X\n",
    "        self.error = np.zeros(self.it)\n",
    "        indexPool = np.arange(100)\n",
    "        np.random.shuffle(indexPool)\n",
    "        for it in range(0, self.it):\n",
    "            #Calcular la respuesta del clasificador con los pesos actuales.\n",
    "            for index in range(0, rowX):\n",
    "                #Calcular la respuesta de la red con los pesos actuales.\n",
    "                resp = self.respuestaZ(X[index], W)\n",
    "                #Calcular el error\n",
    "                error = self.target[index] - resp\n",
    "                #Actualizar pesos\n",
    "                W += self.aprendizaje * error * X[index]\n",
    "                #Actualizar bias [b = b + aprendizaje * error]\n",
    "                self.bias += self.aprendizaje * error\n",
    "            #Se acumula la cantidad de muestras mal clasificadas después de la iteración.\n",
    "            for index in range(0, rowX):\n",
    "                self.error[it] += int(self.respuestaRed(X[index], W) != self.target[index])\n",
    "\n",
    "    def accuracy(self, X, Y, W):\n",
    "        acc = 0\n",
    "        for index in range(0, X.shape[0]):\n",
    "            acc += int(self.respuestaRed(X[index], W) == self.target[index])\n",
    "        return acc/X.shape[0]\n",
    "    \n",
    "    def predict(self, X, W):\n",
    "        pred = np.zeros(X.shape[0])\n",
    "        for index in range(0, X.shape[0]):\n",
    "            #Se pasa el número de etiquetado de [-1, 1] a [0, 1]\n",
    "            if (self.respuestaRed(X[index], W) == 1):\n",
    "                pred[index] = 1\n",
    "            else:\n",
    "                pred[index] = 0\n",
    "        return pred\n",
    "            "
   ]
  },
  {
   "cell_type": "code",
   "execution_count": 60,
   "metadata": {},
   "outputs": [
    {
     "name": "stdout",
     "output_type": "stream",
     "text": [
      "Entrenamiento de dígito 0 con 50 iteraciones\n",
      "Errores por iteración:\n",
      " [1359. 1080.  928.  800.  722.  634.  584.  531.  486.  466.  445.  423.\n",
      "  406.  395.  386.  374.  363.  357.  353.  343.  334.  328.  319.  315.\n",
      "  307.  306.  303.  295.  292.  288.  282.  276.  274.  273.  272.  266.\n",
      "  261.  258.  253.  249.  240.  238.  237.  234.  231.  226.  224.  223.\n",
      "  221.  219.]\n",
      "Accuracy =  0.9562 \n",
      "\n",
      "Entrenamiento de dígito 1 con 50 iteraciones\n",
      "Errores por iteración:\n",
      " [1385. 1025.  923.  869.  818.  768.  720.  689.  635.  587.  553.  528.\n",
      "  502.  477.  460.  432.  416.  394.  384.  368.  348.  337.  327.  318.\n",
      "  311.  304.  301.  297.  287.  284.  274.  271.  268.  265.  259.  253.\n",
      "  245.  239.  235.  230.  228.  227.  226.  217.  216.  215.  210.  206.\n",
      "  207.  206.]\n",
      "Accuracy =  0.9588 \n",
      "\n",
      "Entrenamiento de dígito 2 con 50 iteraciones\n",
      "Errores por iteración:\n",
      " [1007.  892.  821.  782.  752.  727.  697.  678.  661.  641.  622.  612.\n",
      "  593.  580.  560.  546.  539.  526.  511.  502.  495.  492.  483.  474.\n",
      "  471.  461.  457.  452.  447.  436.  436.  430.  427.  424.  420.  415.\n",
      "  411.  407.  403.  400.  398.  390.  383.  378.  374.  373.  368.  366.\n",
      "  366.  365.]\n",
      "Accuracy =  0.927 \n",
      "\n",
      "Entrenamiento de dígito 3 con 50 iteraciones\n",
      "Errores por iteración:\n",
      " [1410. 1214. 1131. 1068.  992.  942.  890.  858.  818.  782.  737.  714.\n",
      "  684.  662.  645.  629.  613.  597.  577.  564.  551.  543.  531.  522.\n",
      "  513.  506.  497.  490.  482.  465.  460.  454.  447.  437.  431.  424.\n",
      "  419.  415.  411.  407.  402.  401.  399.  398.  393.  391.  389.  387.\n",
      "  384.  382.]\n",
      "Accuracy =  0.9236 \n",
      "\n",
      "Entrenamiento de dígito 4 con 50 iteraciones\n",
      "Errores por iteración:\n",
      " [1055.  828.  764.  744.  718.  684.  659.  633.  618.  600.  594.  575.\n",
      "  563.  555.  544.  536.  523.  516.  509.  500.  497.  486.  479.  474.\n",
      "  471.  468.  467.  455.  448.  439.  433.  429.  421.  415.  410.  406.\n",
      "  401.  394.  390.  386.  381.  376.  374.  372.  372.  371.  371.  368.\n",
      "  363.  363.]\n",
      "Accuracy =  0.9274 \n",
      "\n",
      "Entrenamiento de dígito 5 con 50 iteraciones\n",
      "Errores por iteración:\n",
      " [1490. 1138. 1025.  958.  894.  843.  802.  764.  738.  718.  697.  679.\n",
      "  661.  646.  626.  614.  604.  588.  572.  568.  557.  551.  541.  530.\n",
      "  527.  515.  506.  498.  490.  484.  473.  470.  464.  460.  453.  447.\n",
      "  438.  435.  427.  424.  422.  420.  417.  414.  413.  411.  410.  407.\n",
      "  405.  403.]\n",
      "Accuracy =  0.9194 \n",
      "\n",
      "Entrenamiento de dígito 6 con 50 iteraciones\n",
      "Errores por iteración:\n",
      " [1302. 1125. 1012.  923.  853.  790.  727.  671.  629.  584.  555.  537.\n",
      "  513.  494.  478.  469.  447.  434.  417.  406.  394.  386.  379.  374.\n",
      "  363.  357.  348.  344.  338.  331.  324.  317.  313.  305.  297.  294.\n",
      "  290.  285.  281.  279.  278.  273.  270.  271.  269.  265.  263.  259.\n",
      "  254.  247.]\n",
      "Accuracy =  0.9506 \n",
      "\n",
      "Entrenamiento de dígito 7 con 50 iteraciones\n",
      "Errores por iteración:\n",
      " [1303. 1182. 1073.  990.  911.  840.  797.  761.  714.  670.  638.  609.\n",
      "  590.  563.  538.  521.  501.  484.  466.  449.  439.  430.  417.  406.\n",
      "  389.  382.  378.  371.  359.  358.  350.  342.  333.  326.  319.  312.\n",
      "  307.  307.  306.  300.  290.  287.  285.  284.  280.  276.  273.  273.\n",
      "  271.  268.]\n",
      "Accuracy =  0.9464 \n",
      "\n",
      "Entrenamiento de dígito 8 con 50 iteraciones\n",
      "Errores por iteración:\n",
      " [1776. 1525. 1418. 1332. 1281. 1210. 1159. 1103. 1064. 1023.  982.  953.\n",
      "  928.  887.  854.  829.  815.  790.  772.  753.  739.  714.  690.  674.\n",
      "  665.  656.  648.  635.  626.  607.  596.  584.  570.  555.  549.  539.\n",
      "  528.  520.  513.  508.  502.  496.  488.  484.  479.  475.  472.  461.\n",
      "  458.  452.]\n",
      "Accuracy =  0.9096 \n",
      "\n",
      "Entrenamiento de dígito 9 con 50 iteraciones\n",
      "Errores por iteración:\n",
      " [1928. 1445. 1294. 1235. 1185. 1136. 1091. 1060. 1035. 1005.  977.  960.\n",
      "  931.  904.  888.  876.  858.  842.  821.  812.  803.  780.  760.  754.\n",
      "  741.  730.  720.  704.  695.  686.  677.  666.  658.  650.  641.  627.\n",
      "  616.  607.  598.  593.  586.  578.  571.  562.  559.  554.  551.  546.\n",
      "  543.  538.]\n",
      "Accuracy =  0.8924 \n",
      "\n"
     ]
    }
   ],
   "source": [
    "iteraciones = 50\n",
    "# se muestra cómo se va entrenando cada dígito\n",
    "ada = AdalineImpl(aprendizaje=0.00001, it=iteraciones)\n",
    "predict = np.zeros((10, 5000))\n",
    "error_vect = np.zeros((10,iteraciones))\n",
    "# Durante el entrenamiento, mostrar la mejora en rendimiento de clasificación (accuracy)\n",
    "for i in range(0, 10):\n",
    "    print(\"Entrenamiento de dígito\", i , \"con\", iteraciones, \"iteraciones\")\n",
    "    ada.entrenamiento(Xs, Y_m[i], W_m[i])\n",
    "    #Convertir las etiquetas de clasificación al rango [0, 9]\n",
    "    pred = ada.predict(Xs, W_m[i])\n",
    "    for index in range(0, Xs.shape[0]):\n",
    "        predict[i][index] = per.respuestaZ(Xs[index], W_m[i])\n",
    "    error_vect[i] = ada.error\n",
    "    print(\"Errores por iteración:\\n\", ada.error)\n",
    "    print(\"Accuracy = \", ada.accuracy(Xs, Y_m[i], W_m[i]), \"\\n\")"
   ]
  },
  {
   "cell_type": "markdown",
   "metadata": {},
   "source": [
    "#### Entrenamiento"
   ]
  },
  {
   "cell_type": "code",
   "execution_count": null,
   "metadata": {
    "scrolled": true
   },
   "outputs": [],
   "source": [
    "# Durante el entrenamiento, mostrar la mejora en rendimiento de clasificación (accuracy)"
   ]
  },
  {
   "cell_type": "code",
   "execution_count": 69,
   "metadata": {},
   "outputs": [
    {
     "data": {
      "image/png": "[encoded data removed]",
      "text/plain": [
       "<Figure size 720x432 with 10 Axes>"
      ]
     },
     "metadata": {
      "needs_background": "light"
     },
     "output_type": "display_data"
    }
   ],
   "source": [
    "plotGraph(iteraciones, error_vect)"
   ]
  },
  {
   "cell_type": "markdown",
   "metadata": {},
   "source": [
    "### Pruebas de rendimiento"
   ]
  },
  {
   "cell_type": "code",
   "execution_count": null,
   "metadata": {},
   "outputs": [],
   "source": []
  },
  {
   "cell_type": "code",
   "execution_count": 57,
   "metadata": {},
   "outputs": [
    {
     "data": {
      "text/plain": [
       "array([[411,   0,   2,   5,   3,  15,  19,   6,  28,  11],\n",
       "       [  0, 453,   7,   0,   1,   4,   4,   3,  26,   2],\n",
       "       [  9,  19, 297,  35,   9,   8,  35,  30,  38,  20],\n",
       "       [  4,  14,  28, 329,   2,  21,  15,  19,  43,  25],\n",
       "       [  3,   6,  16,   3, 288,  16,  19,  17,  40,  92],\n",
       "       [ 17,  13,  18,  47,  26, 207,  33,  10,  86,  43],\n",
       "       [ 10,  14,   8,   4,   9,   8, 402,   8,  24,  13],\n",
       "       [ 14,  16,  11,  12,  11,   0,   8, 364,   9,  55],\n",
       "       [  8,  29,  23,  14,  10,  22,  18,  10, 347,  19],\n",
       "       [  8,   3,   8,  15,  24,  18,   8,  35,  25, 356]], dtype=int64)"
      ]
     },
     "execution_count": 57,
     "metadata": {},
     "output_type": "execute_result"
    }
   ],
   "source": [
    "predict_vect = np.zeros(5000)\n",
    "for i in range(0,5000):\n",
    "    result = np.where(predict.T[i] == np.amax(predict.T[i]))\n",
    "    predict_vect[i] = result[0][0] \n",
    "predict_vect\n",
    "confusion_matrix(Y, predict_vect)"
   ]
  },
  {
   "cell_type": "code",
   "execution_count": null,
   "metadata": {},
   "outputs": [],
   "source": [
    "# Accuracy"
   ]
  },
  {
   "cell_type": "code",
   "execution_count": null,
   "metadata": {},
   "outputs": [],
   "source": []
  },
  {
   "cell_type": "markdown",
   "metadata": {},
   "source": [
    "## Conclusiones\n",
    "\n",
    "* Qué resultados se obtuvieron usando el Perceptrón y Adaline, hacer referencia a algunas cosas en particular que hayan detectado\n",
    "* Qué detalles aportaron las matrices de confusión.\n",
    "* Con las configuraciones finales, aproximadamente en qué iteracion empezó a disminuir notoriamente la mejora en redimiento de clasificación del perceptrón y adaline\n",
    "* Qué pasa cuando en el conjunto de entrenamiento hay mucho más elementos de una clase que de otra.\n",
    "* ..."
   ]
  }
 ],
 "metadata": {
  "kernelspec": {
   "display_name": "Python 3",
   "language": "python",
   "name": "python3"
  },
  "language_info": {
   "codemirror_mode": {
    "name": "ipython",
    "version": 3
   },
   "file_extension": ".py",
   "mimetype": "text/x-python",
   "name": "python",
   "nbconvert_exporter": "python",
   "pygments_lexer": "ipython3",
   "version": "3.7.1"
  }
 },
 "nbformat": 4,
 "nbformat_minor": 2
}
