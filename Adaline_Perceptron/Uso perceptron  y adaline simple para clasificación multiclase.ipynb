{
 "cells": [
  {
   "cell_type": "markdown",
   "metadata": {},
   "source": [
    "# Usando el perceptrón simple para clasificación multiclase\n",
    "**Hernández Montellano Carlos**\n",
    "\n",
    "**Redes Neuronales**\n",
    "\n",
    "**1002-A**\n"
   ]
  },
  {
   "cell_type": "markdown",
   "metadata": {},
   "source": [
    "## Introducción  \n",
    "\n",
    "Una red neuronal arficial son modelos basados en las redes neuronales biológicas. Esta red consiste la conexión de neuronas artificiales las cuales están ordenadas por capas. Cada neurona recibe una serie de valores y genera un valor de acuerdo a una función matemática. La salida final del proceso de clasificación es una etiqueta que representa una clase a la que la muestras pertenece.\n",
    "\n",
    "Las redes neuronales se pueden entrenar para que reconozcan patrones en una serie de datos y éstas clasifiquen las muestras con una etiqueta de acuerdo a un entrenamiento previo.\n",
    "\n",
    "<img src=\"red_neuronal2.png\">"
   ]
  },
  {
   "cell_type": "markdown",
   "metadata": {},
   "source": [
    "### Perceptrón  \n",
    "\n",
    "El perceptrón consta sólo de la capa de entrada. Si se tienen n entradas, entonces se tendrán n neuronas en la capa de entrada. Su función de activación es una función escalónn. Este tipo de red neuronal discrimina clases de forma lineal y sólo puede clasificar dos clases.\n",
    "\n",
    "<img src=\"perceptron.png\" width=\"400\" height=\"600\">\n",
    "\n",
    "Para calcular la salida de la red antes de la función de activación, se realiza un producto punto entre el vector de datos de entrada y el vector de pesos.\n",
    "\n",
    "$$ z = w_1 x_1 + w_2 x_2 +, ..., + w_m x_m + b = \\sum_{i=1}^{m} w_i x_i + b $$\n",
    "\n",
    "Una vez calculado el valor de $z$, se utiliza una función escalón como función de etiquetado $g(z)$ para para el proceso de clasificación, teniendo una respuesta en el intervalo $[-1, 1]$.\n",
    "\n",
    "$$ g(z) = \\left \\{ \\begin{matrix} 1 & \\mbox{si }\\mbox{ z $\\geq$ 0}\n",
    "\\\\ -1& \\mbox{ en otro caso}\\end{matrix}\\right. $$\n",
    "\n",
    "#### Algoritmo de entrenamiento  \n",
    "\n",
    "\n",
    "El perceptrón es entrenado en iteraciónes. En cada iteración se actualizan los pesos y el bias. El error es calculado con la respuesta del perceptrón después de aplicar el etiquetado de las muestras. Las fórmulas para las actualizaciones son las siguientes:\n",
    "\n",
    "$$ W = W + n ( Y - d ) \\cdot X $$\n",
    "$$ b = b + n ( Y - d ) $$\n",
    "\n",
    "Donde:  \n",
    "$W$: Vector de pesos  \n",
    "$b$: Bias  \n",
    "$n$: Factor de aprendizaje  \n",
    "$Y$: Vector de clases objetivo  \n",
    "$d$: Respuesta de la red neuronal después del etiquetado.  \n",
    "$X$: Vector de datos de entrada.  \n",
    "\n",
    "![200](perceptron.png \"Title\")"
   ]
  },
  {
   "cell_type": "markdown",
   "metadata": {},
   "source": [
    "### Adaline  \n",
    "\n",
    "Adaline es muy parecido al perceptrón ya que realiza una clasificación lineal y binaria. También el cálculo de la clasificación y la función de activación es similar. La diferencia fundamental se encuentra en el algoritmo de entrenamiento.\n",
    "\n",
    "#### Algoritmo de entrenamiento  \n",
    "\n",
    "\n",
    "Al igual que el Perceptrón, la red Adaline utiliza la salida para calcular el error, pero la diferencia está en que Adaline utiliza el valor continuo antes de la función de activación, es decir, se utiliza el valor $z$ en lugar de $g({z})$ al calcular el error $(Y - d)$, donde $Y$ es el vector objetivo y $d$ es la respuesta de la red antes de etiquetar.\n",
    "\n",
    "<img src=\"ada.png\">\n"
   ]
  },
  {
   "cell_type": "markdown",
   "metadata": {},
   "source": [
    "## Aplicación del Perceptrón para clasificación Multiclase"
   ]
  },
  {
   "cell_type": "markdown",
   "metadata": {},
   "source": [
    "### Cargando bibliotecas"
   ]
  },
  {
   "cell_type": "code",
   "execution_count": 95,
   "metadata": {},
   "outputs": [],
   "source": [
    "#Biblioteca de funciones matemáticas (álgebra lineal, números aleatorios, etc).\n",
    "import numpy as np\n",
    "\n",
    "#Se cargan los clasificadores\n",
    "from mlxtend.plotting import plot_decision_regions\n",
    "from mlxtend.classifier import Adaline\n",
    "from mlxtend.classifier import Perceptron\n",
    "\n",
    "#MinMaxScaler\n",
    "import sklearn.preprocessing as prep\n",
    "\n",
    "#Matriz de confusión\n",
    "from sklearn.metrics import confusion_matrix\n",
    "\n",
    "#Biblioteca para graficar\n",
    "import matplotlib.pyplot as plt\n",
    "%matplotlib inline\n",
    "from matplotlib.colors import ListedColormap # Lista de colores"
   ]
  },
  {
   "cell_type": "markdown",
   "metadata": {},
   "source": [
    "**Cargar en X,Y, los datos del conjunto MNIST**  \n",
    "\n",
    "Cada vector de la matriz Xi tiene la información que representa un dígito numérico. Cuando se realiza un reshape a un vector para que este se transforme a una matriz de 28x28, entonces se puede describir una imagen que contiene uno de los 10 dígitos. Las clases están divididas cada 500 renglones de X, es decir, en los primeros 500 renglones se tienen representaciones de 0's, en los siguientes 500 se tienen representaciones de 1's, y así sucesivamente hasta el dígito 9. El vector Y contiene las clases a las que pertenece cada renglon de la matriz X."
   ]
  },
  {
   "cell_type": "code",
   "execution_count": 96,
   "metadata": {},
   "outputs": [
    {
     "data": {
      "text/plain": [
       "[5000, 784]"
      ]
     },
     "execution_count": 96,
     "metadata": {},
     "output_type": "execute_result"
    }
   ],
   "source": [
    "\n",
    "from mlxtend.data import mnist_data #Subconjunto del conjunto original\n",
    "[X, Y] = mnist_data()\n",
    "#Se obtiene la cantidad de renglones y de columnas de la matriz de datos\n",
    "[renX, colX] = X.shape\n",
    "[renX, colX]"
   ]
  },
  {
   "cell_type": "markdown",
   "metadata": {},
   "source": [
    "### Mostrando algunos ejemplos"
   ]
  },
  {
   "cell_type": "code",
   "execution_count": 97,
   "metadata": {},
   "outputs": [],
   "source": [
    "#Función para realizar el plot de los dígitos\n",
    "def plotDigits (plotData, labelData, ren, col, otherLabel=[]):\n",
    "    #Se crea la instancia del plot\n",
    "    fig, axs = plt.subplots(ren, col)\n",
    "    fig.suptitle('Digitos')\n",
    "    img = []\n",
    "    #Se agregan los subplots a la figura final\n",
    "    for i in range(ren):\n",
    "        for j in range(col):\n",
    "            img.append(axs[i, j].imshow(plotData[i * col + j],))\n",
    "            if (otherLabel==[]):\n",
    "                axs[i, j].set_title('Etq=' + str(labelData[i * col + j]))\n",
    "            else:\n",
    "                axs[i, j].set_title('Etq=' + str(labelData[i * col + j]) + ' Resp=' + str(otherLabel[i * col + j]))\n",
    "    #tamaño\n",
    "    plt.rcParams[\"figure.figsize\"] = (10,6)\n",
    "    #espacio entre gráficas\n",
    "    plt.subplots_adjust(wspace = 1.5)"
   ]
  },
  {
   "cell_type": "code",
   "execution_count": 118,
   "metadata": {},
   "outputs": [
    {
     "data": {
      "image/png": "[encoded data removed]",
      "text/plain": [
       "<Figure size 720x432 with 20 Axes>"
      ]
     },
     "metadata": {
      "needs_background": "light"
     },
     "output_type": "display_data"
    }
   ],
   "source": [
    "pltData = np.zeros((20, 28, 28)) #Datos de los primeros 2 digitos cada 500 renglones\n",
    "etqData = np.zeros(20, dtype=int) #Datos del target de los primeros 2 digitos cada 500 renglones\n",
    "#Se obtienen los primeros 2 digitos cada 500 renglones del dataset\n",
    "for i in range(10):\n",
    "    index1 = i*500\n",
    "    index2 = i*500 + 1\n",
    "    pltData[i*2]     = X[index1].reshape(28, 28)\n",
    "    pltData[i*2 + 1] = X[index2].reshape(28, 28)\n",
    "    etqData[i*2]     = Y[index1] \n",
    "    etqData[i*2 + 1] = Y[index2]\n",
    "\n",
    "plotDigits(pltData, etqData, 4, 5)"
   ]
  },
  {
   "cell_type": "markdown",
   "metadata": {},
   "source": [
    "### Normalización de los datos"
   ]
  },
  {
   "cell_type": "code",
   "execution_count": 99,
   "metadata": {},
   "outputs": [],
   "source": [
    "#Se crea un objeto del preprocessing de la biblioteca sklearn\n",
    "#En este caso se utilizará un MinMaxScaler\n",
    "minMax = prep.MinMaxScaler(feature_range=(0, 1), copy=True)"
   ]
  },
  {
   "cell_type": "markdown",
   "metadata": {},
   "source": [
    "**Guardar los valores transformados en Xs** (Xs =X scaled)"
   ]
  },
  {
   "cell_type": "code",
   "execution_count": 100,
   "metadata": {},
   "outputs": [],
   "source": [
    "Xs = minMax.fit_transform(X)"
   ]
  },
  {
   "cell_type": "markdown",
   "metadata": {},
   "source": [
    "### Preparación de los targets para cada dígito"
   ]
  },
  {
   "cell_type": "code",
   "execution_count": 101,
   "metadata": {},
   "outputs": [
    {
     "name": "stdout",
     "output_type": "stream",
     "text": [
      "(10, 5000)\n",
      "[1 1 1 1 1 1 1 1 1 1 0 0 0 0 0 0 0 0 0 0]\n",
      "[0 0 0 0 0 0 0 0 0 0 1 1 1 1 1 1 1 1 1 1]\n"
     ]
    }
   ],
   "source": [
    "Y_m = np.zeros((10, X.shape[0]), dtype=int)\n",
    "Y_m[0] = np.where(Y == 0, 1, 0)\n",
    "Y_m[1] = np.where(Y == 1, 1, 0)\n",
    "Y_m[2] = np.where(Y == 2, 1, 0)\n",
    "Y_m[3] = np.where(Y == 3, 1, 0)\n",
    "Y_m[4] = np.where(Y == 4, 1, 0)\n",
    "Y_m[5] = np.where(Y == 5, 1, 0)\n",
    "Y_m[6] = np.where(Y == 6, 1, 0)\n",
    "Y_m[7] = np.where(Y == 7, 1, 0)\n",
    "Y_m[8] = np.where(Y == 8, 1, 0)\n",
    "Y_m[9] = np.where(Y == 9, 1, 0)\n",
    "\n",
    "print(Y_m.shape)\n",
    "print(Y_m[0, 490:510])\n",
    "print(Y_m[1, 490:510])"
   ]
  },
  {
   "cell_type": "markdown",
   "metadata": {},
   "source": [
    "### Uso de la biblioteca perceptron para clasificar el conjunto de datos"
   ]
  },
  {
   "cell_type": "code",
   "execution_count": 102,
   "metadata": {},
   "outputs": [
    {
     "name": "stdout",
     "output_type": "stream",
     "text": [
      "Entrenamiento del dígito  0\n"
     ]
    },
    {
     "name": "stderr",
     "output_type": "stream",
     "text": [
      "Iteration: 1/10 | Cost 122.00 | Elapsed: 00:00:00 | ETA: 00:00:00"
     ]
    },
    {
     "name": "stdout",
     "output_type": "stream",
     "text": [
      "Score =  0.9884 \n",
      "\n",
      "Entrenamiento del dígito  1\n"
     ]
    },
    {
     "name": "stderr",
     "output_type": "stream",
     "text": [
      "Iteration: 10/10 | Cost 41.00 | Elapsed: 0:00:01 | ETA: 0:00:000"
     ]
    },
    {
     "name": "stdout",
     "output_type": "stream",
     "text": [
      "Score =  0.9948 \n",
      "\n",
      "Entrenamiento del dígito  2\n"
     ]
    },
    {
     "name": "stderr",
     "output_type": "stream",
     "text": [
      "Iteration: 10/10 | Cost 151.00 | Elapsed: 0:00:01 | ETA: 0:00:000"
     ]
    },
    {
     "name": "stdout",
     "output_type": "stream",
     "text": [
      "Score =  0.9784 \n",
      "\n",
      "Entrenamiento del dígito  3\n"
     ]
    },
    {
     "name": "stderr",
     "output_type": "stream",
     "text": [
      "Iteration: 1/10 | Cost 255.00 | Elapsed: 00:00:00 | ETA: 00:00:00"
     ]
    },
    {
     "name": "stdout",
     "output_type": "stream",
     "text": [
      "Score =  0.975 \n",
      "\n",
      "Entrenamiento del dígito  4\n"
     ]
    },
    {
     "name": "stderr",
     "output_type": "stream",
     "text": [
      "Iteration: 1/10 | Cost 360.00 | Elapsed: 00:00:00 | ETA: 00:00:00"
     ]
    },
    {
     "name": "stdout",
     "output_type": "stream",
     "text": [
      "Score =  0.9862 \n",
      "\n",
      "Entrenamiento del dígito  5\n"
     ]
    },
    {
     "name": "stderr",
     "output_type": "stream",
     "text": [
      "Iteration: 1/10 | Cost 164.00 | Elapsed: 00:00:00 | ETA: 00:00:00"
     ]
    },
    {
     "name": "stdout",
     "output_type": "stream",
     "text": [
      "Score =  0.9764 \n",
      "\n",
      "Entrenamiento del dígito  6\n"
     ]
    },
    {
     "name": "stderr",
     "output_type": "stream",
     "text": [
      "Iteration: 1/10 | Cost 192.00 | Elapsed: 00:00:00 | ETA: 00:00:00"
     ]
    },
    {
     "name": "stdout",
     "output_type": "stream",
     "text": [
      "Score =  0.9926 \n",
      "\n",
      "Entrenamiento del dígito  7\n"
     ]
    },
    {
     "name": "stderr",
     "output_type": "stream",
     "text": [
      "Iteration: 1/10 | Cost 466.00 | Elapsed: 00:00:00 | ETA: 00:00:00"
     ]
    },
    {
     "name": "stdout",
     "output_type": "stream",
     "text": [
      "Score =  0.974 \n",
      "\n",
      "Entrenamiento del dígito  8\n"
     ]
    },
    {
     "name": "stderr",
     "output_type": "stream",
     "text": [
      "Iteration: 1/10 | Cost 380.00 | Elapsed: 00:00:00 | ETA: 00:00:00"
     ]
    },
    {
     "name": "stdout",
     "output_type": "stream",
     "text": [
      "Score =  0.9578 \n",
      "\n",
      "Entrenamiento del dígito  9\n"
     ]
    },
    {
     "name": "stderr",
     "output_type": "stream",
     "text": [
      "Iteration: 10/10 | Cost 218.00 | Elapsed: 0:00:01 | ETA: 0:00:000"
     ]
    },
    {
     "name": "stdout",
     "output_type": "stream",
     "text": [
      "Score =  0.9654 \n",
      "\n"
     ]
    }
   ],
   "source": [
    "for i in range(0,10):\n",
    "    per = Perceptron(eta=0.1, epochs=10, random_seed=1, print_progress=3)\n",
    "    print(\"Entrenamiento del dígito \", i)\n",
    "    per.fit(Xs, Y_m[i])\n",
    "    print(\"Score = \",per.score(Xs, Y_m[i]), \"\\n\")\n",
    "\n"
   ]
  },
  {
   "cell_type": "markdown",
   "metadata": {},
   "source": [
    "## implementación propia del perceptrón"
   ]
  },
  {
   "cell_type": "markdown",
   "metadata": {
    "collapsed": true
   },
   "source": [
    "### Arreglo de pesos para los perceptrones"
   ]
  },
  {
   "cell_type": "code",
   "execution_count": 103,
   "metadata": {},
   "outputs": [
    {
     "data": {
      "text/plain": [
       "array([ 0.34350262, -0.15346392, -0.12656732, -0.24028762,  0.45139447,\n",
       "       -0.23173174,  0.34185047,  0.35669899,  0.24731733, -0.20471778])"
      ]
     },
     "execution_count": 103,
     "metadata": {},
     "output_type": "execute_result"
    }
   ],
   "source": [
    "W_m = np.random.uniform(low=-0.5, high=0.5, size=[10, Xs.shape[1]])\n",
    "W_m[0, :10]"
   ]
  },
  {
   "cell_type": "markdown",
   "metadata": {},
   "source": [
    "### Función signo"
   ]
  },
  {
   "cell_type": "code",
   "execution_count": 104,
   "metadata": {},
   "outputs": [],
   "source": [
    "def signo(x):\n",
    "    if (x >= 0):\n",
    "        return 1.\n",
    "    else:\n",
    "        return -1."
   ]
  },
  {
   "cell_type": "markdown",
   "metadata": {},
   "source": [
    "### Definición del objeto perceptrón"
   ]
  },
  {
   "cell_type": "code",
   "execution_count": 105,
   "metadata": {},
   "outputs": [],
   "source": [
    "class PerceptronImpl:\n",
    "    def __init__(self, aprendizaje=0.1, it=50):\n",
    "        self.aprendizaje = aprendizaje\n",
    "        self.it = it\n",
    "    #Para cambiar los pesos W en cada iteración se utiliza la siguiente fórmula\n",
    "    #W = W + n * (Y[indice] - respuestaActual)*vector características\n",
    "    #W = W + deltaW\n",
    "    \n",
    "    def respuestaRed(self, X, W):\n",
    "        return signo(self.respuestaZ(X, W))\n",
    "    \n",
    "    def respuestaZ(self, X, W):\n",
    "        return np.dot(X, W) + self.bias\n",
    "    \n",
    "    def entrenamiento(self, X, Y, W):\n",
    "        #Inicialización y copias locales. W se recibe como referencia, así que\n",
    "        #se va a modificar la matriz de pesos externa en el proceso de entrenamiento\n",
    "        self.target = np.where(Y == 1, 1., -1.)\n",
    "        self.bias = 0.0\n",
    "        [rowX, colX] = X.shape\n",
    "        self.error = np.zeros(self.it)\n",
    "        for i in range(0, self.it):\n",
    "            #Calcular la respuesta del clasificador con los pesos actuales.\n",
    "            for index in range(0, rowX):\n",
    "                #Calcular la respuesta de la red con los pesos actuales.\n",
    "                resp = self.respuestaRed(X[index], W)\n",
    "                #Calcular el error a utilizar para cada peso.\n",
    "                deltaW = self.aprendizaje * (self.target[index] - resp)\n",
    "                #Actualizar pesos\n",
    "                W += deltaW * X[index]\n",
    "                #Actualizar bias [b = deltaW]\n",
    "                self.bias += deltaW\n",
    "            #Se acumula la cantidad de muestras mal clasificadas después de la iteración.\n",
    "            for index in range(0, rowX):\n",
    "                self.error[i] += int(self.respuestaRed(X[index], W) != self.target[index])\n",
    "    \n",
    "    def accuracy(self, X, Y, W):\n",
    "        acc = 0\n",
    "        for index in range(0, X.shape[0]):\n",
    "            acc += int(self.respuestaRed(X[index], W) == self.target[index])\n",
    "        return acc/X.shape[0]\n",
    "    \n",
    "    def predict(self, X, W):\n",
    "        pred = np.zeros(X.shape[0])\n",
    "        for index in range(0, X.shape[0]):\n",
    "            #Se pasa el número de etiquetado de [-1, 1] a [0, 1]\n",
    "            if (self.respuestaRed(X[index], W) == 1):\n",
    "                pred[index] = 1\n",
    "            else:\n",
    "                pred[index] = 0\n",
    "        return pred\n",
    "            "
   ]
  },
  {
   "cell_type": "markdown",
   "metadata": {},
   "source": [
    "### Entrenamiento"
   ]
  },
  {
   "cell_type": "code",
   "execution_count": 106,
   "metadata": {},
   "outputs": [
    {
     "data": {
      "text/plain": [
       "(5000, 784)"
      ]
     },
     "execution_count": 106,
     "metadata": {},
     "output_type": "execute_result"
    }
   ],
   "source": [
    "#forma del conjunto para entrenamiento\n",
    "Xs.shape"
   ]
  },
  {
   "cell_type": "code",
   "execution_count": 107,
   "metadata": {},
   "outputs": [
    {
     "name": "stdout",
     "output_type": "stream",
     "text": [
      "Entrenamiento de dígito 0 con 50 iteraciones\n",
      "Cantidad de errores por iteracion:\n",
      " [611. 546. 471. 413. 367. 335. 302. 280. 263. 247. 234. 225. 216. 207.\n",
      " 199. 193. 180. 174. 172. 167. 165. 162. 158. 154. 150. 147. 144. 144.\n",
      " 140. 140. 137. 135. 132. 128. 127. 127. 127. 125. 123. 121. 122. 120.\n",
      " 118. 118. 118. 116. 115. 116. 115. 114.]\n",
      "Accuracy= 0.9772 \n",
      "\n",
      "Entrenamiento de dígito 1 con 50 iteraciones\n",
      "Cantidad de errores por iteracion:\n",
      " [571. 476. 396. 323. 285. 247. 230. 209. 186. 180. 171. 160. 151. 145.\n",
      " 140. 136. 132. 126. 125. 121. 114. 112. 108. 107. 105. 103. 102. 102.\n",
      " 100.  96.  96.  94.  94.  93.  90.  88.  87.  86.  86.  87.  86.  85.\n",
      "  85.  82.  81.  81.  80.  81.  81.  81.]\n",
      "Accuracy= 0.9838 \n",
      "\n",
      "Entrenamiento de dígito 2 con 50 iteraciones\n",
      "Cantidad de errores por iteracion:\n",
      " [672. 647. 604. 552. 499. 447. 420. 399. 374. 358. 350. 338. 327. 317.\n",
      " 308. 303. 298. 295. 292. 282. 276. 270. 268. 269. 262. 260. 256. 253.\n",
      " 255. 252. 252. 248. 245. 244. 242. 242. 242. 242. 242. 237. 235. 232.\n",
      " 231. 227. 227. 227. 224. 224. 222. 221.]\n",
      "Accuracy= 0.9558 \n",
      "\n",
      "Entrenamiento de dígito 3 con 50 iteraciones\n",
      "Cantidad de errores por iteracion:\n",
      " [713. 667. 645. 609. 575. 533. 498. 470. 450. 425. 406. 394. 377. 371.\n",
      " 359. 346. 342. 331. 320. 319. 312. 299. 296. 292. 289. 282. 278. 273.\n",
      " 267. 261. 255. 254. 253. 254. 253. 251. 249. 246. 246. 245. 242. 241.\n",
      " 240. 240. 239. 240. 235. 235. 234. 231.]\n",
      "Accuracy= 0.9538 \n",
      "\n",
      "Entrenamiento de dígito 4 con 50 iteraciones\n",
      "Cantidad de errores por iteracion:\n",
      " [639. 562. 496. 452. 412. 392. 373. 358. 340. 327. 313. 308. 302. 294.\n",
      " 284. 277. 270. 264. 260. 255. 249. 245. 237. 234. 232. 228. 225. 221.\n",
      " 215. 214. 212. 208. 206. 204. 202. 200. 201. 199. 194. 191. 188. 183.\n",
      " 181. 182. 177. 176. 174. 174. 173. 171.]\n",
      "Accuracy= 0.9658 \n",
      "\n",
      "Entrenamiento de dígito 5 con 50 iteraciones\n",
      "Cantidad de errores por iteracion:\n",
      " [695. 670. 671. 677. 665. 668. 641. 628. 607. 592. 573. 558. 540. 525.\n",
      " 508. 496. 488. 475. 464. 451. 444. 436. 426. 420. 415. 400. 391. 387.\n",
      " 380. 373. 365. 359. 353. 348. 343. 344. 337. 337. 335. 334. 330. 327.\n",
      " 323. 322. 320. 317. 315. 315. 314. 313.]\n",
      "Accuracy= 0.9374 \n",
      "\n",
      "Entrenamiento de dígito 6 con 50 iteraciones\n",
      "Cantidad de errores por iteracion:\n",
      " [947. 829. 713. 621. 529. 473. 431. 388. 355. 342. 328. 307. 291. 275.\n",
      " 264. 252. 248. 230. 222. 213. 214. 205. 199. 192. 186. 184. 174. 172.\n",
      " 168. 164. 166. 164. 163. 161. 161. 156. 154. 152. 152. 152. 150. 147.\n",
      " 143. 142. 137. 135. 135. 135. 135. 131.]\n",
      "Accuracy= 0.9738 \n",
      "\n",
      "Entrenamiento de dígito 7 con 50 iteraciones\n",
      "Cantidad de errores por iteracion:\n",
      " [695. 533. 443. 398. 359. 321. 304. 292. 285. 275. 262. 255. 245. 232.\n",
      " 223. 219. 219. 214. 208. 205. 202. 198. 197. 192. 186. 186. 186. 184.\n",
      " 181. 180. 180. 179. 176. 174. 175. 172. 173. 171. 167. 168. 168. 166.\n",
      " 165. 165. 162. 160. 160. 159. 157. 155.]\n",
      "Accuracy= 0.969 \n",
      "\n",
      "Entrenamiento de dígito 8 con 50 iteraciones\n",
      "Cantidad de errores por iteracion:\n",
      " [1443. 1340. 1224. 1131. 1042.  959.  907.  836.  800.  779.  759.  705.\n",
      "  683.  660.  632.  617.  611.  596.  582.  569.  559.  555.  546.  544.\n",
      "  544.  534.  533.  534.  532.  528.  523.  519.  518.  512.  510.  507.\n",
      "  500.  495.  490.  483.  481.  482.  476.  467.  469.  469.  459.  468.\n",
      "  465.  464.]\n",
      "Accuracy= 0.9072 \n",
      "\n",
      "Entrenamiento de dígito 9 con 50 iteraciones\n",
      "Cantidad de errores por iteracion:\n",
      " [1405. 1315. 1235. 1168. 1108. 1071. 1037.  997.  955.  929.  897.  883.\n",
      "  853.  821.  788.  762.  739.  722.  703.  681.  661.  645.  634.  622.\n",
      "  606.  595.  586.  584.  582.  562.  563.  558.  554.  548.  544.  540.\n",
      "  541.  540.  531.  529.  526.  520.  513.  506.  501.  490.  486.  483.\n",
      "  470.  463.]\n",
      "Accuracy= 0.9074 \n",
      "\n"
     ]
    }
   ],
   "source": [
    "# se muestra cómo se va entrenando cada dígito\n",
    "iteraciones = 50\n",
    "per = PerceptronImpl(aprendizaje=0.0001, it=iteraciones)\n",
    "predict = np.zeros((10, 5000))\n",
    "error_vect = np.zeros((10,iteraciones))\n",
    "\n",
    "# Durante el entrenamiento, mostrar la mejora en rendimiento de clasificación (accuracy)\n",
    "for i in range(0, 10):\n",
    "    print(\"Entrenamiento de dígito\", i, \"con\", iteraciones, \"iteraciones\")\n",
    "    per.entrenamiento(Xs, Y_m[i], W_m[i])\n",
    "    #Convertir las etiquetas de clasificación al rango [0, 9]\n",
    "    pred = per.predict(Xs, W_m[i])\n",
    "    for index in range(0, Xs.shape[0]):\n",
    "        predict[i][index] = per.respuestaZ(Xs[index], W_m[i])\n",
    "    error_vect[i] = per.error\n",
    "    print(\"Cantidad de errores por iteracion:\\n\", per.error[:50])\n",
    "    print(\"Accuracy=\", per.accuracy(Xs, Y_m[i], W_m[i]), \"\\n\")"
   ]
  },
  {
   "cell_type": "markdown",
   "metadata": {},
   "source": [
    "### Gráfica de mejora durante las iteraciones"
   ]
  },
  {
   "cell_type": "code",
   "execution_count": 108,
   "metadata": {},
   "outputs": [
    {
     "data": {
      "image/png": "[encoded data removed]",
      "text/plain": [
       "<Figure size 720x432 with 10 Axes>"
      ]
     },
     "metadata": {
      "needs_background": "light"
     },
     "output_type": "display_data"
    }
   ],
   "source": [
    "def plotGraph(it, error):\n",
    "    ren = 5\n",
    "    col = 2\n",
    "    \n",
    "    fig, axs = plt.subplots(ren, col)\n",
    "    fig.suptitle('Gráfica de mejora')\n",
    "    \n",
    "    #Se agregan los subplots a la figura final\n",
    "    for i in range(ren):\n",
    "        for j in range(col):\n",
    "            axs[i, j].plot(np.arange(0,it), error[i * 2 + j], '-')\n",
    "            axs[i, j].set_xlabel('Iteraciones')\n",
    "            axs[i, j].set_ylabel('Errores')\n",
    "    #espacio entre gráficas\n",
    "    plt.subplots_adjust(hspace = 0.4)\n",
    "  \n",
    "    plt.show()\n",
    "    \n",
    "plotGraph(iteraciones, error_vect)"
   ]
  },
  {
   "cell_type": "markdown",
   "metadata": {},
   "source": [
    "### Pruebas de rendimiento de clasificación (predict)"
   ]
  },
  {
   "cell_type": "markdown",
   "metadata": {},
   "source": [
    "## Resultados"
   ]
  },
  {
   "cell_type": "markdown",
   "metadata": {},
   "source": [
    "### Matriz de confusion  \n",
    "\n",
    "La matríz de confusión es una forma de visualizar el rendimiento de un algoritmo de clasificación que utiliza aprendizaje supervisado. Las columnas de esta matriz muestran las predicciones de cada una de las clases y las filas muestran las instancias de la clase objetivo. La ventaja de las matrices de confusión es que se puede observar claramente cómo es la distribución de clasificación de las muestras del predictor con respecto a la clase objetivo.\n",
    "\n",
    "<img src=\"matconf.png\">"
   ]
  },
  {
   "cell_type": "code",
   "execution_count": 109,
   "metadata": {},
   "outputs": [
    {
     "data": {
      "text/plain": [
       "array([[462,   0,   3,   3,   1,   7,   7,   3,  11,   3],\n",
       "       [  0, 460,   4,   5,   1,   5,   1,   3,  18,   3],\n",
       "       [  7,   8, 387,  13,  14,   5,  12,   8,  38,   8],\n",
       "       [  1,   1,  12, 387,   0,  42,   4,  10,  28,  15],\n",
       "       [  2,   3,   5,   1, 401,   4,  11,   9,  16,  48],\n",
       "       [  8,   4,   2,  21,   5, 354,  12,   3,  64,  27],\n",
       "       [  7,   2,   3,   0,   2,   3, 462,   2,  16,   3],\n",
       "       [  2,   2,   5,   4,   7,   2,   0, 403,  13,  62],\n",
       "       [  1,   4,   6,   8,   4,  11,   5,   5, 432,  24],\n",
       "       [  5,   2,   4,   9,  10,   3,   1,  17,  11, 438]], dtype=int64)"
      ]
     },
     "execution_count": 109,
     "metadata": {},
     "output_type": "execute_result"
    }
   ],
   "source": [
    "predict_vect = np.zeros(5000)\n",
    "for i in range(0,5000):\n",
    "    result = np.where(predict.T[i] == np.amax(predict.T[i]))\n",
    "    predict_vect[i] = result[0][0] \n",
    "predict_vect\n",
    "\n",
    "confusion_matrix(Y, predict_vect)"
   ]
  },
  {
   "cell_type": "markdown",
   "metadata": {},
   "source": [
    "### Precisión (Accuracy score)  \n",
    "\n",
    "El accuracy o score es un valor que permite saber la efectividad de clasificación de un algoritmo de aprendizaje. Este valor representa el porcentaje de muestras que fueron clasificadas de forma correcta con respecto al vector objetivo."
   ]
  },
  {
   "cell_type": "code",
   "execution_count": 110,
   "metadata": {},
   "outputs": [
    {
     "name": "stdout",
     "output_type": "stream",
     "text": [
      "0.8372\n"
     ]
    }
   ],
   "source": [
    "#Accuracy\n",
    "acc = (predict_vect == Y)*1.0\n",
    "acc = np.count_nonzero(acc==1)/5000\n",
    "print(acc)"
   ]
  },
  {
   "cell_type": "markdown",
   "metadata": {},
   "source": [
    "## Adaline"
   ]
  },
  {
   "cell_type": "code",
   "execution_count": 111,
   "metadata": {},
   "outputs": [
    {
     "name": "stderr",
     "output_type": "stream",
     "text": [
      "\r",
      "Iteration: 1/10 | Cost 969.61 | Elapsed: 00:00:00 | ETA: 00:00:00"
     ]
    },
    {
     "name": "stdout",
     "output_type": "stream",
     "text": [
      "Entrenamiento del dígito  0\n"
     ]
    },
    {
     "name": "stderr",
     "output_type": "stream",
     "text": [
      "Iteration: 3/10 | Cost 622.54 | Elapsed: 00:00:00 | ETA: 00:00:00"
     ]
    },
    {
     "name": "stdout",
     "output_type": "stream",
     "text": [
      "<mlxtend.classifier.adaline.Adaline object at 0x0000017AC798E5F8>\n",
      "Score =  0.9738 \n",
      "\n",
      "Entrenamiento del dígito  1\n"
     ]
    },
    {
     "name": "stderr",
     "output_type": "stream",
     "text": [
      "Iteration: 3/10 | Cost 827.53 | Elapsed: 00:00:00 | ETA: 00:00:00"
     ]
    },
    {
     "name": "stdout",
     "output_type": "stream",
     "text": [
      "<mlxtend.classifier.adaline.Adaline object at 0x0000017AC798EA20>\n",
      "Score =  0.9608 \n",
      "\n",
      "Entrenamiento del dígito  2\n"
     ]
    },
    {
     "name": "stderr",
     "output_type": "stream",
     "text": [
      "Iteration: 3/10 | Cost 820.05 | Elapsed: 00:00:00 | ETA: 00:00:00"
     ]
    },
    {
     "name": "stdout",
     "output_type": "stream",
     "text": [
      "<mlxtend.classifier.adaline.Adaline object at 0x0000017AC798EB00>\n",
      "Score =  0.9198 \n",
      "\n",
      "Entrenamiento del dígito  3\n"
     ]
    },
    {
     "name": "stderr",
     "output_type": "stream",
     "text": [
      "Iteration: 3/10 | Cost 741.61 | Elapsed: 00:00:00 | ETA: 00:00:00"
     ]
    },
    {
     "name": "stdout",
     "output_type": "stream",
     "text": [
      "<mlxtend.classifier.adaline.Adaline object at 0x0000017AC798EA20>\n",
      "Score =  0.9216 \n",
      "\n",
      "Entrenamiento del dígito  4\n"
     ]
    },
    {
     "name": "stderr",
     "output_type": "stream",
     "text": [
      "Iteration: 2/10 | Cost 885.13 | Elapsed: 00:00:00 | ETA: 00:00:00"
     ]
    },
    {
     "name": "stdout",
     "output_type": "stream",
     "text": [
      "<mlxtend.classifier.adaline.Adaline object at 0x0000017AC798E5F8>\n",
      "Score =  0.9202 \n",
      "\n",
      "Entrenamiento del dígito  5\n"
     ]
    },
    {
     "name": "stderr",
     "output_type": "stream",
     "text": [
      "Iteration: 3/10 | Cost 762.33 | Elapsed: 00:00:00 | ETA: 00:00:00"
     ]
    },
    {
     "name": "stdout",
     "output_type": "stream",
     "text": [
      "<mlxtend.classifier.adaline.Adaline object at 0x0000017AC798EB00>\n",
      "Score =  0.9002 \n",
      "\n",
      "Entrenamiento del dígito  6\n"
     ]
    },
    {
     "name": "stderr",
     "output_type": "stream",
     "text": [
      "Iteration: 3/10 | Cost 725.36 | Elapsed: 00:00:00 | ETA: 00:00:00"
     ]
    },
    {
     "name": "stdout",
     "output_type": "stream",
     "text": [
      "<mlxtend.classifier.adaline.Adaline object at 0x0000017AC798EA20>\n",
      "Score =  0.944 \n",
      "\n",
      "Entrenamiento del dígito  7\n"
     ]
    },
    {
     "name": "stderr",
     "output_type": "stream",
     "text": [
      "Iteration: 3/10 | Cost 1020.68 | Elapsed: 00:00:00 | ETA: 00:00:00"
     ]
    },
    {
     "name": "stdout",
     "output_type": "stream",
     "text": [
      "<mlxtend.classifier.adaline.Adaline object at 0x0000017AC798EC18>\n",
      "Score =  0.9416 \n",
      "\n",
      "Entrenamiento del dígito  8\n"
     ]
    },
    {
     "name": "stderr",
     "output_type": "stream",
     "text": [
      "Iteration: 3/10 | Cost 887.54 | Elapsed: 00:00:00 | ETA: 00:00:00"
     ]
    },
    {
     "name": "stdout",
     "output_type": "stream",
     "text": [
      "<mlxtend.classifier.adaline.Adaline object at 0x0000017AC798EB00>\n",
      "Score =  0.9 \n",
      "\n",
      "Entrenamiento del dígito  9\n"
     ]
    },
    {
     "name": "stderr",
     "output_type": "stream",
     "text": [
      "Iteration: 10/10 | Cost 766.66 | Elapsed: 0:00:00 | ETA: 0:00:000"
     ]
    },
    {
     "name": "stdout",
     "output_type": "stream",
     "text": [
      "<mlxtend.classifier.adaline.Adaline object at 0x0000017AC798E5F8>\n",
      "Score =  0.9 \n",
      "\n"
     ]
    }
   ],
   "source": [
    "for i in range(0, 10):\n",
    "    ada = Adaline(eta=0.00001, epochs=10, minibatches = 10, random_seed=1, print_progress=3)\n",
    "    print(\"Entrenamiento del dígito \", i)\n",
    "    print(ada.fit(Xs, Y_m[i]))\n",
    "    print(\"Score = \",ada.score(Xs, Y_m[i]), \"\\n\")"
   ]
  },
  {
   "cell_type": "markdown",
   "metadata": {},
   "source": [
    "### Generacion de pesos aleatorios \n"
   ]
  },
  {
   "cell_type": "code",
   "execution_count": 112,
   "metadata": {},
   "outputs": [],
   "source": [
    "W_m = np.random.uniform(low= -0.2, high=0.2, size=[10,colX])"
   ]
  },
  {
   "cell_type": "markdown",
   "metadata": {},
   "source": [
    "### Definición de la clase AdalineImpl"
   ]
  },
  {
   "cell_type": "code",
   "execution_count": 113,
   "metadata": {},
   "outputs": [],
   "source": [
    "class AdalineImpl:\n",
    "    def __init__(self, aprendizaje=0.1, it=50):\n",
    "        self.aprendizaje = aprendizaje\n",
    "        self.it = it\n",
    "    #Para cambiar los pesos W en cada iteración se utiliza la siguiente fórmula\n",
    "    #W = (X.trans . X)^−1 . X.trans . target \n",
    "    \n",
    "    def respuestaZ(self, X, W):\n",
    "        return np.dot(X, W) + self.bias\n",
    "    \n",
    "    def respuestaRed(self, X, W):\n",
    "        return signo(self.respuestaZ(X, W))\n",
    "    \n",
    "    def entrenamiento(self, X, Y, W):\n",
    "        #Inicialización y copias locales. W se recibe como referencia, así que\n",
    "        #se va a modificar la matriz de pesos externa en el proceso de entrenamiento\n",
    "        self.target = np.where(Y == 1, 1., -1.)\n",
    "        self.bias = 0.0\n",
    "        [rowX, colX] = X.shape\n",
    "        self.XX = X\n",
    "        self.error = np.zeros(self.it)\n",
    "        indexPool = np.arange(100)\n",
    "        np.random.shuffle(indexPool)\n",
    "        for it in range(0, self.it):\n",
    "            #Calcular la respuesta del clasificador con los pesos actuales.\n",
    "            for index in range(0, rowX):\n",
    "                #Calcular la respuesta de la red con los pesos actuales.\n",
    "                resp = self.respuestaZ(X[index], W)\n",
    "                #Calcular el error\n",
    "                error = self.target[index] - resp\n",
    "                #Actualizar pesos\n",
    "                W += self.aprendizaje * error * X[index]\n",
    "                #Actualizar bias [b = b + aprendizaje * error]\n",
    "                self.bias += self.aprendizaje * error\n",
    "            #Se acumula la cantidad de muestras mal clasificadas después de la iteración.\n",
    "            for index in range(0, rowX):\n",
    "                self.error[it] += int(self.respuestaRed(X[index], W) != self.target[index])\n",
    "\n",
    "    def accuracy(self, X, Y, W):\n",
    "        acc = 0\n",
    "        for index in range(0, X.shape[0]):\n",
    "            acc += int(self.respuestaRed(X[index], W) == self.target[index])\n",
    "        return acc/X.shape[0]\n",
    "    \n",
    "    def predict(self, X, W):\n",
    "        pred = np.zeros(X.shape[0])\n",
    "        for index in range(0, X.shape[0]):\n",
    "            #Se pasa el número de etiquetado de [-1, 1] a [0, 1]\n",
    "            if (self.respuestaRed(X[index], W) == 1):\n",
    "                pred[index] = 1\n",
    "            else:\n",
    "                pred[index] = 0\n",
    "        return pred\n",
    "            "
   ]
  },
  {
   "cell_type": "markdown",
   "metadata": {},
   "source": [
    "#### Entrenamiento"
   ]
  },
  {
   "cell_type": "code",
   "execution_count": 114,
   "metadata": {
    "scrolled": true
   },
   "outputs": [
    {
     "name": "stdout",
     "output_type": "stream",
     "text": [
      "Entrenamiento de dígito 0 con 50 iteraciones\n",
      "Errores por iteración:\n",
      " [1062.  764.  706.  656.  622.  591.  568.  529.  506.  478.  455.  439.\n",
      "  413.  396.  381.  371.  364.  356.  346.  336.  326.  322.  317.  307.\n",
      "  300.  291.  289.  283.  282.  276.  275.  272.  267.  265.  261.  261.\n",
      "  259.  254.  252.  252.  247.  244.  239.  238.  236.  236.  230.  229.\n",
      "  225.  219.]\n",
      "Accuracy =  0.9562 \n",
      "\n",
      "Entrenamiento de dígito 1 con 50 iteraciones\n",
      "Errores por iteración:\n",
      " [1104.  961.  869.  795.  761.  726.  692.  657.  634.  615.  586.  567.\n",
      "  533.  513.  490.  472.  457.  432.  418.  400.  387.  378.  369.  362.\n",
      "  347.  335.  327.  316.  304.  300.  300.  292.  286.  284.  277.  275.\n",
      "  273.  269.  269.  259.  254.  252.  250.  249.  247.  246.  246.  246.\n",
      "  245.  239.]\n",
      "Accuracy =  0.9522 \n",
      "\n",
      "Entrenamiento de dígito 2 con 50 iteraciones\n",
      "Errores por iteración:\n",
      " [1309.  923.  836.  800.  771.  750.  725.  706.  694.  673.  655.  635.\n",
      "  623.  608.  604.  590.  576.  572.  556.  542.  533.  523.  521.  511.\n",
      "  504.  497.  490.  482.  476.  469.  464.  460.  458.  455.  449.  438.\n",
      "  435.  430.  425.  420.  411.  407.  404.  403.  392.  389.  384.  381.\n",
      "  378.  374.]\n",
      "Accuracy =  0.9252 \n",
      "\n",
      "Entrenamiento de dígito 3 con 50 iteraciones\n",
      "Errores por iteración:\n",
      " [1157.  983.  899.  845.  813.  782.  753.  738.  713.  693.  679.  658.\n",
      "  643.  626.  610.  596.  580.  569.  563.  549.  541.  529.  514.  509.\n",
      "  494.  485.  482.  474.  473.  467.  464.  458.  457.  454.  448.  448.\n",
      "  444.  441.  439.  436.  436.  436.  433.  431.  426.  426.  424.  423.\n",
      "  418.  418.]\n",
      "Accuracy =  0.9164 \n",
      "\n",
      "Entrenamiento de dígito 4 con 50 iteraciones\n",
      "Errores por iteración:\n",
      " [1273. 1011.  923.  859.  804.  758.  728.  708.  687.  654.  632.  617.\n",
      "  595.  581.  567.  550.  532.  519.  508.  493.  483.  470.  464.  455.\n",
      "  450.  440.  442.  435.  427.  423.  415.  412.  404.  392.  390.  384.\n",
      "  379.  371.  371.  369.  369.  364.  364.  361.  356.  356.  350.  349.\n",
      "  348.  345.]\n",
      "Accuracy =  0.931 \n",
      "\n",
      "Entrenamiento de dígito 5 con 50 iteraciones\n",
      "Errores por iteración:\n",
      " [ 970. 1081. 1045.  988.  937.  895.  865.  817.  779.  744.  719.  698.\n",
      "  668.  662.  654.  641.  623.  616.  604.  593.  583.  579.  567.  563.\n",
      "  553.  548.  541.  535.  524.  521.  516.  510.  500.  493.  493.  489.\n",
      "  480.  474.  468.  458.  453.  443.  440.  439.  435.  433.  431.  430.\n",
      "  427.  426.]\n",
      "Accuracy =  0.9148 \n",
      "\n",
      "Entrenamiento de dígito 6 con 50 iteraciones\n",
      "Errores por iteración:\n",
      " [1419. 1088.  992.  923.  856.  806.  748.  699.  668.  633.  600.  566.\n",
      "  544.  519.  487.  460.  448.  434.  421.  409.  394.  384.  377.  363.\n",
      "  350.  342.  337.  329.  328.  324.  322.  314.  312.  310.  307.  303.\n",
      "  298.  292.  289.  285.  280.  277.  274.  263.  260.  257.  256.  250.\n",
      "  248.  246.]\n",
      "Accuracy =  0.9508 \n",
      "\n",
      "Entrenamiento de dígito 7 con 50 iteraciones\n",
      "Errores por iteración:\n",
      " [1010.  951.  902.  847.  796.  751.  701.  656.  615.  597.  575.  558.\n",
      "  534.  512.  492.  471.  453.  433.  423.  415.  400.  392.  382.  368.\n",
      "  362.  355.  355.  346.  335.  329.  325.  320.  312.  308.  300.  295.\n",
      "  293.  289.  285.  278.  274.  268.  266.  265.  260.  261.  257.  253.\n",
      "  252.  247.]\n",
      "Accuracy =  0.9506 \n",
      "\n",
      "Entrenamiento de dígito 8 con 50 iteraciones\n",
      "Errores por iteración:\n",
      " [1860. 1542. 1414. 1331. 1259. 1193. 1128. 1073. 1035.  983.  946.  906.\n",
      "  869.  844.  823.  797.  780.  758.  741.  722.  707.  690.  681.  668.\n",
      "  649.  638.  628.  618.  618.  616.  598.  592.  586.  581.  575.  570.\n",
      "  559.  558.  552.  547.  547.  545.  541.  533.  525.  522.  514.  504.\n",
      "  495.  490.]\n",
      "Accuracy =  0.902 \n",
      "\n",
      "Entrenamiento de dígito 9 con 50 iteraciones\n",
      "Errores por iteración:\n",
      " [1641. 1473. 1377. 1244. 1138. 1058.  980.  916.  872.  830.  801.  783.\n",
      "  764.  738.  721.  717.  702.  693.  675.  659.  644.  638.  629.  616.\n",
      "  606.  602.  592.  585.  575.  564.  553.  544.  535.  530.  528.  518.\n",
      "  516.  514.  509.  502.  500.  491.  484.  480.  477.  474.  472.  467.\n",
      "  464.  461.]\n",
      "Accuracy =  0.9078 \n",
      "\n"
     ]
    }
   ],
   "source": [
    "# Durante el entrenamiento, mostrar la mejora en rendimiento de clasificación (accuracy)\n",
    "iteraciones = 50\n",
    "# se muestra cómo se va entrenando cada dígito\n",
    "ada = AdalineImpl(aprendizaje=0.00001, it=iteraciones)\n",
    "predict = np.zeros((10, 5000))\n",
    "error_vect = np.zeros((10,iteraciones))\n",
    "# Durante el entrenamiento, mostrar la mejora en rendimiento de clasificación (accuracy)\n",
    "for i in range(0, 10):\n",
    "    print(\"Entrenamiento de dígito\", i , \"con\", iteraciones, \"iteraciones\")\n",
    "    ada.entrenamiento(Xs, Y_m[i], W_m[i])\n",
    "    #Convertir las etiquetas de clasificación al rango [0, 9]\n",
    "    pred = ada.predict(Xs, W_m[i])\n",
    "    for index in range(0, Xs.shape[0]):\n",
    "        predict[i][index] = per.respuestaZ(Xs[index], W_m[i])\n",
    "    error_vect[i] = ada.error\n",
    "    print(\"Errores por iteración:\\n\", ada.error)\n",
    "    print(\"Accuracy = \", ada.accuracy(Xs, Y_m[i], W_m[i]), \"\\n\")"
   ]
  },
  {
   "cell_type": "code",
   "execution_count": 115,
   "metadata": {},
   "outputs": [
    {
     "data": {
      "image/png": "[encoded data removed]",
      "text/plain": [
       "<Figure size 720x432 with 10 Axes>"
      ]
     },
     "metadata": {
      "needs_background": "light"
     },
     "output_type": "display_data"
    }
   ],
   "source": [
    "#Se muestran las gráficas de mejora\n",
    "plotGraph(iteraciones, error_vect)"
   ]
  },
  {
   "cell_type": "markdown",
   "metadata": {},
   "source": [
    "### Pruebas de rendimiento"
   ]
  },
  {
   "cell_type": "code",
   "execution_count": null,
   "metadata": {},
   "outputs": [],
   "source": []
  },
  {
   "cell_type": "code",
   "execution_count": 116,
   "metadata": {},
   "outputs": [
    {
     "data": {
      "text/plain": [
       "array([[425,   0,   6,   8,   3,  12,  17,   5,  15,   9],\n",
       "       [  1, 420,  17,  16,   0,   1,   9,   0,  26,  10],\n",
       "       [ 17,  24, 288,  31,  17,   5,  41,  19,  49,   9],\n",
       "       [ 13,  11,  22, 336,   5,  17,  16,  12,  46,  22],\n",
       "       [  6,  12,  11,  10, 304,   5,  13,  10,  40,  89],\n",
       "       [ 28,  12,  13,  53,  29, 207,  33,   7,  86,  32],\n",
       "       [ 10,  12,   9,   1,   8,  10, 422,   3,  17,   8],\n",
       "       [ 10,  22,   9,   7,  24,   1,   2, 338,  12,  75],\n",
       "       [  7,  22,  13,  24,   9,  17,  12,   7, 355,  34],\n",
       "       [ 11,   4,  13,  13,  16,   1,   5,  15,  37, 385]], dtype=int64)"
      ]
     },
     "execution_count": 116,
     "metadata": {},
     "output_type": "execute_result"
    }
   ],
   "source": [
    "#Matriz de confusión\n",
    "predict_vect = np.zeros(5000)\n",
    "for i in range(0,5000):\n",
    "    result = np.where(predict.T[i] == np.amax(predict.T[i]))\n",
    "    predict_vect[i] = result[0][0] \n",
    "predict_vect\n",
    "confusion_matrix(Y, predict_vect)"
   ]
  },
  {
   "cell_type": "markdown",
   "metadata": {},
   "source": [
    "### Precisión (Accuracy score)"
   ]
  },
  {
   "cell_type": "code",
   "execution_count": 117,
   "metadata": {},
   "outputs": [
    {
     "name": "stdout",
     "output_type": "stream",
     "text": [
      "0.696\n"
     ]
    }
   ],
   "source": [
    "#Accuracy\n",
    "acc = (predict_vect == Y)*1.0\n",
    "acc = np.count_nonzero(acc==1)/5000\n",
    "print(acc)"
   ]
  },
  {
   "cell_type": "markdown",
   "metadata": {},
   "source": [
    "## Conclusiones\n",
    "\n",
    "Esta práctica fue de gran valor didáctico para poder comprender el funcionamiento de las redes neuronales básicas. En este caso se experimentó con el Perceptrón y el Adaline.\n",
    "\n",
    "Utilizando diferentes ajustes se pueden obtener diferentes resultados, también influye mucho la cantidad de iteraciones que se le den a las redes durante el entrenamiento. En los resultados se puede observar que el Perceptrón tiene mejores resultados utilizando la misma cantidad de iteraciones.\n",
    "\n",
    "Las matrices de confusión muestran la dispersión de la clasificación de cada una de las redes. En un principio el perceptrón tenia un sesgo de fallo hacia el número 9, pero esto se corrigió utilizando un menor factor de aprendizaje.\n",
    "\n",
    "Las mejoras más notables ocurrian en un rango de iteraciones desde la 1 hasta la 20, de ahí la mejora no era demasiado grande.\n",
    "\n",
    "Cuando hay muchos elementos de una clase y pocos de otra, se crea un sesgo de error de fallo hacia la clase con más elementos.\n",
    "\n",
    "En conclusión, esta práctica fue de gran ayuda para comprender más a fondo el funcionamiento de las redes neuronales. Realizar la implementación resolvió muchas dudas que se tenóan respecto a los conceptos vistos en clase y en la teoría."
   ]
  }
 ],
 "metadata": {
  "kernelspec": {
   "display_name": "Python 3",
   "language": "python",
   "name": "python3"
  },
  "language_info": {
   "codemirror_mode": {
    "name": "ipython",
    "version": 3
   },
   "file_extension": ".py",
   "mimetype": "text/x-python",
   "name": "python",
   "nbconvert_exporter": "python",
   "pygments_lexer": "ipython3",
   "version": "3.7.1"
  }
 },
 "nbformat": 4,
 "nbformat_minor": 2
}
